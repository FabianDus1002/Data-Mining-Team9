{
 "cells": [
  {
   "cell_type": "markdown",
   "id": "0bcc1711",
   "metadata": {},
   "source": [
    "# Data import \n"
   ]
  },
  {
   "cell_type": "code",
   "execution_count": 11,
   "id": "e4256aba",
   "metadata": {},
   "outputs": [
    {
     "name": "stdout",
     "output_type": "stream",
     "text": [
      "Anzahl der Zeilen: 303\n",
      "303\n"
     ]
    },
    {
     "ename": "TypeError",
     "evalue": "'target_names' is an invalid keyword argument for print()",
     "output_type": "error",
     "traceback": [
      "\u001b[1;31m---------------------------------------------------------------------------\u001b[0m",
      "\u001b[1;31mTypeError\u001b[0m                                 Traceback (most recent call last)",
      "Cell \u001b[1;32mIn[11], line 26\u001b[0m\n\u001b[0;32m     23\u001b[0m student_data\u001b[38;5;241m.\u001b[39mhead(\u001b[38;5;241m10\u001b[39m)\n\u001b[0;32m     25\u001b[0m unique_classes \u001b[38;5;241m=\u001b[39m student_data_unpr[\u001b[38;5;124m'\u001b[39m\u001b[38;5;124mStudium_Label\u001b[39m\u001b[38;5;124m'\u001b[39m]\u001b[38;5;241m.\u001b[39munique()\n\u001b[1;32m---> 26\u001b[0m \u001b[38;5;28mprint\u001b[39m(target_names \u001b[38;5;241m=\u001b[39m \u001b[38;5;28mlist\u001b[39m(unique_classes))\n",
      "\u001b[1;31mTypeError\u001b[0m: 'target_names' is an invalid keyword argument for print()"
     ]
    }
   ],
   "source": [
    "import pandas as pd\n",
    "# import of data\n",
    "student_data_unpr = pd.read_excel(\"../data/subset_studium_german.xlsx\")\n",
    "student_data_unpr = student_data_unpr[student_data_unpr[\"Studium_Label\"].notnull()]\n",
    "student_data_unpr = student_data_unpr.drop(\"Unnamed: 0\", axis=1)\n",
    "student_data_unpr = student_data_unpr.drop(\"Studium_Comment\", axis=1)\n",
    "\n",
    "#Reduction to 103 entries\n",
    "student_data_unpr = student_data_unpr.drop(student_data_unpr.index[303:], axis=0)\n",
    "\n",
    "#Creation of a copy and reduction to column \"Studium\"\n",
    "student_data = student_data_unpr\n",
    "student_data = student_data.drop(\"Studium_Label\", axis=1)\n",
    "\n",
    "\n"
   ]
  },
  {
   "cell_type": "markdown",
   "id": "5e29b04b",
   "metadata": {},
   "source": [
    "# OpenAI GPT3.5 application"
   ]
  },
  {
   "cell_type": "code",
   "execution_count": 2,
   "id": "c17aac67",
   "metadata": {},
   "outputs": [],
   "source": [
    "from openai import OpenAI\n",
    "client = OpenAI()\n",
    "\n"
   ]
  },
  {
   "cell_type": "code",
   "execution_count": 4,
   "id": "0a249f22",
   "metadata": {},
   "outputs": [],
   "source": [
    "#Prompt for GPT\n",
    "initial_message = {\"role\": \"user\", \"content\": \"You are my sentiment assistant. I want you to analyze my text and categorize it into the three sentiments: positive, neutral, negative. Only response with either positive, neutral or negative\"}\n",
    "\n",
    "results=[]\n",
    "results_df = []\n",
    "\n",
    "# Sending labeling requests to GPT\n",
    "for index, eintrag in student_data.iterrows():\n",
    "    for inhalt in eintrag:\n",
    "        response = client.chat.completions.create(\n",
    "            model=\"gpt-3.5-turbo\",\n",
    "            messages=[\n",
    "                initial_message,\n",
    "                {\"role\": \"user\", \"content\": inhalt}\n",
    "            ],\n",
    "            temperature=0,\n",
    "        )\n",
    "        \n",
    "        # Saving of responses \n",
    "        results.append({\"index\": index, \"sentimentPrediction\": response.choices[0].message.content})\n",
    "\n",
    "# Conversion of responses into dataframe\n",
    "results_df = pd.DataFrame(results)\n",
    "\n",
    "\n"
   ]
  },
  {
   "cell_type": "code",
   "execution_count": 5,
   "id": "d478d91c",
   "metadata": {},
   "outputs": [
    {
     "data": {
      "text/html": [
       "<div>\n",
       "<style scoped>\n",
       "    .dataframe tbody tr th:only-of-type {\n",
       "        vertical-align: middle;\n",
       "    }\n",
       "\n",
       "    .dataframe tbody tr th {\n",
       "        vertical-align: top;\n",
       "    }\n",
       "\n",
       "    .dataframe thead th {\n",
       "        text-align: right;\n",
       "    }\n",
       "</style>\n",
       "<table border=\"1\" class=\"dataframe\">\n",
       "  <thead>\n",
       "    <tr style=\"text-align: right;\">\n",
       "      <th></th>\n",
       "      <th>index</th>\n",
       "      <th>sentimentPrediction</th>\n",
       "    </tr>\n",
       "  </thead>\n",
       "  <tbody>\n",
       "    <tr>\n",
       "      <th>0</th>\n",
       "      <td>0</td>\n",
       "      <td>neutral</td>\n",
       "    </tr>\n",
       "    <tr>\n",
       "      <th>1</th>\n",
       "      <td>1</td>\n",
       "      <td>positive</td>\n",
       "    </tr>\n",
       "    <tr>\n",
       "      <th>2</th>\n",
       "      <td>2</td>\n",
       "      <td>neutral</td>\n",
       "    </tr>\n",
       "    <tr>\n",
       "      <th>3</th>\n",
       "      <td>3</td>\n",
       "      <td>positive</td>\n",
       "    </tr>\n",
       "    <tr>\n",
       "      <th>4</th>\n",
       "      <td>4</td>\n",
       "      <td>positive</td>\n",
       "    </tr>\n",
       "    <tr>\n",
       "      <th>...</th>\n",
       "      <td>...</td>\n",
       "      <td>...</td>\n",
       "    </tr>\n",
       "    <tr>\n",
       "      <th>298</th>\n",
       "      <td>300</td>\n",
       "      <td>neutral</td>\n",
       "    </tr>\n",
       "    <tr>\n",
       "      <th>299</th>\n",
       "      <td>301</td>\n",
       "      <td>positive</td>\n",
       "    </tr>\n",
       "    <tr>\n",
       "      <th>300</th>\n",
       "      <td>302</td>\n",
       "      <td>positive</td>\n",
       "    </tr>\n",
       "    <tr>\n",
       "      <th>301</th>\n",
       "      <td>303</td>\n",
       "      <td>neutral</td>\n",
       "    </tr>\n",
       "    <tr>\n",
       "      <th>302</th>\n",
       "      <td>304</td>\n",
       "      <td>neutral</td>\n",
       "    </tr>\n",
       "  </tbody>\n",
       "</table>\n",
       "<p>303 rows × 2 columns</p>\n",
       "</div>"
      ],
      "text/plain": [
       "     index sentimentPrediction\n",
       "0        0             neutral\n",
       "1        1            positive\n",
       "2        2             neutral\n",
       "3        3            positive\n",
       "4        4            positive\n",
       "..     ...                 ...\n",
       "298    300             neutral\n",
       "299    301            positive\n",
       "300    302            positive\n",
       "301    303             neutral\n",
       "302    304             neutral\n",
       "\n",
       "[303 rows x 2 columns]"
      ]
     },
     "metadata": {},
     "output_type": "display_data"
    }
   ],
   "source": [
    "display(results_df)"
   ]
  },
  {
   "cell_type": "markdown",
   "id": "11cc10f0",
   "metadata": {},
   "source": [
    "# Evaluation"
   ]
  },
  {
   "cell_type": "code",
   "execution_count": 30,
   "id": "dc9080fa",
   "metadata": {
    "scrolled": false
   },
   "outputs": [
    {
     "data": {
      "text/html": [
       "<div>\n",
       "<style scoped>\n",
       "    .dataframe tbody tr th:only-of-type {\n",
       "        vertical-align: middle;\n",
       "    }\n",
       "\n",
       "    .dataframe tbody tr th {\n",
       "        vertical-align: top;\n",
       "    }\n",
       "\n",
       "    .dataframe thead th {\n",
       "        text-align: right;\n",
       "    }\n",
       "</style>\n",
       "<table border=\"1\" class=\"dataframe\">\n",
       "  <thead>\n",
       "    <tr style=\"text-align: right;\">\n",
       "      <th></th>\n",
       "      <th>Studium</th>\n",
       "      <th>Studium_Label</th>\n",
       "      <th>sentimentPrediction</th>\n",
       "    </tr>\n",
       "  </thead>\n",
       "  <tbody>\n",
       "    <tr>\n",
       "      <th>0</th>\n",
       "      <td>Die Vorlesungszeit war von Anfang September bi...</td>\n",
       "      <td>neutral</td>\n",
       "      <td>neutral</td>\n",
       "    </tr>\n",
       "    <tr>\n",
       "      <th>1</th>\n",
       "      <td>Die Pazmany Universität ist sehr klein im Verg...</td>\n",
       "      <td>positive</td>\n",
       "      <td>positive</td>\n",
       "    </tr>\n",
       "    <tr>\n",
       "      <th>2</th>\n",
       "      <td>Mit der Universität selbst hatten wir wenig zu...</td>\n",
       "      <td>neutral</td>\n",
       "      <td>neutral</td>\n",
       "    </tr>\n",
       "    <tr>\n",
       "      <th>3</th>\n",
       "      <td>Da die Vorlesungen wegen der Pandemie online s...</td>\n",
       "      <td>positive</td>\n",
       "      <td>positive</td>\n",
       "    </tr>\n",
       "    <tr>\n",
       "      <th>4</th>\n",
       "      <td>Die City University of Hong Kong hat eine groß...</td>\n",
       "      <td>negative</td>\n",
       "      <td>positive</td>\n",
       "    </tr>\n",
       "    <tr>\n",
       "      <th>...</th>\n",
       "      <td>...</td>\n",
       "      <td>...</td>\n",
       "      <td>...</td>\n",
       "    </tr>\n",
       "    <tr>\n",
       "      <th>298</th>\n",
       "      <td>Die Cardiff University sieht sich selbst als r...</td>\n",
       "      <td>positive</td>\n",
       "      <td>neutral</td>\n",
       "    </tr>\n",
       "    <tr>\n",
       "      <th>299</th>\n",
       "      <td>Die Kurse können je nach Wahl natürlich mal me...</td>\n",
       "      <td>neutral</td>\n",
       "      <td>positive</td>\n",
       "    </tr>\n",
       "    <tr>\n",
       "      <th>300</th>\n",
       "      <td>Ich entschied mich, alle Kurse auf Spanisch zu...</td>\n",
       "      <td>neutral</td>\n",
       "      <td>positive</td>\n",
       "    </tr>\n",
       "    <tr>\n",
       "      <th>301</th>\n",
       "      <td>Die Studienzeiten in England unterscheiden sic...</td>\n",
       "      <td>neutral</td>\n",
       "      <td>neutral</td>\n",
       "    </tr>\n",
       "    <tr>\n",
       "      <th>302</th>\n",
       "      <td>Das Studium an der UofT sieht anders aus als m...</td>\n",
       "      <td>neutral</td>\n",
       "      <td>neutral</td>\n",
       "    </tr>\n",
       "  </tbody>\n",
       "</table>\n",
       "<p>299 rows × 3 columns</p>\n",
       "</div>"
      ],
      "text/plain": [
       "                                               Studium Studium_Label  \\\n",
       "0    Die Vorlesungszeit war von Anfang September bi...       neutral   \n",
       "1    Die Pazmany Universität ist sehr klein im Verg...      positive   \n",
       "2    Mit der Universität selbst hatten wir wenig zu...       neutral   \n",
       "3    Da die Vorlesungen wegen der Pandemie online s...      positive   \n",
       "4    Die City University of Hong Kong hat eine groß...      negative   \n",
       "..                                                 ...           ...   \n",
       "298  Die Cardiff University sieht sich selbst als r...      positive   \n",
       "299  Die Kurse können je nach Wahl natürlich mal me...       neutral   \n",
       "300  Ich entschied mich, alle Kurse auf Spanisch zu...       neutral   \n",
       "301  Die Studienzeiten in England unterscheiden sic...       neutral   \n",
       "302  Das Studium an der UofT sieht anders aus als m...       neutral   \n",
       "\n",
       "    sentimentPrediction  \n",
       "0               neutral  \n",
       "1              positive  \n",
       "2               neutral  \n",
       "3              positive  \n",
       "4              positive  \n",
       "..                  ...  \n",
       "298             neutral  \n",
       "299            positive  \n",
       "300            positive  \n",
       "301             neutral  \n",
       "302             neutral  \n",
       "\n",
       "[299 rows x 3 columns]"
      ]
     },
     "metadata": {},
     "output_type": "display_data"
    }
   ],
   "source": [
    "#Merge target labels with predicted labels\n",
    "results_df = results_df.drop(\"index\", axis=1)\n",
    "student_data = pd.concat([student_data_unpr, results_df], axis=1)\n",
    "\n",
    "#Convertion of all values into strings\n",
    "for x in student_data:\n",
    "    student_data[x] = student_data[x].astype(str)\n",
    "\n",
    "#Deletion of all unwanted values in \"Studium_Label\" and \"sentimentPrediction\"\n",
    "allowed_values=[\"negative\", \"neutral\", \"positive\"]    \n",
    "student_data = student_data[student_data['Studium_Label'].isin(allowed_values)]\n",
    "student_data = student_data[student_data['sentimentPrediction'].isin(allowed_values)]\n",
    "\n",
    "display(student_data)\n",
    "    \n"
   ]
  },
  {
   "cell_type": "code",
   "execution_count": 29,
   "id": "e24e1dfa",
   "metadata": {},
   "outputs": [
    {
     "data": {
      "image/png": "[encoded data removed]",
      "text/plain": [
       "<Figure size 640x480 with 2 Axes>"
      ]
     },
     "metadata": {},
     "output_type": "display_data"
    },
    {
     "name": "stdout",
     "output_type": "stream",
     "text": [
      "0.4682274247491639\n",
      "              precision    recall  f1-score   support\n",
      "\n",
      "    positive       0.00      0.00      0.00        42\n",
      "    negative       0.40      0.25      0.31       108\n",
      "     neutral       0.50      0.76      0.60       149\n",
      "\n",
      "    accuracy                           0.47       299\n",
      "   macro avg       0.30      0.34      0.30       299\n",
      "weighted avg       0.39      0.47      0.41       299\n",
      "\n"
     ]
    }
   ],
   "source": [
    "from sklearn.metrics import confusion_matrix, ConfusionMatrixDisplay, f1_score, classification_report\n",
    "import matplotlib.pyplot as plt\n",
    "\n",
    "#Creation of confusion matrix\n",
    "confusion_mat = confusion_matrix(student_data['Studium_Label'], student_data['sentimentPrediction'], labels=['positive', 'negative', 'neutral'])\n",
    "disp = ConfusionMatrixDisplay(confusion_matrix=confusion_mat, display_labels=['positive', 'negative', 'neutral'])\n",
    "disp.plot()\n",
    "plt.show()\n",
    "\n",
    "#Accuracy\n",
    "print(f1_score(student_data['Studium_Label'], student_data['sentimentPrediction'], labels=['positive', 'negative', 'neutral'], average='micro'))\n",
    "\n",
    "#Creation of presicion, recall, F1 and support\n",
    "print(classification_report(\n",
    "    student_data['Studium_Label'],\n",
    "    student_data['sentimentPrediction'],\n",
    "    output_dict=False,\n",
    "    target_names=['positive', 'negative', 'neutral']\n",
    "))"
   ]
  },
  {
   "cell_type": "code",
   "execution_count": null,
   "id": "08fda9ca",
   "metadata": {},
   "outputs": [],
   "source": []
  }
 ],
 "metadata": {
  "kernelspec": {
   "display_name": "Python 3 (ipykernel)",
   "language": "python",
   "name": "python3"
  },
  "language_info": {
   "codemirror_mode": {
    "name": "ipython",
    "version": 3
   },
   "file_extension": ".py",
   "mimetype": "text/x-python",
   "name": "python",
   "nbconvert_exporter": "python",
   "pygments_lexer": "ipython3",
   "version": "3.11.5"
  }
 },
 "nbformat": 4,
 "nbformat_minor": 5
}
