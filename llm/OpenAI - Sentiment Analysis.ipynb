{
 "cells": [
  {
   "cell_type": "markdown",
   "id": "978453ff",
   "metadata": {},
   "source": [
    "# Evaluating GPT 3.5 on sentiment analysis\n",
    "In this notebook, the GPT 3.5 model from OpenAI will be evaluated on a sentiment analysis task. The model will be applied through an API, and will be asked to categorize ratings from different exchange students into the sentiments \"positive\", \"neutral\" or \"negative\". Evaluation will be conducted using a confusion matrix, which will compare the sentiments predicted by GPT with manually labeled sentiments. Additionally, precision, recall, and F1 scores will be computed to provide a more comprehensive assessment of the model's performance."
   ]
  },
  {
   "cell_type": "markdown",
   "id": "0bcc1711",
   "metadata": {},
   "source": [
    "# Data import \n",
    "In this section every labelled data from the student data set is imported. As GPT will be evaluated on its sentiment categorization, only labelled datasets are utilized."
   ]
  },
  {
   "cell_type": "code",
   "execution_count": 1,
   "id": "e4256aba",
   "metadata": {},
   "outputs": [
    {
     "data": {
      "text/html": [
       "<div>\n",
       "<style scoped>\n",
       "    .dataframe tbody tr th:only-of-type {\n",
       "        vertical-align: middle;\n",
       "    }\n",
       "\n",
       "    .dataframe tbody tr th {\n",
       "        vertical-align: top;\n",
       "    }\n",
       "\n",
       "    .dataframe thead th {\n",
       "        text-align: right;\n",
       "    }\n",
       "</style>\n",
       "<table border=\"1\" class=\"dataframe\">\n",
       "  <thead>\n",
       "    <tr style=\"text-align: right;\">\n",
       "      <th></th>\n",
       "      <th>Studium</th>\n",
       "    </tr>\n",
       "  </thead>\n",
       "  <tbody>\n",
       "    <tr>\n",
       "      <th>0</th>\n",
       "      <td>Das Studium an der EAFIT ist nicht mit Mannhei...</td>\n",
       "    </tr>\n",
       "    <tr>\n",
       "      <th>1</th>\n",
       "      <td>Generell ist das Studium an der Universität in...</td>\n",
       "    </tr>\n",
       "    <tr>\n",
       "      <th>2</th>\n",
       "      <td>Die Kurse in Newcastle bestehen in der Regel a...</td>\n",
       "    </tr>\n",
       "    <tr>\n",
       "      <th>3</th>\n",
       "      <td>Der unglaublich grüne und gut gepflegte Campus...</td>\n",
       "    </tr>\n",
       "    <tr>\n",
       "      <th>4</th>\n",
       "      <td>Noch zur Unterkunft:_x000D_\\nZur Alternative, ...</td>\n",
       "    </tr>\n",
       "    <tr>\n",
       "      <th>...</th>\n",
       "      <td>...</td>\n",
       "    </tr>\n",
       "    <tr>\n",
       "      <th>200</th>\n",
       "      <td>Die UC3M lag etwa 30 min. mit dem Zug entfernt...</td>\n",
       "    </tr>\n",
       "    <tr>\n",
       "      <th>201</th>\n",
       "      <td>An der Hochschule ist jedes Semester noch mal ...</td>\n",
       "    </tr>\n",
       "    <tr>\n",
       "      <th>202</th>\n",
       "      <td>Die Uni selbst hat relativ viele Kurse, aus de...</td>\n",
       "    </tr>\n",
       "    <tr>\n",
       "      <th>203</th>\n",
       "      <td>Alle Kurse in ESSEC dauern 3 Stunden lang. Es ...</td>\n",
       "    </tr>\n",
       "    <tr>\n",
       "      <th>204</th>\n",
       "      <td>Von der Lehre in meinen Jurafächern bin ich eh...</td>\n",
       "    </tr>\n",
       "  </tbody>\n",
       "</table>\n",
       "<p>205 rows × 1 columns</p>\n",
       "</div>"
      ],
      "text/plain": [
       "                                               Studium\n",
       "0    Das Studium an der EAFIT ist nicht mit Mannhei...\n",
       "1    Generell ist das Studium an der Universität in...\n",
       "2    Die Kurse in Newcastle bestehen in der Regel a...\n",
       "3    Der unglaublich grüne und gut gepflegte Campus...\n",
       "4    Noch zur Unterkunft:_x000D_\\nZur Alternative, ...\n",
       "..                                                 ...\n",
       "200  Die UC3M lag etwa 30 min. mit dem Zug entfernt...\n",
       "201  An der Hochschule ist jedes Semester noch mal ...\n",
       "202  Die Uni selbst hat relativ viele Kurse, aus de...\n",
       "203  Alle Kurse in ESSEC dauern 3 Stunden lang. Es ...\n",
       "204  Von der Lehre in meinen Jurafächern bin ich eh...\n",
       "\n",
       "[205 rows x 1 columns]"
      ]
     },
     "metadata": {},
     "output_type": "display_data"
    }
   ],
   "source": [
    "import pandas as pd\n",
    "\n",
    "# import of data\n",
    "student_data_unpr = pd.read_csv(\"test_dataset_for_other_models.csv\", sep=\";\", encoding='latin1')\n",
    "student_data_unpr = student_data_unpr.drop(\"Unnamed: 0\", axis=1)\n",
    "\n",
    "#Creation of a copy and reduction to column \"Studium\"\n",
    "student_data = student_data_unpr\n",
    "student_data = student_data.drop(\"Studium_Label\", axis=1)\n",
    "\n",
    "display(student_data)"
   ]
  },
  {
   "cell_type": "markdown",
   "id": "5e29b04b",
   "metadata": {},
   "source": [
    "# [1] OpenAI GPT3.5 application\n",
    "\n",
    "Firstly, GPT is presented with a prompt tasking it to classify incoming inputs into one of three sentiment categories: \"positive\", \"neutral\", or \"negative\". This process occurs iteratively, with the prompt being included with each new request sent to the model. To enhance the objectivity and consistency of results, parameters such as temperature and seed are configured.\n",
    "\n",
    "The temperature parameter serves to temper the creativity of GPT's responses, promoting more objective outcomes. Meanwhile, the seed parameter is adjustable to any chosen value, ensuring greater consistency and determinism across multiple API calls, provided that the seed value remains constant."
   ]
  },
  {
   "cell_type": "code",
   "execution_count": 2,
   "id": "c17aac67",
   "metadata": {},
   "outputs": [],
   "source": [
    "#Opening the stream to OpenAI\n",
    "from openai import OpenAI\n",
    "client = OpenAI()"
   ]
  },
  {
   "cell_type": "code",
   "execution_count": 3,
   "id": "0a249f22",
   "metadata": {},
   "outputs": [],
   "source": [
    "#Prompt for GPT\n",
    "initial_message = {\"role\": \"user\", \"content\": \"You are my sentiment assistant. I want you to analyze my text and categorize it into the three sentiments: positive, neutral, negative. Only respond with either positive, neutral or negative.\"}\n",
    "\n",
    "results=[]\n",
    "results_df = []\n",
    "\n",
    "\n",
    "# Sending labeling requests to GPT\n",
    "for index, eintrag in student_data.iterrows():\n",
    "    for inhalt in eintrag:\n",
    "        response = client.chat.completions.create(\n",
    "        model=\"gpt-3.5-turbo\",\n",
    "            messages=[\n",
    "                initial_message,\n",
    "                {\"role\": \"user\", \"content\": inhalt}\n",
    "            ],\n",
    "            #Setting temperature to ensure objective responses\n",
    "            temperature=0,\n",
    "            #Setting the seed parameter to ensure more consistent results\n",
    "            seed = 123\n",
    "        )\n",
    "        \n",
    "        # Saving of responses \n",
    "        results.append({\"index\": index, \"sentimentPrediction\": response.choices[0].message.content.lower()})\n",
    "\n",
    "# Conversion of responses into dataframe\n",
    "results_df = pd.DataFrame(results)\n",
    "\n",
    "\n"
   ]
  },
  {
   "cell_type": "markdown",
   "id": "11cc10f0",
   "metadata": {},
   "source": [
    "# [1.1] First evaluation\n",
    "During the evaluation, a confusion matrix is employed to compare the predicted labels against the actual labels. It becomes apparent that GPT exhibits a bias towards categorizing inputs into more positive sentiments, evidenced by a precision of 1.0 for positive labels. Furthermore, the model achieves only an overall F1 score of 0.57. Notably, only 10 out of 132 negative datasets are correctly labeled, indicating a significant challenge in accurately identifying negative sentiments."
   ]
  },
  {
   "cell_type": "code",
   "execution_count": 4,
   "id": "6379e190",
   "metadata": {
    "scrolled": false
   },
   "outputs": [],
   "source": [
    "#Merge target labels with predicted labels and dropping of duplicated row\n",
    "results_df = results_df.drop(\"index\", axis=1)\n",
    "student_data = pd.concat([student_data_unpr, results_df], axis=1)\n",
    "student_data = student_data[student_data[\"Studium_Label\"].notnull()]\n",
    "\n",
    "\n",
    "#Convertion of all values into strings\n",
    "for x in student_data:\n",
    "    student_data[x] = student_data[x].astype(str)\n",
    "\n"
   ]
  },
  {
   "cell_type": "code",
   "execution_count": 5,
   "id": "e24e1dfa",
   "metadata": {
    "scrolled": true
   },
   "outputs": [
    {
     "data": {
      "image/png": "[encoded data removed]",
      "text/plain": [
       "<Figure size 640x480 with 2 Axes>"
      ]
     },
     "metadata": {},
     "output_type": "display_data"
    },
    {
     "name": "stdout",
     "output_type": "stream",
     "text": [
      "0.6097560975609756\n",
      "              precision    recall  f1-score   support\n",
      "\n",
      "    positive       1.00      0.11      0.20        27\n",
      "    negative       0.58      0.38      0.46        77\n",
      "     neutral       0.61      0.92      0.74       101\n",
      "\n",
      "    accuracy                           0.61       205\n",
      "   macro avg       0.73      0.47      0.46       205\n",
      "weighted avg       0.65      0.61      0.56       205\n",
      "\n"
     ]
    }
   ],
   "source": [
    "from sklearn.metrics import confusion_matrix, ConfusionMatrixDisplay, f1_score, classification_report\n",
    "import matplotlib.pyplot as plt\n",
    "\n",
    "#Creation of confusion matrix\n",
    "confusion_mat = confusion_matrix(student_data['Studium_Label'], student_data['sentimentPrediction'], labels=['positive', 'negative', 'neutral'])\n",
    "disp = ConfusionMatrixDisplay(confusion_matrix=confusion_mat, display_labels=['positive', 'negative', 'neutral'])\n",
    "disp.plot()\n",
    "plt.show()\n",
    "\n",
    "#Accuracy\n",
    "print(f1_score(student_data['Studium_Label'], student_data['sentimentPrediction'], labels=['positive', 'negative', 'neutral'], average='micro'))\n",
    "\n",
    "#Creation of presicion, recall, F1 and support\n",
    "print(classification_report(\n",
    "    student_data['Studium_Label'],\n",
    "    student_data['sentimentPrediction'],\n",
    "    output_dict=False,\n",
    "    target_names=['positive', 'negative', 'neutral']\n",
    "))"
   ]
  },
  {
   "cell_type": "markdown",
   "id": "bcfd2771",
   "metadata": {},
   "source": [
    "# [2] Alteration of prompt towards more negative categorization\n",
    "As demonstrated in the evaluation, GPT 3.5 exhibited a bias towards categorizing inputs into more positive sentiments. To improve the accuracy and achieve a more negative categorization tendency, GPT was presented with an altered prompt designed to influence its categorization towards negativity.\n",
    "\n",
    "The same parameters, with temperature set to 0 and seed set to 123 as in the initial approach, were utilized for consistency."
   ]
  },
  {
   "cell_type": "code",
   "execution_count": 6,
   "id": "5e04e97a",
   "metadata": {},
   "outputs": [],
   "source": [
    "#Prompt for GPT\n",
    "initial_message = {\"role\": \"user\", \"content\": \"You are my sentiment assistant. I want you to analyze my text and categorize it into the three sentiments: positive, neutral, negative. However, if a text has negative aspects, have a higher tendency towards a negative rating. Only respond with either positive, neutral or negative.\"}\n",
    "\n",
    "#Creation of a new data set\n",
    "student_data_altered = student_data_unpr\n",
    "student_data_altered = student_data_unpr.drop(\"Studium_Label\", axis=1)\n",
    "\n",
    "results=[]\n",
    "results_df = []\n",
    "\n",
    "# Sending labeling requests to GPT\n",
    "for index, eintrag in student_data_altered.iterrows():\n",
    "    for inhalt in eintrag:\n",
    "        response = client.chat.completions.create(\n",
    "        model=\"gpt-3.5-turbo\",\n",
    "            messages=[\n",
    "                initial_message,\n",
    "                {\"role\": \"user\", \"content\": inhalt}\n",
    "            ],\n",
    "            #Setting temperature to ensure objective responses\n",
    "            temperature=0,\n",
    "            #Setting the seed parameter to ensure more consistent results\n",
    "            seed = 123\n",
    "        )\n",
    "        \n",
    "        # Saving of responses \n",
    "        results.append({\"index\": index, \"alteredSentimentPrediction\": response.choices[0].message.content.lower()})\n",
    "\n",
    "# Conversion of responses into dataframe\n",
    "results_df = pd.DataFrame(results)\n",
    "\n"
   ]
  },
  {
   "cell_type": "markdown",
   "id": "08af0b83",
   "metadata": {},
   "source": [
    "# [2.1] Second evaluation \n",
    "In the second evaluation, GPT persists in demonstrating a bias towards positive categorization, with a reduced precision of 0.78 for positive sentiments, compared to the first evaluation. However, despite this bias, the overall F1 score shows an improvement, increasing by 4%. Nevertheless, GPT continues to struggle with accurately categorizing negative sentiments, correctly identifying only 27 out of 132 negatively labeled datasets.\n",
    "\n"
   ]
  },
  {
   "cell_type": "code",
   "execution_count": 7,
   "id": "b152c40f",
   "metadata": {
    "scrolled": false
   },
   "outputs": [],
   "source": [
    "#Merging target labels with predicted labels and dropping of duplicated row\n",
    "results_df = results_df.drop(\"index\", axis=1)\n",
    "student_data_altered = pd.concat([student_data_unpr, results_df], axis=1)\n",
    "student_data_altered = student_data_altered[student_data_altered[\"Studium_Label\"].notnull()]\n",
    "\n",
    "#Adding of altered predictions to a dataframe in order to save all predictions in an excel\n",
    "altered_prediction = student_data_altered[\"alteredSentimentPrediction\"]\n",
    "student_data = pd.concat([student_data, altered_prediction], axis=1)\n",
    "\n",
    "\n",
    "#Convertion of all values into strings\n",
    "for x in student_data_altered:\n",
    "    student_data[x] = student_data[x].astype(str)\n",
    "\n"
   ]
  },
  {
   "cell_type": "code",
   "execution_count": 8,
   "id": "98051ea4",
   "metadata": {},
   "outputs": [],
   "source": [
    "#saving of data into an excel sheet\n",
    "#student_data.to_excel(\"Evaluation.xlsx\", index=False) "
   ]
  },
  {
   "cell_type": "code",
   "execution_count": 9,
   "id": "51b54fd9",
   "metadata": {
    "scrolled": true
   },
   "outputs": [
    {
     "data": {
      "image/png": "[encoded data removed]",
      "text/plain": [
       "<Figure size 640x480 with 2 Axes>"
      ]
     },
     "metadata": {},
     "output_type": "display_data"
    },
    {
     "name": "stdout",
     "output_type": "stream",
     "text": [
      "0.6097560975609756\n",
      "              precision    recall  f1-score   support\n",
      "\n",
      "    positive       1.00      0.22      0.36        27\n",
      "    negative       0.53      0.47      0.50        77\n",
      "     neutral       0.63      0.82      0.72       101\n",
      "\n",
      "    accuracy                           0.61       205\n",
      "   macro avg       0.72      0.50      0.53       205\n",
      "weighted avg       0.64      0.61      0.59       205\n",
      "\n"
     ]
    }
   ],
   "source": [
    "from sklearn.metrics import confusion_matrix, ConfusionMatrixDisplay, f1_score, classification_report\n",
    "import matplotlib.pyplot as plt\n",
    "\n",
    "#Creation of confusion matrix\n",
    "confusion_mat = confusion_matrix(student_data_altered['Studium_Label'], student_data_altered['alteredSentimentPrediction'], labels=['positive', 'negative', 'neutral'])\n",
    "disp = ConfusionMatrixDisplay(confusion_matrix=confusion_mat, display_labels=['positive', 'negative', 'neutral'])\n",
    "disp.plot()\n",
    "plt.show()\n",
    "\n",
    "#Accuracy\n",
    "print(f1_score(student_data_altered['Studium_Label'], student_data_altered['alteredSentimentPrediction'], labels=['positive', 'negative', 'neutral'], average='micro'))\n",
    "\n",
    "#Creation of presicion, recall, F1 and support\n",
    "print(classification_report(\n",
    "    student_data_altered['Studium_Label'],\n",
    "    student_data_altered['alteredSentimentPrediction'],\n",
    "    output_dict=False,\n",
    "    target_names=['positive', 'negative', 'neutral']\n",
    "))"
   ]
  },
  {
   "cell_type": "markdown",
   "id": "b0461845",
   "metadata": {},
   "source": [
    "# [3] One shot learning with a negative and neutral example\n",
    "As demonstrated in the second evaluation, GPT 3.5 exhibited a bias towards categorizing inputs into more positive sentiments, even after specifying a more negatife tendency.\n",
    "\n",
    "To improve the accuracy and achieve a more negative categorization tendency, GPT was presented with one example for a negative data entry and a neutral entry.\n",
    "\n",
    "The same parameters, with temperature set to 0 and seed set to 123 as in the initial approach, were utilized for consistency"
   ]
  },
  {
   "cell_type": "code",
   "execution_count": 10,
   "id": "e51a444e",
   "metadata": {},
   "outputs": [],
   "source": [
    "#Prompt for GPT\n",
    "initial_message = {\"role\": \"user\", \"content\": \"You are my sentiment assistant. I want you to analyze my text and categorize it into the three sentiments: positive, neutral, negative. However, if a text has negative aspects, have a higher tendency towards a negative rating. This is an example for a negative labeled dataset: 'Die City University of Hong Kong hat eine große Kursauswahl. Die Kurse gehen für gewöhnlich drei Stunden lang und sie haben einen hohen Workload (vor allem im letzten Drittel der Vorlesungszeit). Das Kursniveau generell nicht auf dem von Mannheim. Es könnte ein kultureller Unterschied sein, aber die Fragestellungen für Essays und Gruppenarbeiten sind oftmals sehr vage und breit gefasst. Auch die Bewertung ist intransparent, man erhält kein Feedback bevor man die Endnote für den Kurs erhält. Mein Semester ging von Ende August bis Ende November (Vorlesungszeit). Nach einer Woche Pause beginnt die zwei wöchige Prüfungszeit und endet vor Weihnachten. Ich hatte jedoch keine Klausur in der Prüfungsphase, alle Abgaben (Essays, Gruppenberichte) und Präsentationen/Tests liefen unter dem Semester.Die Mensen der CityU sind sehr empfehlenswert. Westliches und asiatisches Essen ist beides vorhanden. Vor allem die Desserts in AC1 sind eine große Empfehlung.Das Sprachniveau war sehr durchmischt, sowohl bei Professoren, als auch bei Studenten. Teils waren Fragestellungen in Prüfungen sprachlich schwer verständlich. In Restaurants kommt man gut damit aus auf die Bilder/Karte zu zeigen.' This is an example for a neutral dataset: 'Da ich während Corona vor Ort war habe ich die Uni nur zweimal besucht. Die restlichen Monate hatte ich nur Online Vorlesungen. Von den Professoren und den Mitarbeitern kann ich sagen, dasss alle sehr nett und hilfsbereit waren. Falls ihr Probleme oder Fragen habt sendet einfach eine Email an das Studienbüro und die werden euch helfen.' Only respond with either positive, neutral or negative.\"}\n",
    "\n",
    "#Creation of a new data set\n",
    "student_data_oneshot = student_data_unpr\n",
    "student_data_oneshot = student_data_unpr.drop(\"Studium_Label\", axis=1)\n",
    "\n",
    "results=[]\n",
    "results_df = []\n",
    "\n",
    "# Sending labeling requests to GPT\n",
    "for index, eintrag in student_data_oneshot.iterrows():\n",
    "    for inhalt in eintrag:\n",
    "        response = client.chat.completions.create(\n",
    "        model=\"gpt-3.5-turbo\",\n",
    "            messages=[\n",
    "                initial_message,\n",
    "                {\"role\": \"user\", \"content\": inhalt}\n",
    "            ],\n",
    "            #Setting temperature to ensure objective responses\n",
    "            temperature=0,\n",
    "            #Setting the seed parameter to ensure more consistent results\n",
    "            seed = 123\n",
    "        )\n",
    "        \n",
    "        # Saving of responses \n",
    "        results.append({\"index\": index, \"oneshotSentimentPrediction\": response.choices[0].message.content.lower()})\n",
    "\n",
    "# Conversion of responses into dataframe\n",
    "results_df = pd.DataFrame(results)\n",
    "\n"
   ]
  },
  {
   "cell_type": "markdown",
   "id": "37453ae9",
   "metadata": {},
   "source": [
    "# [3.1] One shot evaluation with a negative and neutral example \n",
    "\n",
    "In the third evaluation, GPT 3.5 demonstrated improved accuracy in categorizing negative data entries, achieving an increased precision of 0.68 for negative entries. Additionally, the overall F1 score improved to 0.65. However, it is noteworthy that neutral data entries also tend to be classified towards more negative categories.\n"
   ]
  },
  {
   "cell_type": "code",
   "execution_count": 13,
   "id": "b35ac937",
   "metadata": {
    "scrolled": false
   },
   "outputs": [],
   "source": [
    "#Merging target labels with predicted labels and dropping of duplicated row\n",
    "#results_df = results_df.drop(\"index\", axis=1)\n",
    "student_data_oneshot = pd.concat([student_data_unpr, results_df], axis=1)\n",
    "student_data_oneshot = student_data_oneshot[student_data_oneshot[\"Studium_Label\"].notnull()]\n",
    "\n",
    "#Adding of altered predictions to a dataframe in order to save all predictions in an excel\n",
    "oneshot_prediction = student_data_oneshot[\"oneshotSentimentPrediction\"]\n",
    "student_data = pd.concat([student_data, oneshot_prediction], axis=1)\n",
    "\n",
    "\n",
    "#Convertion of all values into strings\n",
    "for x in student_data_oneshot:\n",
    "    student_data[x] = student_data[x].astype(str)\n",
    "\n"
   ]
  },
  {
   "cell_type": "code",
   "execution_count": 14,
   "id": "d4e1cf99",
   "metadata": {},
   "outputs": [],
   "source": [
    "#saving of data into an excel sheet\n",
    "#student_data.to_excel(\"Evaluation_new.xlsx\", index=False) "
   ]
  },
  {
   "cell_type": "code",
   "execution_count": 15,
   "id": "14bf69e3",
   "metadata": {
    "scrolled": true
   },
   "outputs": [
    {
     "data": {
      "image/png": "[encoded data removed]",
      "text/plain": [
       "<Figure size 640x480 with 2 Axes>"
      ]
     },
     "metadata": {},
     "output_type": "display_data"
    },
    {
     "name": "stdout",
     "output_type": "stream",
     "text": [
      "0.6487804878048781\n",
      "              precision    recall  f1-score   support\n",
      "\n",
      "    positive       0.43      0.74      0.55        27\n",
      "    negative       0.68      0.36      0.47        77\n",
      "     neutral       0.72      0.84      0.78       101\n",
      "\n",
      "    accuracy                           0.65       205\n",
      "   macro avg       0.61      0.65      0.60       205\n",
      "weighted avg       0.67      0.65      0.63       205\n",
      "\n"
     ]
    }
   ],
   "source": [
    "from sklearn.metrics import confusion_matrix, ConfusionMatrixDisplay, f1_score, classification_report\n",
    "import matplotlib.pyplot as plt\n",
    "\n",
    "#Creation of confusion matrix\n",
    "confusion_mat = confusion_matrix(student_data_oneshot['Studium_Label'], student_data_oneshot['oneshotSentimentPrediction'], labels=['positive', 'negative', 'neutral'])\n",
    "disp = ConfusionMatrixDisplay(confusion_matrix=confusion_mat, display_labels=['positive', 'negative', 'neutral'])\n",
    "disp.plot()\n",
    "plt.show()\n",
    "\n",
    "#Accuracy\n",
    "print(f1_score(student_data_oneshot['Studium_Label'], student_data_oneshot['oneshotSentimentPrediction'], labels=['positive', 'negative', 'neutral'], average='micro'))\n",
    "\n",
    "#Creation of presicion, recall, F1 and support\n",
    "print(classification_report(\n",
    "    student_data_oneshot['Studium_Label'],\n",
    "    student_data_oneshot['oneshotSentimentPrediction'],\n",
    "    output_dict=False,\n",
    "    target_names=['positive', 'negative', 'neutral']\n",
    "))"
   ]
  },
  {
   "cell_type": "code",
   "execution_count": null,
   "id": "7261fa90",
   "metadata": {},
   "outputs": [],
   "source": []
  },
  {
   "cell_type": "markdown",
   "id": "5b1574a3",
   "metadata": {},
   "source": [
    "# [4] One shot learning with a GPT 4o\n",
    "As demonstrated in the third evaluation, GPT 3.5 is capable to categorize better into negative sentiments, when provided with a negative exampla. However, the neutral data entrys are not categorized accurately.\n",
    "\n",
    "To improve the the overall accuracy\n",
    "The same parameters, with temperature set to 0 and seed set to 123 as in the initial approach, were utilized for consistency"
   ]
  },
  {
   "cell_type": "code",
   "execution_count": 20,
   "id": "f04b5ae8",
   "metadata": {},
   "outputs": [],
   "source": [
    "#Prompt for GPT\n",
    "initial_message = {\"role\": \"user\", \"content\": \"You are my sentiment assistant. I want you to analyze my text and categorize it into the three sentiments: positive, neutral, negative. Only respond with either positive, neutral or negative.\"}\n",
    "\n",
    "#Creation of a new data set\n",
    "student_data_4o = student_data_unpr\n",
    "student_data_4o = student_data_unpr.drop(\"Studium_Label\", axis=1)\n",
    "\n",
    "results=[]\n",
    "results_df = []\n",
    "\n",
    "\n",
    "# Sending labeling requests to GPT\n",
    "for index, eintrag in student_data_4o.iterrows():\n",
    "    for inhalt in eintrag:\n",
    "        response = client.chat.completions.create(\n",
    "        model=\"gpt-4o\",\n",
    "            messages=[\n",
    "                initial_message,\n",
    "                {\"role\": \"user\", \"content\": inhalt}\n",
    "            ],\n",
    "            #Setting temperature to ensure objective responses\n",
    "            temperature=0,\n",
    "            #Setting the seed parameter to ensure more consistent results\n",
    "            seed = 123\n",
    "        )\n",
    "        \n",
    "        # Saving of responses \n",
    "        results.append({\"index\": index, \"sentimentPrediction_4o\": response.choices[0].message.content.lower()})\n",
    "\n",
    "# Conversion of responses into dataframe\n",
    "results_df = pd.DataFrame(results)\n",
    "\n",
    "\n"
   ]
  },
  {
   "cell_type": "markdown",
   "id": "6e585db3",
   "metadata": {},
   "source": [
    "# [4.1] One shot evaluation with a negative example\n",
    "\n",
    "\n",
    "In the second evaluation, GPT persists in demonstrating a bias towards positive categorization, with a reduced precision of 0.78 for positive sentiments, compared to the first evaluation. However, despite this bias, the overall F1 score shows an improvement, increasing by 4%. Nevertheless, GPT continues to struggle with accurately categorizing negative sentiments, correctly identifying only 27 out of 132 negatively labeled datasets.\n",
    "\n"
   ]
  },
  {
   "cell_type": "code",
   "execution_count": 21,
   "id": "cc122ae1",
   "metadata": {
    "scrolled": false
   },
   "outputs": [],
   "source": [
    "#Merging target labels with predicted labels and dropping of duplicated row\n",
    "results_df = results_df.drop(\"index\", axis=1)\n",
    "student_data_4o = pd.concat([student_data_unpr, results_df], axis=1)\n",
    "student_data_4o = student_data_4o[student_data_4o[\"Studium_Label\"].notnull()]\n",
    "\n",
    "#Adding of altered predictions to a dataframe in order to save all predictions in an excel\n",
    "prediction_4o = student_data_4o[\"sentimentPrediction_4o\"]\n",
    "student_data = pd.concat([student_data, prediction_4o], axis=1)\n",
    "\n",
    "\n",
    "#Convertion of all values into strings\n",
    "for x in student_data_oneshot_negative:\n",
    "    student_data[x] = student_data[x].astype(str)\n",
    "\n"
   ]
  },
  {
   "cell_type": "code",
   "execution_count": 22,
   "id": "fb954fad",
   "metadata": {},
   "outputs": [],
   "source": [
    "#saving of data into an excel sheet\n",
    "student_data.to_excel(\"Evaluation_new.xlsx\", index=False) "
   ]
  },
  {
   "cell_type": "code",
   "execution_count": 23,
   "id": "d18f6c9d",
   "metadata": {
    "scrolled": true
   },
   "outputs": [
    {
     "data": {
      "image/png": "[encoded data removed]",
      "text/plain": [
       "<Figure size 640x480 with 2 Axes>"
      ]
     },
     "metadata": {},
     "output_type": "display_data"
    },
    {
     "name": "stdout",
     "output_type": "stream",
     "text": [
      "0.6048780487804878\n",
      "              precision    recall  f1-score   support\n",
      "\n",
      "    positive       1.00      0.37      0.54        27\n",
      "    negative       0.49      0.90      0.63        77\n",
      "     neutral       0.83      0.45      0.58       101\n",
      "\n",
      "    accuracy                           0.60       205\n",
      "   macro avg       0.77      0.57      0.58       205\n",
      "weighted avg       0.73      0.60      0.60       205\n",
      "\n"
     ]
    }
   ],
   "source": [
    "from sklearn.metrics import confusion_matrix, ConfusionMatrixDisplay, f1_score, classification_report\n",
    "import matplotlib.pyplot as plt\n",
    "\n",
    "#Creation of confusion matrix\n",
    "confusion_mat = confusion_matrix(student_data_4o['Studium_Label'], student_data_4o['sentimentPrediction_4o'], labels=['positive', 'negative', 'neutral'])\n",
    "disp = ConfusionMatrixDisplay(confusion_matrix=confusion_mat, display_labels=['positive', 'negative', 'neutral'])\n",
    "disp.plot()\n",
    "plt.show()\n",
    "\n",
    "#Accuracy\n",
    "print(f1_score(student_data_4o['Studium_Label'], student_data_4o['sentimentPrediction_4o'], labels=['positive', 'negative', 'neutral'], average='micro'))\n",
    "\n",
    "#Creation of presicion, recall, F1 and support\n",
    "print(classification_report(\n",
    "    student_data_4o['Studium_Label'],\n",
    "    student_data_4o['sentimentPrediction_4o'],\n",
    "    output_dict=False,\n",
    "    target_names=['positive', 'negative', 'neutral']\n",
    "))"
   ]
  },
  {
   "cell_type": "code",
   "execution_count": null,
   "id": "818e3522",
   "metadata": {},
   "outputs": [],
   "source": []
  }
 ],
 "metadata": {
  "kernelspec": {
   "display_name": "Python 3 (ipykernel)",
   "language": "python",
   "name": "python3"
  },
  "language_info": {
   "codemirror_mode": {
    "name": "ipython",
    "version": 3
   },
   "file_extension": ".py",
   "mimetype": "text/x-python",
   "name": "python",
   "nbconvert_exporter": "python",
   "pygments_lexer": "ipython3",
   "version": "3.11.5"
  }
 },
 "nbformat": 4,
 "nbformat_minor": 5
}
