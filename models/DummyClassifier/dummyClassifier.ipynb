{
 "cells": [
  {
   "cell_type": "code",
   "execution_count": 1,
   "id": "450a9bc3-2e9d-4d1d-9c1e-05974e21de57",
   "metadata": {},
   "outputs": [],
   "source": [
    "import pandas as pd\n",
    "from sklearn.model_selection import train_test_split\n",
    "from sklearn.dummy import DummyClassifier"
   ]
  },
  {
   "cell_type": "markdown",
   "id": "4903085f-0d77-4408-83b3-caebf1decc7a",
   "metadata": {},
   "source": [
    "# Data Import\n",
    "Import of the respective test and training data."
   ]
  },
  {
   "cell_type": "code",
   "execution_count": 2,
   "id": "575ac58d-2466-4108-9e98-62b9b30b4694",
   "metadata": {},
   "outputs": [
    {
     "name": "stdout",
     "output_type": "stream",
     "text": [
      "   Unnamed: 0  label                                               text  \\\n",
      "0          60      2  Das Studium in Exeter war auÃerordentlich sch...   \n",
      "1         511      2  Chulalongkorn ist ein TrÃ¤umchen. Das Kursange...   \n",
      "2         260      1  Das Studium an sich ist weniger anspruchsvoll ...   \n",
      "3         694      1  Bereits im Sommer hatten wir eine Mail erhalte...   \n",
      "4         731      2  Es sind sehr viele Kurse auf Englisch angebote...   \n",
      "\n",
      "   __index_level_0__  \n",
      "0                 52  \n",
      "1                428  \n",
      "2                223  \n",
      "3                576  \n",
      "4                610  \n",
      "   Unnamed: 0  label                                               text  \\\n",
      "0        1183      2  Die Tec de Monterrey ist die renommierteste Un...   \n",
      "1         881      2  In den Niederlanden sind die Semester nochmal ...   \n",
      "2        1019      1  Das Kursangebot ist im Kurskatalog zu finden u...   \n",
      "3          51      2  Ich habe insgesamt 4 Kurse belegt, wovon ein E...   \n",
      "4         503      1  FÃ¼r VWLer gibt es nicht allzu viele Kurse an ...   \n",
      "\n",
      "   __index_level_0__  \n",
      "0                989  \n",
      "1                736  \n",
      "2                849  \n",
      "3                 44  \n",
      "4                421  \n"
     ]
    }
   ],
   "source": [
    "testData = pd.read_csv('../../data/test_dataset.csv', sep=\",\", encoding=\"latin1\")\n",
    "trainData = pd.read_csv('../../data/train_dataset.csv', sep=\",\", encoding=\"latin1\")\n",
    "\n",
    "#ensure that no NAN values occur and all text fields are strings\n",
    "cleanedTestData = testData[testData['label'].notnull()]\n",
    "cleanedTestData[\"text\"] = cleanedTestData[\"text\"].astype(str)\n",
    "\n",
    "cleanedTrainData = trainData[trainData['label'].notnull()]\n",
    "cleanedTrainData[\"text\"] = cleanedTrainData[\"text\"].astype(str)\n",
    "\n",
    "print(cleanedTestData.head())\n",
    "print(cleanedTrainData.head())"
   ]
  },
  {
   "cell_type": "markdown",
   "id": "fc982e8b-d333-491d-a507-b623f252970c",
   "metadata": {},
   "source": [
    "# Model Application\n",
    "We employed the DummyClassifier with a uniform strategy to get the performance of a random guesser as a baseline (https://scikit-learn.org/stable/modules/generated/sklearn.dummy.DummyClassifier.html). For the application label and texts need to be divided"
   ]
  },
  {
   "cell_type": "code",
   "execution_count": 3,
   "id": "007d094c-a179-4b42-bf82-bf93630d70e0",
   "metadata": {},
   "outputs": [],
   "source": [
    "X_train_clean = cleanedTrainData[\"text\"]\n",
    "X_test_clean = cleanedTestData[\"text\"]\n",
    "y_train_clean = cleanedTrainData[\"label\"]\n",
    "y_test_clean = cleanedTestData[\"label\"]\n",
    "\n",
    "dummy_clf_clean = DummyClassifier(strategy=\"uniform\", random_state=42)\n",
    "\n",
    "dummy_clf_clean.fit(X_train_clean, y_train_clean)\n",
    "\n",
    "y_pred_clean = dummy_clf_clean.predict(X_test_clean)\n"
   ]
  },
  {
   "cell_type": "markdown",
   "id": "b782ca79-57a1-4ebe-bcd0-34d97dc205b8",
   "metadata": {},
   "source": [
    "# Evaluation\n",
    "For evaluation purposes we employ confusion matrices and the micro averaged F1 Score"
   ]
  },
  {
   "cell_type": "code",
   "execution_count": 4,
   "id": "146ae548-036a-485d-a79b-003af1706597",
   "metadata": {},
   "outputs": [
    {
     "data": {
      "image/png": "[encoded data removed]",
      "text/plain": [
       "<Figure size 640x480 with 2 Axes>"
      ]
     },
     "metadata": {},
     "output_type": "display_data"
    },
    {
     "name": "stdout",
     "output_type": "stream",
     "text": [
      "0.2801556420233463\n",
      "              precision    recall  f1-score   support\n",
      "\n",
      "    positive       0.10      0.23      0.13        35\n",
      "    negative       0.39      0.29      0.34       106\n",
      "     neutral       0.35      0.28      0.31       116\n",
      "\n",
      "    accuracy                           0.28       257\n",
      "   macro avg       0.28      0.27      0.26       257\n",
      "weighted avg       0.33      0.28      0.30       257\n",
      "\n"
     ]
    }
   ],
   "source": [
    "from sklearn.metrics import confusion_matrix, ConfusionMatrixDisplay, f1_score, classification_report\n",
    "import matplotlib.pyplot as plt\n",
    "confusion_mat = confusion_matrix(y_test_clean, y_pred_clean, labels=[2, 0, 1])\n",
    "\n",
    "disp = ConfusionMatrixDisplay(confusion_matrix=confusion_mat, display_labels=[2, 0, 1])\n",
    "disp.plot()\n",
    "plt.show()\n",
    "print(f1_score(y_test_clean, y_pred_clean, labels=[2, 0, 1], average='micro'))\n",
    "print(classification_report(\n",
    "    y_test_clean, y_pred_clean,\n",
    "    output_dict=False,\n",
    "    target_names=[\"positive\", \"negative\", \"neutral\"]\n",
    "))"
   ]
  }
 ],
 "metadata": {
  "kernelspec": {
   "display_name": "Python 3 (ipykernel)",
   "language": "python",
   "name": "python3"
  },
  "language_info": {
   "codemirror_mode": {
    "name": "ipython",
    "version": 3
   },
   "file_extension": ".py",
   "mimetype": "text/x-python",
   "name": "python",
   "nbconvert_exporter": "python",
   "pygments_lexer": "ipython3",
   "version": "3.11.5"
  }
 },
 "nbformat": 4,
 "nbformat_minor": 5
}
