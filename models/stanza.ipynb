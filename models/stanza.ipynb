{
 "cells": [
  {
   "cell_type": "code",
   "execution_count": 1,
   "id": "8e0bece7-11cd-4f44-9619-2bf4d5f9f1d8",
   "metadata": {},
   "outputs": [],
   "source": [
    "import stanza\n",
    "import pandas as pd"
   ]
  },
  {
   "cell_type": "code",
   "execution_count": 2,
   "id": "1ef82f5b-8457-49e1-b655-bb3d50f2bc82",
   "metadata": {},
   "outputs": [
    {
     "data": {
      "application/vnd.jupyter.widget-view+json": {
       "model_id": "42ae2f1cac3e4b8c8bab70ef4c2be45c",
       "version_major": 2,
       "version_minor": 0
      },
      "text/plain": [
       "Downloading https://raw.githubusercontent.com/stanfordnlp/stanza-resources/main/resources_1.8.0.json:   0%|   …"
      ]
     },
     "metadata": {},
     "output_type": "display_data"
    },
    {
     "name": "stderr",
     "output_type": "stream",
     "text": [
      "2024-05-06 09:30:26 INFO: Downloaded file to /Users/ullasattler/stanza_resources/resources.json\n",
      "2024-05-06 09:30:26 WARNING: Language de package default expects mwt, which has been added\n",
      "2024-05-06 09:30:26 INFO: Downloading these customized packages for language: de (German)...\n",
      "==================================\n",
      "| Processor       | Package      |\n",
      "----------------------------------\n",
      "| tokenize        | gsd          |\n",
      "| mwt             | gsd          |\n",
      "| sentiment       | sb10k_charlm |\n",
      "| pretrain        | conll17      |\n",
      "| forward_charlm  | newswiki     |\n",
      "| backward_charlm | newswiki     |\n",
      "==================================\n",
      "\n",
      "2024-05-06 09:30:26 INFO: File exists: /Users/ullasattler/stanza_resources/de/tokenize/gsd.pt\n",
      "2024-05-06 09:30:26 INFO: File exists: /Users/ullasattler/stanza_resources/de/mwt/gsd.pt\n",
      "2024-05-06 09:30:26 INFO: File exists: /Users/ullasattler/stanza_resources/de/sentiment/sb10k_charlm.pt\n",
      "2024-05-06 09:30:27 INFO: File exists: /Users/ullasattler/stanza_resources/de/pretrain/conll17.pt\n",
      "2024-05-06 09:30:27 INFO: File exists: /Users/ullasattler/stanza_resources/de/forward_charlm/newswiki.pt\n",
      "2024-05-06 09:30:27 INFO: File exists: /Users/ullasattler/stanza_resources/de/backward_charlm/newswiki.pt\n",
      "2024-05-06 09:30:27 INFO: Finished downloading models and saved to /Users/ullasattler/stanza_resources\n",
      "2024-05-06 09:30:27 INFO: Checking for updates to resources.json in case models have been updated.  Note: this behavior can be turned off with download_method=None or download_method=DownloadMethod.REUSE_RESOURCES\n"
     ]
    },
    {
     "data": {
      "application/vnd.jupyter.widget-view+json": {
       "model_id": "6b1bdbc41da5414e939b2881ced9cce4",
       "version_major": 2,
       "version_minor": 0
      },
      "text/plain": [
       "Downloading https://raw.githubusercontent.com/stanfordnlp/stanza-resources/main/resources_1.8.0.json:   0%|   …"
      ]
     },
     "metadata": {},
     "output_type": "display_data"
    },
    {
     "name": "stderr",
     "output_type": "stream",
     "text": [
      "2024-05-06 09:30:27 INFO: Downloaded file to /Users/ullasattler/stanza_resources/resources.json\n",
      "2024-05-06 09:30:27 WARNING: Language de package default expects mwt, which has been added\n",
      "2024-05-06 09:30:27 INFO: Loading these models for language: de (German):\n",
      "============================\n",
      "| Processor | Package      |\n",
      "----------------------------\n",
      "| tokenize  | gsd          |\n",
      "| mwt       | gsd          |\n",
      "| sentiment | sb10k_charlm |\n",
      "============================\n",
      "\n",
      "2024-05-06 09:30:27 INFO: Using device: cpu\n",
      "2024-05-06 09:30:27 INFO: Loading: tokenize\n",
      "2024-05-06 09:30:28 INFO: Loading: mwt\n",
      "2024-05-06 09:30:28 INFO: Loading: sentiment\n",
      "2024-05-06 09:30:28 INFO: Done loading processors!\n"
     ]
    }
   ],
   "source": [
    "stanza.download('de', processors='tokenize,sentiment')\n",
    "\n",
    "\n",
    "nlp = stanza.Pipeline(lang='de', processors='tokenize,sentiment')"
   ]
  },
  {
   "cell_type": "code",
   "execution_count": 106,
   "id": "4e482274-6976-455f-95a4-0e3c52d27a09",
   "metadata": {},
   "outputs": [],
   "source": [
    "df2 = pd.read_csv('subset_studium.csv', sep=';', nrows=700)\n",
    "df4= df2\n",
    "df5= df2"
   ]
  },
  {
   "cell_type": "code",
   "execution_count": 65,
   "id": "5128901a-0259-45a6-bcc2-396bbf136c13",
   "metadata": {},
   "outputs": [],
   "source": [
    "column = df2[\"Studium\"]\n",
    "texts2 = column.tolist()"
   ]
  },
  {
   "cell_type": "code",
   "execution_count": 66,
   "id": "13a451aa-f8a2-4117-8c6f-1c993ba5d8a6",
   "metadata": {},
   "outputs": [
    {
     "name": "stderr",
     "output_type": "stream",
     "text": [
      "2024-05-06 13:39:54 INFO: Checking for updates to resources.json in case models have been updated.  Note: this behavior can be turned off with download_method=None or download_method=DownloadMethod.REUSE_RESOURCES\n"
     ]
    },
    {
     "data": {
      "application/vnd.jupyter.widget-view+json": {
       "model_id": "5d0a98fd2ddd48f5a2c93af2d5b8bec9",
       "version_major": 2,
       "version_minor": 0
      },
      "text/plain": [
       "Downloading https://raw.githubusercontent.com/stanfordnlp/stanza-resources/main/resources_1.8.0.json:   0%|   …"
      ]
     },
     "metadata": {},
     "output_type": "display_data"
    },
    {
     "name": "stderr",
     "output_type": "stream",
     "text": [
      "2024-05-06 13:39:54 INFO: Downloaded file to /Users/ullasattler/stanza_resources/resources.json\n",
      "2024-05-06 13:39:54 WARNING: Language de package default expects mwt, which has been added\n",
      "2024-05-06 13:39:54 INFO: Loading these models for language: de (German):\n",
      "============================\n",
      "| Processor | Package      |\n",
      "----------------------------\n",
      "| tokenize  | gsd          |\n",
      "| mwt       | gsd          |\n",
      "| sentiment | sb10k_charlm |\n",
      "============================\n",
      "\n",
      "2024-05-06 13:39:54 INFO: Using device: cpu\n",
      "2024-05-06 13:39:54 INFO: Loading: tokenize\n",
      "2024-05-06 13:39:54 INFO: Loading: mwt\n",
      "2024-05-06 13:39:54 INFO: Loading: sentiment\n",
      "2024-05-06 13:39:54 INFO: Done loading processors!\n"
     ]
    }
   ],
   "source": [
    "nlp = stanza.Pipeline(lang='de', processors='tokenize,sentiment')"
   ]
  },
  {
   "cell_type": "code",
   "execution_count": null,
   "id": "8338ad06-a44f-4492-a0a1-08fc965cfa44",
   "metadata": {},
   "outputs": [],
   "source": [
    "#negative, neutral, and positive, represented by 0, 1, 2 "
   ]
  },
  {
   "cell_type": "code",
   "execution_count": 77,
   "id": "1282f3a3-ab1b-48df-8a64-373ab004c8f2",
   "metadata": {},
   "outputs": [
    {
     "name": "stdout",
     "output_type": "stream",
     "text": [
      "Neg: 125 Pos: 278 Neutr: 297\n"
     ]
    }
   ],
   "source": [
    "total_sentiment = 0\n",
    "neg = 0\n",
    "pos = 0\n",
    "neutr = 0\n",
    "\n",
    "for i, text in enumerate(texts2):\n",
    "    doc = nlp(text)\n",
    "    text_sentiment = 0\n",
    "    word_count_all = 0\n",
    "   # counter = 1\n",
    "    b\n",
    "    for sentence in doc.sentences:\n",
    "        word_count = len(sentence.words)\n",
    "        word_count_all += word_count\n",
    "        text_sentiment += (sentence.sentiment * word_count)\n",
    "\n",
    "    \n",
    "\n",
    "        #print(f\"Wörter: {word_count}\")\n",
    "       \n",
    "        #print(f\"Senti: {sentence.sentiment}\")\n",
    "        \n",
    "        #print(f\"wordcount_all: {word_count_all}\")\n",
    "    \n",
    "    total_sentiment = text_sentiment / word_count_all\n",
    "    \n",
    "    if total_sentiment <= 2.0 and total_sentiment >= 1.4:\n",
    "        pos += 1\n",
    "        sentiment= \"positive\"\n",
    "    elif total_sentiment <= 1.3 and total_sentiment >= 0.8:\n",
    "        neutr += 1\n",
    "        sentiment= \"neutral\"\n",
    "    else:\n",
    "        neg += 1\n",
    "        sentiment= \"negative\"\n",
    "    #print(f\"{i + 1} -> Overall Sentiment: {sentiment}\")\n",
    "    df2.loc[i, 'Sentiment'] = sentiment\n",
    "print(f\"Neg: {neg} Pos: {pos} Neutr: {neutr}\")\n",
    "\n"
   ]
  },
  {
   "cell_type": "code",
   "execution_count": 78,
   "id": "ae3e77a1-f8fd-4c5d-a06f-261ec619fc0d",
   "metadata": {},
   "outputs": [],
   "source": [
    "df2.to_csv('subset_studium_with_sentiment.csv', sep=';', index=False)"
   ]
  },
  {
   "cell_type": "code",
   "execution_count": 103,
   "id": "626f552e-68d7-4e01-ab97-c7d7236c1d07",
   "metadata": {},
   "outputs": [
    {
     "data": {
      "text/html": [
       "<div>\n",
       "<style scoped>\n",
       "    .dataframe tbody tr th:only-of-type {\n",
       "        vertical-align: middle;\n",
       "    }\n",
       "\n",
       "    .dataframe tbody tr th {\n",
       "        vertical-align: top;\n",
       "    }\n",
       "\n",
       "    .dataframe thead th {\n",
       "        text-align: right;\n",
       "    }\n",
       "</style>\n",
       "<table border=\"1\" class=\"dataframe\">\n",
       "  <thead>\n",
       "    <tr style=\"text-align: right;\">\n",
       "      <th></th>\n",
       "      <th>Unnamed: 0</th>\n",
       "      <th>Studium</th>\n",
       "      <th>Studium_Label</th>\n",
       "      <th>Studium_Comment</th>\n",
       "      <th>Sentiment</th>\n",
       "    </tr>\n",
       "  </thead>\n",
       "  <tbody>\n",
       "    <tr>\n",
       "      <th>0</th>\n",
       "      <td>0</td>\n",
       "      <td>Die Vorlesungszeit war von Anfang September bi...</td>\n",
       "      <td>neutral</td>\n",
       "      <td>pos:\\nVielzahl an Kursen, praxisnäher, Sprachn...</td>\n",
       "      <td>negative</td>\n",
       "    </tr>\n",
       "    <tr>\n",
       "      <th>1</th>\n",
       "      <td>1</td>\n",
       "      <td>Die Pazmany Universität ist sehr klein im Verg...</td>\n",
       "      <td>positive</td>\n",
       "      <td>pos:\\nsehr klein was ich schön und angenehm fa...</td>\n",
       "      <td>neutral</td>\n",
       "    </tr>\n",
       "    <tr>\n",
       "      <th>2</th>\n",
       "      <td>2</td>\n",
       "      <td>Mit der Universität selbst hatten wir wenig zu...</td>\n",
       "      <td>neutral</td>\n",
       "      <td>neg:\\nkaum Zeit zu arbeiten\\n\\npos: alles ist ...</td>\n",
       "      <td>positive</td>\n",
       "    </tr>\n",
       "    <tr>\n",
       "      <th>3</th>\n",
       "      <td>3</td>\n",
       "      <td>Da die Vorlesungen wegen der Pandemie online s...</td>\n",
       "      <td>positive</td>\n",
       "      <td>pos:\\nnette Mensa, großes Kursangebot, leichte...</td>\n",
       "      <td>positive</td>\n",
       "    </tr>\n",
       "    <tr>\n",
       "      <th>4</th>\n",
       "      <td>4</td>\n",
       "      <td>Die City University of Hong Kong hat eine groß...</td>\n",
       "      <td>negative</td>\n",
       "      <td>neg: \\nhoher Workload, Bewertung intransparent...</td>\n",
       "      <td>positive</td>\n",
       "    </tr>\n",
       "  </tbody>\n",
       "</table>\n",
       "</div>"
      ],
      "text/plain": [
       "   Unnamed: 0                                            Studium  \\\n",
       "0           0  Die Vorlesungszeit war von Anfang September bi...   \n",
       "1           1  Die Pazmany Universität ist sehr klein im Verg...   \n",
       "2           2  Mit der Universität selbst hatten wir wenig zu...   \n",
       "3           3  Da die Vorlesungen wegen der Pandemie online s...   \n",
       "4           4  Die City University of Hong Kong hat eine groß...   \n",
       "\n",
       "  Studium_Label                                    Studium_Comment Sentiment  \n",
       "0       neutral  pos:\\nVielzahl an Kursen, praxisnäher, Sprachn...  negative  \n",
       "1      positive  pos:\\nsehr klein was ich schön und angenehm fa...   neutral  \n",
       "2       neutral  neg:\\nkaum Zeit zu arbeiten\\n\\npos: alles ist ...  positive  \n",
       "3      positive  pos:\\nnette Mensa, großes Kursangebot, leichte...  positive  \n",
       "4      negative  neg: \\nhoher Workload, Bewertung intransparent...  positive  "
      ]
     },
     "execution_count": 103,
     "metadata": {},
     "output_type": "execute_result"
    }
   ],
   "source": [
    "df3 = pd.read_csv('subset_studium_with_sentiment.csv', sep=';', nrows=700)\n",
    "df3 = df3[df3['Studium_Label'].notnull()]\n",
    "df3.head()"
   ]
  },
  {
   "cell_type": "code",
   "execution_count": 81,
   "id": "61904af6-f70f-4797-bb99-43e8733228c8",
   "metadata": {},
   "outputs": [],
   "source": [
    "def calculateMatch(df):\n",
    "    match_count = (df['Studium_Label'] == df['Sentiment']).sum()\n",
    "    return match_count"
   ]
  },
  {
   "cell_type": "code",
   "execution_count": 104,
   "id": "29a5a41e-3e94-4d9b-8866-6a8d366251f5",
   "metadata": {},
   "outputs": [
    {
     "name": "stdout",
     "output_type": "stream",
     "text": [
      "240\n"
     ]
    }
   ],
   "source": [
    "print(calculateMatch(df3))"
   ]
  },
  {
   "cell_type": "code",
   "execution_count": 105,
   "id": "e0927ddc-4460-443b-8904-b256aa15a112",
   "metadata": {},
   "outputs": [
    {
     "data": {
      "image/png": "[encoded data removed]",
      "text/plain": [
       "<Figure size 640x480 with 2 Axes>"
      ]
     },
     "metadata": {},
     "output_type": "display_data"
    },
    {
     "name": "stdout",
     "output_type": "stream",
     "text": [
      "0.38461538461538464\n",
      "              precision    recall  f1-score   support\n",
      "\n",
      "    positive       0.11      0.17      0.13        77\n",
      "    negative       0.41      0.42      0.42       254\n",
      "     neutral       0.49      0.41      0.44       293\n",
      "\n",
      "    accuracy                           0.38       624\n",
      "   macro avg       0.34      0.33      0.33       624\n",
      "weighted avg       0.41      0.38      0.39       624\n",
      "\n"
     ]
    }
   ],
   "source": [
    "from sklearn.metrics import confusion_matrix, ConfusionMatrixDisplay, f1_score, classification_report\n",
    "import matplotlib.pyplot as plt\n",
    "df3['Studium_Label'] = df3['Studium_Label'].astype(str)\n",
    "df3['Sentiment'] = df3['Sentiment'].astype(str)\n",
    "confusion_mat = confusion_matrix(df3['Studium_Label'], df3['Sentiment'], labels=['positive', 'negative', 'neutral'])\n",
    "\n",
    "disp = ConfusionMatrixDisplay(confusion_matrix=confusion_mat, display_labels=['positive', 'negative', 'neutral'])\n",
    "disp.plot()\n",
    "plt.show()\n",
    "print(f1_score(df5['Studium_Label'], df3['Sentiment'], labels=['positive', 'negative', 'neutral'], average='micro'))\n",
    "print(classification_report(\n",
    "    df3['Studium_Label'],\n",
    "    df3['Sentiment'],\n",
    "    output_dict=False,\n",
    "    target_names=['positive', 'negative', 'neutral']\n",
    "))"
   ]
  },
  {
   "cell_type": "code",
   "execution_count": 93,
   "id": "2fd53115-4409-4244-8a71-345c471d123a",
   "metadata": {},
   "outputs": [
    {
     "name": "stdout",
     "output_type": "stream",
     "text": [
      "Neg: 44 Pos: 475 Neutr: 181\n"
     ]
    }
   ],
   "source": [
    "total_sentiment = 0\n",
    "neg = 0\n",
    "pos = 0\n",
    "neutr = 0\n",
    "\n",
    "for i, text in enumerate(texts2):\n",
    "    doc = nlp(text)\n",
    "    text_sentiment = 0\n",
    "    word_count_all = 0\n",
    "   # counter = 1\n",
    "    \n",
    "    for sentence in doc.sentences:\n",
    "        word_count = len(sentence.words)\n",
    "        word_count_all += word_count\n",
    "        text_sentiment += (sentence.sentiment * word_count)\n",
    "\n",
    "    \n",
    "\n",
    "        #print(f\"Wörter: {word_count}\")\n",
    "       \n",
    "        #print(f\"Senti: {sentence.sentiment}\")\n",
    "        \n",
    "        #print(f\"wordcount_all: {word_count_all}\")\n",
    "    \n",
    "    total_sentiment = text_sentiment / word_count_all\n",
    "    \n",
    "    if total_sentiment <= 2.0 and total_sentiment >= 1.2:\n",
    "        pos += 1\n",
    "        sentiment= \"positive\"\n",
    "    elif total_sentiment <= 1.3 and total_sentiment >= 0.9:\n",
    "        neutr += 1\n",
    "        sentiment= \"neutral\"\n",
    "    else:\n",
    "        neg += 1\n",
    "        sentiment= \"negative\"\n",
    "    #print(f\"{i + 1} -> Overall Sentiment: {sentiment}\")\n",
    "    df4.loc[i, 'Sentiment'] = sentiment\n",
    "print(f\"Neg: {neg} Pos: {pos} Neutr: {neutr}\")\n",
    "\n"
   ]
  },
  {
   "cell_type": "code",
   "execution_count": 94,
   "id": "6139414f-22df-4758-a68c-0bf3ce2f9b84",
   "metadata": {},
   "outputs": [],
   "source": [
    "df4.to_csv('subset_studium_with_sentiment2.csv', sep=';', index=False)"
   ]
  },
  {
   "cell_type": "code",
   "execution_count": 96,
   "id": "2e797f44-a3f7-4038-8bc2-2a0e0ff801bc",
   "metadata": {},
   "outputs": [
    {
     "data": {
      "text/html": [
       "<div>\n",
       "<style scoped>\n",
       "    .dataframe tbody tr th:only-of-type {\n",
       "        vertical-align: middle;\n",
       "    }\n",
       "\n",
       "    .dataframe tbody tr th {\n",
       "        vertical-align: top;\n",
       "    }\n",
       "\n",
       "    .dataframe thead th {\n",
       "        text-align: right;\n",
       "    }\n",
       "</style>\n",
       "<table border=\"1\" class=\"dataframe\">\n",
       "  <thead>\n",
       "    <tr style=\"text-align: right;\">\n",
       "      <th></th>\n",
       "      <th>Unnamed: 0</th>\n",
       "      <th>Studium</th>\n",
       "      <th>Studium_Label</th>\n",
       "      <th>Studium_Comment</th>\n",
       "      <th>Sentiment</th>\n",
       "    </tr>\n",
       "  </thead>\n",
       "  <tbody>\n",
       "    <tr>\n",
       "      <th>0</th>\n",
       "      <td>0</td>\n",
       "      <td>Die Vorlesungszeit war von Anfang September bi...</td>\n",
       "      <td>neutral</td>\n",
       "      <td>pos:\\nVielzahl an Kursen, praxisnäher, Sprachn...</td>\n",
       "      <td>positive</td>\n",
       "    </tr>\n",
       "    <tr>\n",
       "      <th>1</th>\n",
       "      <td>1</td>\n",
       "      <td>Die Pazmany Universität ist sehr klein im Verg...</td>\n",
       "      <td>positive</td>\n",
       "      <td>pos:\\nsehr klein was ich schön und angenehm fa...</td>\n",
       "      <td>negative</td>\n",
       "    </tr>\n",
       "    <tr>\n",
       "      <th>2</th>\n",
       "      <td>2</td>\n",
       "      <td>Mit der Universität selbst hatten wir wenig zu...</td>\n",
       "      <td>neutral</td>\n",
       "      <td>neg:\\nkaum Zeit zu arbeiten\\n\\npos: alles ist ...</td>\n",
       "      <td>positive</td>\n",
       "    </tr>\n",
       "    <tr>\n",
       "      <th>3</th>\n",
       "      <td>3</td>\n",
       "      <td>Da die Vorlesungen wegen der Pandemie online s...</td>\n",
       "      <td>positive</td>\n",
       "      <td>pos:\\nnette Mensa, großes Kursangebot, leichte...</td>\n",
       "      <td>positive</td>\n",
       "    </tr>\n",
       "    <tr>\n",
       "      <th>4</th>\n",
       "      <td>4</td>\n",
       "      <td>Die City University of Hong Kong hat eine groß...</td>\n",
       "      <td>negative</td>\n",
       "      <td>neg: \\nhoher Workload, Bewertung intransparent...</td>\n",
       "      <td>positive</td>\n",
       "    </tr>\n",
       "  </tbody>\n",
       "</table>\n",
       "</div>"
      ],
      "text/plain": [
       "   Unnamed: 0                                            Studium  \\\n",
       "0           0  Die Vorlesungszeit war von Anfang September bi...   \n",
       "1           1  Die Pazmany Universität ist sehr klein im Verg...   \n",
       "2           2  Mit der Universität selbst hatten wir wenig zu...   \n",
       "3           3  Da die Vorlesungen wegen der Pandemie online s...   \n",
       "4           4  Die City University of Hong Kong hat eine groß...   \n",
       "\n",
       "  Studium_Label                                    Studium_Comment Sentiment  \n",
       "0       neutral  pos:\\nVielzahl an Kursen, praxisnäher, Sprachn...  positive  \n",
       "1      positive  pos:\\nsehr klein was ich schön und angenehm fa...  negative  \n",
       "2       neutral  neg:\\nkaum Zeit zu arbeiten\\n\\npos: alles ist ...  positive  \n",
       "3      positive  pos:\\nnette Mensa, großes Kursangebot, leichte...  positive  \n",
       "4      negative  neg: \\nhoher Workload, Bewertung intransparent...  positive  "
      ]
     },
     "execution_count": 96,
     "metadata": {},
     "output_type": "execute_result"
    }
   ],
   "source": [
    "df5 = pd.read_csv('subset_studium_with_sentiment.csv', sep=';', nrows=700)\n",
    "df5 = df4[df4['Studium_Label'].notnull()]\n",
    "df5.head()"
   ]
  },
  {
   "cell_type": "code",
   "execution_count": 97,
   "id": "3f5b5456-33bc-404f-ab3c-96a198ed6ae4",
   "metadata": {},
   "outputs": [
    {
     "name": "stdout",
     "output_type": "stream",
     "text": [
      "281\n"
     ]
    }
   ],
   "source": [
    "print(calculateMatch(df5))"
   ]
  },
  {
   "cell_type": "code",
   "execution_count": 100,
   "id": "e0219f50-2d19-4076-bbd2-be3b009e6dd2",
   "metadata": {},
   "outputs": [
    {
     "name": "stderr",
     "output_type": "stream",
     "text": [
      "/var/folders/sh/p04d971d04n_x65451fzf2t00000gn/T/ipykernel_75701/3423251584.py:3: SettingWithCopyWarning: \n",
      "A value is trying to be set on a copy of a slice from a DataFrame.\n",
      "Try using .loc[row_indexer,col_indexer] = value instead\n",
      "\n",
      "See the caveats in the documentation: https://pandas.pydata.org/pandas-docs/stable/user_guide/indexing.html#returning-a-view-versus-a-copy\n",
      "  df5['Studium_Label'] = df5['Studium_Label'].astype(str)\n",
      "/var/folders/sh/p04d971d04n_x65451fzf2t00000gn/T/ipykernel_75701/3423251584.py:4: SettingWithCopyWarning: \n",
      "A value is trying to be set on a copy of a slice from a DataFrame.\n",
      "Try using .loc[row_indexer,col_indexer] = value instead\n",
      "\n",
      "See the caveats in the documentation: https://pandas.pydata.org/pandas-docs/stable/user_guide/indexing.html#returning-a-view-versus-a-copy\n",
      "  df5['Sentiment'] = df5['Sentiment'].astype(str)\n"
     ]
    },
    {
     "data": {
      "image/png": "[encoded data removed]",
      "text/plain": [
       "<Figure size 640x480 with 2 Axes>"
      ]
     },
     "metadata": {},
     "output_type": "display_data"
    },
    {
     "name": "stdout",
     "output_type": "stream",
     "text": [
      "0.45032051282051283\n",
      "              precision    recall  f1-score   support\n",
      "\n",
      "    positive       0.17      0.09      0.12        77\n",
      "    negative       0.42      0.26      0.32       254\n",
      "     neutral       0.49      0.71      0.58       293\n",
      "\n",
      "    accuracy                           0.45       624\n",
      "   macro avg       0.36      0.35      0.34       624\n",
      "weighted avg       0.42      0.45      0.42       624\n",
      "\n"
     ]
    }
   ],
   "source": [
    "from sklearn.metrics import confusion_matrix, ConfusionMatrixDisplay, f1_score, classification_report\n",
    "import matplotlib.pyplot as plt\n",
    "df5['Studium_Label'] = df5['Studium_Label'].astype(str)\n",
    "df5['Sentiment'] = df5['Sentiment'].astype(str)\n",
    "confusion_mat = confusion_matrix(df5['Studium_Label'], df5['Sentiment'], labels=['positive', 'negative', 'neutral'])\n",
    "\n",
    "disp = ConfusionMatrixDisplay(confusion_matrix=confusion_mat, display_labels=['positive', 'negative', 'neutral'])\n",
    "disp.plot()\n",
    "plt.show()\n",
    "print(f1_score(df5['Studium_Label'], df5['Sentiment'], labels=['positive', 'negative', 'neutral'], average='micro'))\n",
    "print(classification_report(\n",
    "    df5['Studium_Label'],\n",
    "    df5['Sentiment'],\n",
    "    output_dict=False,\n",
    "    target_names=['positive', 'negative', 'neutral']\n",
    "))"
   ]
  },
  {
   "cell_type": "code",
   "execution_count": 107,
   "id": "f9d95ebc-c265-4d5e-8261-3fc5bcc21ccd",
   "metadata": {},
   "outputs": [
    {
     "name": "stdout",
     "output_type": "stream",
     "text": [
      "Neg: 12 Pos: 475 Neutr: 213\n"
     ]
    }
   ],
   "source": [
    "total_sentiment = 0\n",
    "neg = 0\n",
    "pos = 0\n",
    "neutr = 0\n",
    "\n",
    "for i, text in enumerate(texts2):\n",
    "    doc = nlp(text)\n",
    "    text_sentiment = 0\n",
    "    word_count_all = 0\n",
    "   # counter = 1\n",
    "    \n",
    "    for sentence in doc.sentences:\n",
    "        word_count = len(sentence.words)\n",
    "        word_count_all += word_count\n",
    "        text_sentiment += (sentence.sentiment * word_count)\n",
    "\n",
    "    \n",
    "\n",
    "        #print(f\"Wörter: {word_count}\")\n",
    "       \n",
    "        #print(f\"Senti: {sentence.sentiment}\")\n",
    "        \n",
    "        #print(f\"wordcount_all: {word_count_all}\")\n",
    "    \n",
    "    total_sentiment = text_sentiment / word_count_all\n",
    "    \n",
    "    if total_sentiment <= 2.0 and total_sentiment >= 1.2:\n",
    "        pos += 1\n",
    "        sentiment= \"positive\"\n",
    "    elif total_sentiment <= 1.3 and total_sentiment >= 0.7:\n",
    "        neutr += 1\n",
    "        sentiment= \"neutral\"\n",
    "    else:\n",
    "        neg += 1\n",
    "        sentiment= \"negative\"\n",
    "    #print(f\"{i + 1} -> Overall Sentiment: {sentiment}\")\n",
    "    df5.loc[i, 'Sentiment'] = sentiment\n",
    "print(f\"Neg: {neg} Pos: {pos} Neutr: {neutr}\")"
   ]
  }
 ],
 "metadata": {
  "kernelspec": {
   "display_name": "Python 3 (ipykernel)",
   "language": "python",
   "name": "python3"
  },
  "language_info": {
   "codemirror_mode": {
    "name": "ipython",
    "version": 3
   },
   "file_extension": ".py",
   "mimetype": "text/x-python",
   "name": "python",
   "nbconvert_exporter": "python",
   "pygments_lexer": "ipython3",
   "version": "3.11.8"
  }
 },
 "nbformat": 4,
 "nbformat_minor": 5
}
