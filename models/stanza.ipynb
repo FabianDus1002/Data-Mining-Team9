{
 "cells": [
  {
   "cell_type": "markdown",
   "id": "2acd3b11-be64-465f-90f0-f6d9666ed835",
   "metadata": {},
   "source": [
    "# Download the German model for Stanza"
   ]
  },
  {
   "cell_type": "markdown",
   "id": "51d51dac-7f16-4110-953e-9574dbfa0e38",
   "metadata": {},
   "source": [
    "Downloading the German model, which includes pre-trained models and resources necessary for tokenization and sentiment analysis in German language."
   ]
  },
  {
   "cell_type": "code",
   "execution_count": 5,
   "id": "f4e5ea54-ae08-4e2b-be18-ca04a8ff351e",
   "metadata": {},
   "outputs": [],
   "source": [
    "import stanza \n",
    "import pandas as pd\n",
    "from collections import Counter\n",
    "from sklearn.metrics import confusion_matrix, ConfusionMatrixDisplay, f1_score, classification_report\n",
    "import matplotlib.pyplot as plt"
   ]
  },
  {
   "cell_type": "code",
   "execution_count": 6,
   "id": "1ef82f5b-8457-49e1-b655-bb3d50f2bc82",
   "metadata": {},
   "outputs": [
    {
     "name": "stderr",
     "output_type": "stream",
     "text": [
      "Downloading https://raw.githubusercontent.com/stanfordnlp/stanza-resources/main/resources_1.8.0.json: 379kB [00:00, 1.71MB/s]\n",
      "2024-05-15 14:16:38 INFO: Downloaded file to C:\\Users\\Leonie\\stanza_resources\\resources.json\n",
      "2024-05-15 14:16:38 WARNING: Language de package default expects mwt, which has been added\n",
      "2024-05-15 14:16:38 INFO: Downloading these customized packages for language: de (German)...\n",
      "==================================\n",
      "| Processor       | Package      |\n",
      "----------------------------------\n",
      "| tokenize        | gsd          |\n",
      "| mwt             | gsd          |\n",
      "| sentiment       | sb10k_charlm |\n",
      "| forward_charlm  | newswiki     |\n",
      "| backward_charlm | newswiki     |\n",
      "| pretrain        | conll17      |\n",
      "==================================\n",
      "\n",
      "2024-05-15 14:16:38 INFO: File exists: C:\\Users\\Leonie\\stanza_resources\\de\\tokenize\\gsd.pt\n",
      "2024-05-15 14:16:38 INFO: File exists: C:\\Users\\Leonie\\stanza_resources\\de\\mwt\\gsd.pt\n",
      "2024-05-15 14:16:39 INFO: File exists: C:\\Users\\Leonie\\stanza_resources\\de\\sentiment\\sb10k_charlm.pt\n",
      "2024-05-15 14:16:39 INFO: File exists: C:\\Users\\Leonie\\stanza_resources\\de\\forward_charlm\\newswiki.pt\n",
      "2024-05-15 14:16:39 INFO: File exists: C:\\Users\\Leonie\\stanza_resources\\de\\backward_charlm\\newswiki.pt\n",
      "2024-05-15 14:16:39 INFO: File exists: C:\\Users\\Leonie\\stanza_resources\\de\\pretrain\\conll17.pt\n",
      "2024-05-15 14:16:39 INFO: Finished downloading models and saved to C:\\Users\\Leonie\\stanza_resources\n",
      "2024-05-15 14:16:39 INFO: Checking for updates to resources.json in case models have been updated.  Note: this behavior can be turned off with download_method=None or download_method=DownloadMethod.REUSE_RESOURCES\n",
      "Downloading https://raw.githubusercontent.com/stanfordnlp/stanza-resources/main/resources_1.8.0.json: 379kB [00:00, 1.90MB/s]\n",
      "2024-05-15 14:16:40 INFO: Downloaded file to C:\\Users\\Leonie\\stanza_resources\\resources.json\n",
      "2024-05-15 14:16:40 WARNING: Language de package default expects mwt, which has been added\n",
      "2024-05-15 14:16:41 INFO: Loading these models for language: de (German):\n",
      "============================\n",
      "| Processor | Package      |\n",
      "----------------------------\n",
      "| tokenize  | gsd          |\n",
      "| mwt       | gsd          |\n",
      "| sentiment | sb10k_charlm |\n",
      "============================\n",
      "\n",
      "2024-05-15 14:16:41 INFO: Using device: cpu\n",
      "2024-05-15 14:16:41 INFO: Loading: tokenize\n",
      "2024-05-15 14:16:41 INFO: Loading: mwt\n",
      "2024-05-15 14:16:41 INFO: Loading: sentiment\n",
      "2024-05-15 14:16:42 INFO: Done loading processors!\n"
     ]
    }
   ],
   "source": [
    "#download models models for tokenization and sentiment analysis in the german language\n",
    "stanza.download('de', processors='tokenize,sentiment')\n",
    "\n",
    "#Initialize the pipeline for German language with tokenization and sentiment analysis\n",
    "nlp = stanza.Pipeline(lang='de', processors='tokenize,sentiment')"
   ]
  },
  {
   "cell_type": "markdown",
   "id": "a76d3449-6307-4da6-bb99-4d0062aade4e",
   "metadata": {},
   "source": [
    "# Import Data"
   ]
  },
  {
   "cell_type": "code",
   "execution_count": 50,
   "id": "4e482274-6976-455f-95a4-0e3c52d27a09",
   "metadata": {},
   "outputs": [],
   "source": [
    "#Read excel\n",
    "#nrows just for now for testing-delete later\n",
    "data = pd.read_csv('../data/test_dataset_for_other_models.csv', encoding = 'latin-1', sep = ';')"
   ]
  },
  {
   "cell_type": "code",
   "execution_count": 51,
   "id": "0e8b97e2-d6f9-4452-a7e5-211f21673bbe",
   "metadata": {},
   "outputs": [],
   "source": [
    "#Only use labeled data or rows that are not empty\n",
    "data = data[data['Studium_Label'].notnull()]"
   ]
  },
  {
   "cell_type": "code",
   "execution_count": 52,
   "id": "bdda97e3-8e98-4f24-bed7-50fa921a8280",
   "metadata": {},
   "outputs": [
    {
     "data": {
      "text/html": [
       "<div>\n",
       "<style scoped>\n",
       "    .dataframe tbody tr th:only-of-type {\n",
       "        vertical-align: middle;\n",
       "    }\n",
       "\n",
       "    .dataframe tbody tr th {\n",
       "        vertical-align: top;\n",
       "    }\n",
       "\n",
       "    .dataframe thead th {\n",
       "        text-align: right;\n",
       "    }\n",
       "</style>\n",
       "<table border=\"1\" class=\"dataframe\">\n",
       "  <thead>\n",
       "    <tr style=\"text-align: right;\">\n",
       "      <th></th>\n",
       "      <th>Unnamed: 0</th>\n",
       "      <th>Studium</th>\n",
       "      <th>Studium_Label</th>\n",
       "    </tr>\n",
       "  </thead>\n",
       "  <tbody>\n",
       "    <tr>\n",
       "      <th>0</th>\n",
       "      <td>60</td>\n",
       "      <td>Das Studium in Exeter war au§erordentlich sch...</td>\n",
       "      <td>positive</td>\n",
       "    </tr>\n",
       "    <tr>\n",
       "      <th>1</th>\n",
       "      <td>511</td>\n",
       "      <td>Chulalongkorn ist ein Trumchen. Das Kursangeb...</td>\n",
       "      <td>positive</td>\n",
       "    </tr>\n",
       "    <tr>\n",
       "      <th>2</th>\n",
       "      <td>260</td>\n",
       "      <td>Das Studium an sich ist weniger anspruchsvoll ...</td>\n",
       "      <td>neutral</td>\n",
       "    </tr>\n",
       "    <tr>\n",
       "      <th>3</th>\n",
       "      <td>694</td>\n",
       "      <td>Bereits im Sommer hatten wir eine Mail erhalte...</td>\n",
       "      <td>neutral</td>\n",
       "    </tr>\n",
       "    <tr>\n",
       "      <th>4</th>\n",
       "      <td>731</td>\n",
       "      <td>Es sind sehr viele Kurse auf Englisch angebote...</td>\n",
       "      <td>positive</td>\n",
       "    </tr>\n",
       "  </tbody>\n",
       "</table>\n",
       "</div>"
      ],
      "text/plain": [
       "   Unnamed: 0                                            Studium Studium_Label\n",
       "0          60  Das Studium in Exeter war au§erordentlich sch...      positive\n",
       "1         511  Chulalongkorn ist ein Trumchen. Das Kursangeb...      positive\n",
       "2         260  Das Studium an sich ist weniger anspruchsvoll ...       neutral\n",
       "3         694  Bereits im Sommer hatten wir eine Mail erhalte...       neutral\n",
       "4         731  Es sind sehr viele Kurse auf Englisch angebote...      positive"
      ]
     },
     "execution_count": 52,
     "metadata": {},
     "output_type": "execute_result"
    }
   ],
   "source": [
    "data.head()"
   ]
  },
  {
   "cell_type": "code",
   "execution_count": 53,
   "id": "6d6a7114-da9e-4f30-bff6-d970c74c983f",
   "metadata": {},
   "outputs": [],
   "source": [
    "#Create copy of data for testing different pos/neutr/neg intervals later\n",
    "data_copies = [data.copy() for _ in range(1, 7)]"
   ]
  },
  {
   "cell_type": "code",
   "execution_count": 55,
   "id": "5128901a-0259-45a6-bcc2-396bbf136c13",
   "metadata": {},
   "outputs": [],
   "source": [
    "#Put all texts from column Studium in list\n",
    "column = data[\"Studium\"]\n",
    "texts = column.tolist()"
   ]
  },
  {
   "cell_type": "markdown",
   "id": "ea5be73e-495c-4007-82da-189d83639757",
   "metadata": {},
   "source": [
    "# Model"
   ]
  },
  {
   "cell_type": "markdown",
   "id": "b15f7fec-16e0-4832-b8c6-2ab376b5a7ca",
   "metadata": {},
   "source": [
    "It iterates through each text, tokenizes it into sentences, and computes the sentiment score for each sentence. We weights longer sentences more by factoring in the word count of each sentence during sentiment score calculation. The sentiment scores are then aggregated to determine the overall sentiment of each text, where longer sentences have a proportionally higher impact on the sentiment calculation. Finally, the counts of each sentiment category—positive, negative, or neutral—are printed.\n",
    "\n",
    "negative, neutral, and positive, represented by 0, 1, 2 \n"
   ]
  },
  {
   "cell_type": "code",
   "execution_count": 56,
   "id": "035bf5fd-cf34-4161-baa3-e83154b89b9e",
   "metadata": {},
   "outputs": [],
   "source": [
    "def getSentiment(neutr_interv, neg_interv, df):\n",
    "    \"\"\"\n",
    "    Calculate sentiment scores for each text and classify them into positive, negative, or neutral labels.\n",
    "\n",
    "    Parameters:\n",
    "    - neutr_interv (float): Interval for neutral sentiment.\n",
    "    - neg_interv (float): Interval for negative sentiment.\n",
    "    - df (DataFrame): DataFrame containing the texts.\n",
    "\n",
    "    Returns:\n",
    "    - None\n",
    "    \"\"\"\n",
    "    total_sentiment = 0\n",
    "    neg = 0\n",
    "    pos = 0\n",
    "    neutr = 0\n",
    "\n",
    "#iterate through all texts\n",
    "    for i, text in enumerate(texts):\n",
    "        doc = nlp(text)\n",
    "        text_sentiment = 0\n",
    "        word_count_all = 0\n",
    "\n",
    "        #iterate through all sentences in one text\n",
    "        for sentence in doc.sentences:\n",
    "            word_count = len(sentence.words)\n",
    "            word_count_all += word_count\n",
    "            #take longer sentences into consideration and weighing them more\n",
    "            text_sentiment += (sentence.sentiment * word_count)\n",
    "    \n",
    "        total_sentiment = text_sentiment / word_count_all\n",
    "\n",
    "        #interval for positive label\n",
    "        if total_sentiment <= 2 and total_sentiment > neutr_interv:\n",
    "            pos += 1\n",
    "            sentiment= \"positive\"\n",
    "        #interval for neutral label\n",
    "        elif total_sentiment <= neutr_interv and total_sentiment >= neg_interv:\n",
    "            neutr += 1\n",
    "            sentiment= \"neutral\"\n",
    "        #interval for negative label\n",
    "        else:\n",
    "            neg += 1\n",
    "            sentiment= \"negative\"\n",
    "        #add sentiment as a new column to the df\n",
    "        df.loc[i, 'Sentiment'] = sentiment\n",
    "\n",
    "    #print sum \n",
    "    print(f\"Neg: {neg} Pos: {pos} Neutr: {neutr}\")\n"
   ]
  },
  {
   "cell_type": "code",
   "execution_count": 57,
   "id": "ae3e77a1-f8fd-4c5d-a06f-261ec619fc0d",
   "metadata": {},
   "outputs": [],
   "source": [
    "def saveSentiData(name, data):\n",
    "    \"\"\"\n",
    "    Save the DataFrame as a new Excel file.\n",
    "\n",
    "    Parameters:\n",
    "    - name (str): Name of the file without extension.\n",
    "    - data (DataFrame): DataFrame to be saved.\n",
    "    \"\"\"\n",
    "    filename = f'{name}_studium_with_sentiment.xlsx'\n",
    "    data.to_excel(filename, index=True)"
   ]
  },
  {
   "cell_type": "code",
   "execution_count": 58,
   "id": "6fa3d8bd-b29b-48f5-b5cc-e7d93f6726bf",
   "metadata": {},
   "outputs": [],
   "source": [
    "def readSentiData(name):\n",
    "    \"\"\"\n",
    "    Read the saved sentiment data from an Excel file and preprocess it.\n",
    "\n",
    "    Parameters:\n",
    "    - name (str): Name of the file without extension.\n",
    "\n",
    "    Returns:\n",
    "    - DataFrame: Preprocessed sentiment data.\n",
    "    \"\"\"\n",
    "    filename = f'{name}_studium_with_sentiment.xlsx'\n",
    "    data_senti = pd.read_excel(filename)\n",
    "    data_senti = data_senti[data_senti['Sentiment'].notnull()]\n",
    "    data_senti = data_senti[data_senti['Studium_Label'].notnull()]\n",
    "    return data_senti"
   ]
  },
  {
   "cell_type": "code",
   "execution_count": 59,
   "id": "09bd001a-efbe-4f95-8ecb-8fbd9f2a3abc",
   "metadata": {},
   "outputs": [],
   "source": [
    "def adjust_sentiment(sentiment_score, words):\n",
    "    \"\"\"\n",
    "    Adjusts the sentiment score based on the presence of booster or dampener words in the text.\n",
    "\n",
    "    Parameters:\n",
    "        sentiment_score (float): The sentiment score to be adjusted.\n",
    "        words (list): A list of words in the text.\n",
    "\n",
    "    Returns:\n",
    "        float: The adjusted sentiment score.\n",
    "    \"\"\"\n",
    "    # Check if a booster or dampener word is present in the sentence\n",
    "    has_booster = any(word.lower() in booster for word in words)\n",
    "    has_dampener = any(word.lower() in dampner for word in words)\n",
    "\n",
    "    # If a booster word is present, multiply the sentiment score by the corresponding value\n",
    "    if has_booster:\n",
    "        booster_word = next((word for word in words if word.lower() in booster), None)\n",
    "        sentiment_score *= max(booster.values())\n",
    "\n",
    "    # If a dampener word is present, multiply the sentiment score by the corresponding value\n",
    "    if has_dampener:\n",
    "        sentiment_score *= min(dampner.values())\n",
    "\n",
    "    return sentiment_score"
   ]
  },
  {
   "cell_type": "code",
   "execution_count": 60,
   "id": "4e9b8348-2dda-464a-b38a-5916ce3e0c40",
   "metadata": {},
   "outputs": [],
   "source": [
    "def getSentimentBoostDamp(neutr_interv,neg_interv, df):\n",
    "    \"\"\"\n",
    "    Calculate sentiment scores for texts and classify them into sentiment categories.\n",
    "\n",
    "    Parameters:\n",
    "    - neutr_interv (float): Upper bound of the neutral sentiment interval.\n",
    "    - neg_interv (float): Lower bound of the negative sentiment interval.\n",
    "    - df (DataFrame): DataFrame containing the texts to analyze.\n",
    "\n",
    "    Returns:\n",
    "    None\n",
    "    \"\"\"\n",
    "    total_sentiment = 0\n",
    "    neg = 0\n",
    "    pos = 0\n",
    "    neutr = 0\n",
    "    for i, text in enumerate(texts):\n",
    "        doc = nlp(text)\n",
    "        total_sentiment = 0\n",
    "        word_count_all = 0\n",
    "        \n",
    "        for sentence in doc.sentences:\n",
    "            word_count = len(sentence.words)\n",
    "            word_count_all += word_count\n",
    "        \n",
    "            sentence_sentiment = sentence.sentiment\n",
    "            words_in_sentence = [word.text.lower() for word in sentence.words]\n",
    "            sentiment_score = adjust_sentiment(sentence_sentiment, words_in_sentence) * word_count     \n",
    "            \n",
    "            total_sentiment += sentiment_score\n",
    "            \n",
    "        # Calculate overall sentiment based on adjusted scores\n",
    "        average_sentiment = total_sentiment / word_count_all\n",
    "        \n",
    "        # Classify sentiment category based on adjusted scores\n",
    "        if neutr_interv < average_sentiment <= 2.0:\n",
    "            sentiment = \"positive\"\n",
    "            pos+=1\n",
    "        elif neg_interv <= average_sentiment <= neutr_interv:\n",
    "            sentiment = \"neutral\"\n",
    "            neutr+=1\n",
    "        else:\n",
    "            sentiment = \"negative\"\n",
    "            neg+=1\n",
    "        \n",
    "        df.loc[i, 'Sentiment'] = sentiment\n",
    "        #print(average_sentiment)\n",
    "        #print sum \n",
    "    print(f\"Neg: {neg} Pos: {pos} Neutr: {neutr}\")\n"
   ]
  },
  {
   "cell_type": "markdown",
   "id": "2451a21d-7e1b-420c-a4c3-ab2164d8f937",
   "metadata": {},
   "source": [
    "## Evaluation "
   ]
  },
  {
   "cell_type": "code",
   "execution_count": 61,
   "id": "61904af6-f70f-4797-bb99-43e8733228c8",
   "metadata": {},
   "outputs": [],
   "source": [
    "def calculateMatch(df):\n",
    "    \"\"\"\n",
    "    Calculate the number of matches between 'Studium_Label' and 'Sentiment' columns in the DataFrame.\n",
    "\n",
    "    Parameters:\n",
    "    - df (DataFrame): DataFrame containing sentiment labels and predictions.\n",
    "\n",
    "    Returns:\n",
    "    - int: Number of matches.\n",
    "    \"\"\"\n",
    "    match_count = (df['Studium_Label'] == df['Sentiment']).sum()\n",
    "    return match_count\n"
   ]
  },
  {
   "cell_type": "code",
   "execution_count": 62,
   "id": "e0927ddc-4460-443b-8904-b256aa15a112",
   "metadata": {
    "scrolled": true
   },
   "outputs": [],
   "source": [
    "def evaluation(data_senti):\n",
    "    \"\"\"\n",
    "    Evaluate sentiment classification performance using confusion matrix, F1 score, and classification report.\n",
    "\n",
    "    Parameters:\n",
    "    - data_senti (DataFrame): DataFrame containing sentiment labels and predictions.\n",
    "\n",
    "    Returns:\n",
    "    - None\n",
    "    \"\"\"\n",
    "\n",
    "    # Convert columns to string type\n",
    "    data_senti['Studium_Label'] = data_senti['Studium_Label'].astype(str)\n",
    "    data_senti['Sentiment'] = data_senti['Sentiment'].astype(str)\n",
    "    \n",
    "    # Compute confusion matrix\n",
    "    confusion_mat = confusion_matrix(data_senti['Studium_Label'], data_senti['Sentiment'], labels=['positive', 'negative', 'neutral'])\n",
    "\n",
    "    # Display confusion matrix\n",
    "    disp = ConfusionMatrixDisplay(confusion_matrix=confusion_mat, display_labels=['positive', 'negative', 'neutral'])\n",
    "    disp.plot()\n",
    "    plt.show()\n",
    "    \n",
    "    # Compute and print F1 score\n",
    "    print(f1_score(data_senti['Studium_Label'], data_senti['Sentiment'], labels=['positive', 'negative', 'neutral'], average='micro'))\n",
    "    \n",
    "    # Print classification report\n",
    "    print(classification_report(\n",
    "        data_senti['Studium_Label'],\n",
    "        data_senti['Sentiment'],\n",
    "        output_dict=False,\n",
    "        target_names=['positive', 'negative', 'neutral']\n",
    "    ))"
   ]
  },
  {
   "cell_type": "markdown",
   "id": "5285a970-747b-4541-8b25-c7b8ba56818f",
   "metadata": {},
   "source": [
    "## Stanza without Dampener and Booster"
   ]
  },
  {
   "cell_type": "markdown",
   "id": "628cab7f-dab1-4a27-82d5-be9682487a57",
   "metadata": {},
   "source": [
    "### Applying Model"
   ]
  },
  {
   "cell_type": "markdown",
   "id": "f88247a1-e6a1-4be1-af80-e716f7ea87b3",
   "metadata": {},
   "source": [
    "Model tested on different intevals:\n",
    "\n",
    "intervals for damp/boost run\n",
    "first interval:\n",
    "neutr_interv=1.3\n",
    "neg_interv=0.8\n",
    "-->0.4387\n",
    "\n",
    "neutr_interv=1.3\n",
    "neg_interv=0.9\n",
    "--> 0.4226\n",
    "____________\n",
    "neutr_interv=1.4\n",
    "neg_interv=0.9\n",
    "--> 0.40 (worse)\n",
    "-->postive interval shouldnt be that small\n",
    "____________\n",
    "neutr_interv=1.3\n",
    "neg_interv=0.95\n",
    "--> 0.4226 --> same accuracy as 1.3/0.9, but more positives ranked as negative\n",
    "--> neg_interv of 0.9 is better\n",
    "____________\n",
    "neutr_interv=1.25\n",
    "neg_interv=0.9\n",
    "--> 0.4371\n",
    "____________\n",
    "neutr_interv=1.25\n",
    "neg_interv=0.85\n",
    "--> 0.4451 --> F1 of negatives in contrast to 1.3/0.8 is sligtly worse (0.03)\n",
    "--> BEST \n",
    "____________\n",
    "neutr_interv=1.3\n",
    "neg_interv=0.85\n",
    "--> 0.4306\n",
    "____________\n",
    "neutr_interv=1.2\n",
    "neg_interv=0.85\n",
    "--> 0.4241"
   ]
  },
  {
   "cell_type": "code",
   "execution_count": 63,
   "id": "4e2f727e-3574-4173-9a8e-db32c6dc5388",
   "metadata": {},
   "outputs": [],
   "source": [
    "#Best interval\n",
    "neutr_interv=1.25\n",
    "neg_interv=0.85"
   ]
  },
  {
   "cell_type": "code",
   "execution_count": 64,
   "id": "7a0b431a-3cec-421f-820e-21a29d2eef3e",
   "metadata": {},
   "outputs": [
    {
     "name": "stdout",
     "output_type": "stream",
     "text": [
      "Neg: 5 Pos: 172 Neutr: 80\n"
     ]
    }
   ],
   "source": [
    "getSentiment(neutr_interv, neg_interv, data_copies[0]) \n",
    "name=\"data2\"\n",
    "saveSentiData(name, data_copies[0])"
   ]
  },
  {
   "cell_type": "code",
   "execution_count": 65,
   "id": "16ea4f00-5c51-4c1b-9c82-e5925271fd6d",
   "metadata": {},
   "outputs": [
    {
     "data": {
      "text/html": [
       "<div>\n",
       "<style scoped>\n",
       "    .dataframe tbody tr th:only-of-type {\n",
       "        vertical-align: middle;\n",
       "    }\n",
       "\n",
       "    .dataframe tbody tr th {\n",
       "        vertical-align: top;\n",
       "    }\n",
       "\n",
       "    .dataframe thead th {\n",
       "        text-align: right;\n",
       "    }\n",
       "</style>\n",
       "<table border=\"1\" class=\"dataframe\">\n",
       "  <thead>\n",
       "    <tr style=\"text-align: right;\">\n",
       "      <th></th>\n",
       "      <th>Unnamed: 0.1</th>\n",
       "      <th>Unnamed: 0</th>\n",
       "      <th>Studium</th>\n",
       "      <th>Studium_Label</th>\n",
       "      <th>Sentiment</th>\n",
       "    </tr>\n",
       "  </thead>\n",
       "  <tbody>\n",
       "    <tr>\n",
       "      <th>0</th>\n",
       "      <td>0</td>\n",
       "      <td>60</td>\n",
       "      <td>Das Studium in Exeter war au§erordentlich sch...</td>\n",
       "      <td>positive</td>\n",
       "      <td>positive</td>\n",
       "    </tr>\n",
       "    <tr>\n",
       "      <th>1</th>\n",
       "      <td>1</td>\n",
       "      <td>511</td>\n",
       "      <td>Chulalongkorn ist ein Trumchen. Das Kursangeb...</td>\n",
       "      <td>positive</td>\n",
       "      <td>positive</td>\n",
       "    </tr>\n",
       "    <tr>\n",
       "      <th>2</th>\n",
       "      <td>2</td>\n",
       "      <td>260</td>\n",
       "      <td>Das Studium an sich ist weniger anspruchsvoll ...</td>\n",
       "      <td>neutral</td>\n",
       "      <td>positive</td>\n",
       "    </tr>\n",
       "    <tr>\n",
       "      <th>3</th>\n",
       "      <td>3</td>\n",
       "      <td>694</td>\n",
       "      <td>Bereits im Sommer hatten wir eine Mail erhalte...</td>\n",
       "      <td>neutral</td>\n",
       "      <td>positive</td>\n",
       "    </tr>\n",
       "    <tr>\n",
       "      <th>4</th>\n",
       "      <td>4</td>\n",
       "      <td>731</td>\n",
       "      <td>Es sind sehr viele Kurse auf Englisch angebote...</td>\n",
       "      <td>positive</td>\n",
       "      <td>positive</td>\n",
       "    </tr>\n",
       "  </tbody>\n",
       "</table>\n",
       "</div>"
      ],
      "text/plain": [
       "   Unnamed: 0.1  Unnamed: 0  \\\n",
       "0             0          60   \n",
       "1             1         511   \n",
       "2             2         260   \n",
       "3             3         694   \n",
       "4             4         731   \n",
       "\n",
       "                                             Studium Studium_Label Sentiment  \n",
       "0  Das Studium in Exeter war au§erordentlich sch...      positive  positive  \n",
       "1  Chulalongkorn ist ein Trumchen. Das Kursangeb...      positive  positive  \n",
       "2  Das Studium an sich ist weniger anspruchsvoll ...       neutral  positive  \n",
       "3  Bereits im Sommer hatten wir eine Mail erhalte...       neutral  positive  \n",
       "4  Es sind sehr viele Kurse auf Englisch angebote...      positive  positive  "
      ]
     },
     "execution_count": 65,
     "metadata": {},
     "output_type": "execute_result"
    }
   ],
   "source": [
    "data_senti=readSentiData(name)\n",
    "data_senti.head()"
   ]
  },
  {
   "cell_type": "markdown",
   "id": "3ad324fc-48f2-4873-9357-3ad52ab368ac",
   "metadata": {},
   "source": [
    "### Applying Evaluation"
   ]
  },
  {
   "cell_type": "code",
   "execution_count": 43,
   "id": "3986a6b1-1a7a-4e4f-89d5-6e6ff04a0f88",
   "metadata": {},
   "outputs": [
    {
     "name": "stdout",
     "output_type": "stream",
     "text": [
      "98\n"
     ]
    },
    {
     "data": {
      "image/png": "[encoded data removed]",
      "text/plain": [
       "<Figure size 640x480 with 2 Axes>"
      ]
     },
     "metadata": {},
     "output_type": "display_data"
    },
    {
     "name": "stdout",
     "output_type": "stream",
     "text": [
      "0.47804878048780486\n",
      "              precision    recall  f1-score   support\n",
      "\n",
      "    positive       0.33      0.07      0.12        27\n",
      "    negative       0.42      0.39      0.40        77\n",
      "     neutral       0.52      0.65      0.58       101\n",
      "\n",
      "    accuracy                           0.48       205\n",
      "   macro avg       0.42      0.37      0.37       205\n",
      "weighted avg       0.46      0.48      0.45       205\n",
      "\n"
     ]
    }
   ],
   "source": [
    "print(calculateMatch(data_senti))\n",
    "evaluation(data_senti)"
   ]
  },
  {
   "cell_type": "markdown",
   "id": "a3354af2-1902-4839-bbf6-d199b84da368",
   "metadata": {},
   "source": [
    "## Stanza with Dampener and Booster - Wordlist 1\n",
    "### Applying Model"
   ]
  },
  {
   "cell_type": "markdown",
   "id": "6ae35ecb-1f53-4aa2-8992-60ad62b2881c",
   "metadata": {},
   "source": [
    "\n",
    "   1.8/0.1\n",
    "   -->0.395\n",
    "____________________\n",
    "   1.7/0.2\n",
    "   -->0.405\n",
    "____________________\n",
    "   1.5/0.5\n",
    "   --> 0.415\n",
    "____________________\n",
    "   1.4/0.6\n",
    "   --> 0.423\n",
    "____________________\n",
    "   1.4/0.7\n",
    "   --> 0.424\n",
    "____________________\n",
    "   1.5/0.7\n",
    "   --> 0.424\n",
    "____________________\n",
    "   1.6/0.7\n",
    "   -->0.413\n",
    "   "
   ]
  },
  {
   "cell_type": "code",
   "execution_count": 44,
   "id": "74b626a5-93e4-4484-8abb-5c27aedecad9",
   "metadata": {},
   "outputs": [],
   "source": [
    "# Read the Excel file with boosters and dampeners into a DataFrame \n",
    "df = pd.read_excel('../data/Booster_Dampner_stanza.xlsx') #Older File - less words\n",
    "\n",
    "# Initialize dictionaries for booster and dampner\n",
    "booster = {}\n",
    "dampner = {}\n",
    "\n",
    "# Iterate over each row in the DataFrame\n",
    "for index, row in df.iterrows():\n",
    "    booster[row['Booster']] = 1.5  # Assigning a score for each booster\n",
    "    dampner[row['Dampener']] = 0.7  # Assigning a score for each dampner\n"
   ]
  },
  {
   "cell_type": "code",
   "execution_count": 45,
   "id": "c3879987-acdd-4b24-96de-6a348917838b",
   "metadata": {},
   "outputs": [],
   "source": [
    "# Count frequency of booster and dampener words\n",
    "booster_counts = Counter(booster)\n",
    "dampner_counts = Counter(dampner)"
   ]
  },
  {
   "cell_type": "code",
   "execution_count": 46,
   "id": "6e871768-04d6-48b4-a786-240781bb6581",
   "metadata": {},
   "outputs": [
    {
     "name": "stdout",
     "output_type": "stream",
     "text": [
      "Neg: 15 Pos: 151 Neutr: 39\n"
     ]
    },
    {
     "data": {
      "text/html": [
       "<div>\n",
       "<style scoped>\n",
       "    .dataframe tbody tr th:only-of-type {\n",
       "        vertical-align: middle;\n",
       "    }\n",
       "\n",
       "    .dataframe tbody tr th {\n",
       "        vertical-align: top;\n",
       "    }\n",
       "\n",
       "    .dataframe thead th {\n",
       "        text-align: right;\n",
       "    }\n",
       "</style>\n",
       "<table border=\"1\" class=\"dataframe\">\n",
       "  <thead>\n",
       "    <tr style=\"text-align: right;\">\n",
       "      <th></th>\n",
       "      <th>Unnamed: 0.1</th>\n",
       "      <th>Unnamed: 0</th>\n",
       "      <th>Studium</th>\n",
       "      <th>Studium_Label</th>\n",
       "      <th>Sentiment</th>\n",
       "    </tr>\n",
       "  </thead>\n",
       "  <tbody>\n",
       "    <tr>\n",
       "      <th>0</th>\n",
       "      <td>0</td>\n",
       "      <td>624</td>\n",
       "      <td>Das Studium an der EAFIT ist nicht mit Mannhei...</td>\n",
       "      <td>neutral</td>\n",
       "      <td>negative</td>\n",
       "    </tr>\n",
       "    <tr>\n",
       "      <th>1</th>\n",
       "      <td>1</td>\n",
       "      <td>156</td>\n",
       "      <td>Generell ist das Studium an der Universität in...</td>\n",
       "      <td>neutral</td>\n",
       "      <td>neutral</td>\n",
       "    </tr>\n",
       "    <tr>\n",
       "      <th>2</th>\n",
       "      <td>2</td>\n",
       "      <td>487</td>\n",
       "      <td>Die Kurse in Newcastle bestehen in der Regel a...</td>\n",
       "      <td>positive</td>\n",
       "      <td>positive</td>\n",
       "    </tr>\n",
       "    <tr>\n",
       "      <th>3</th>\n",
       "      <td>3</td>\n",
       "      <td>310</td>\n",
       "      <td>Der unglaublich grüne und gut gepflegte Campus...</td>\n",
       "      <td>positive</td>\n",
       "      <td>positive</td>\n",
       "    </tr>\n",
       "    <tr>\n",
       "      <th>4</th>\n",
       "      <td>4</td>\n",
       "      <td>793</td>\n",
       "      <td>Noch zur Unterkunft:_x000D_\\nZur Alternative, ...</td>\n",
       "      <td>positive</td>\n",
       "      <td>positive</td>\n",
       "    </tr>\n",
       "  </tbody>\n",
       "</table>\n",
       "</div>"
      ],
      "text/plain": [
       "   Unnamed: 0.1  Unnamed: 0  \\\n",
       "0             0         624   \n",
       "1             1         156   \n",
       "2             2         487   \n",
       "3             3         310   \n",
       "4             4         793   \n",
       "\n",
       "                                             Studium Studium_Label Sentiment  \n",
       "0  Das Studium an der EAFIT ist nicht mit Mannhei...       neutral  negative  \n",
       "1  Generell ist das Studium an der Universität in...       neutral   neutral  \n",
       "2  Die Kurse in Newcastle bestehen in der Regel a...      positive  positive  \n",
       "3  Der unglaublich grüne und gut gepflegte Campus...      positive  positive  \n",
       "4  Noch zur Unterkunft:_x000D_\\nZur Alternative, ...      positive  positive  "
      ]
     },
     "execution_count": 46,
     "metadata": {},
     "output_type": "execute_result"
    }
   ],
   "source": [
    "#intervals for damp/boost run\n",
    "neutr_interv=1.25\n",
    "neg_interv=0.8\n",
    "getSentimentBoostDamp(neutr_interv, neg_interv, data_copies[1])\n",
    "name=\"data3\"\n",
    "saveSentiData(name, data_copies[1])\n",
    "data_senti_boost=readSentiData(name)\n",
    "data_senti_boost.head()"
   ]
  },
  {
   "cell_type": "markdown",
   "id": "e9861eff-2cbf-45cf-bbc2-517584a4e89a",
   "metadata": {},
   "source": [
    "### Evaluation"
   ]
  },
  {
   "cell_type": "code",
   "execution_count": 47,
   "id": "09509389-c2cb-413c-8a4b-ba02f2d1cb5e",
   "metadata": {},
   "outputs": [
    {
     "name": "stdout",
     "output_type": "stream",
     "text": [
      "101\n"
     ]
    }
   ],
   "source": [
    "print(calculateMatch(data_senti_boost))"
   ]
  },
  {
   "cell_type": "code",
   "execution_count": 48,
   "id": "707ded01-4f17-450f-b6eb-64201290c865",
   "metadata": {
    "scrolled": true
   },
   "outputs": [
    {
     "data": {
      "image/png": "[encoded data removed]",
      "text/plain": [
       "<Figure size 640x480 with 2 Axes>"
      ]
     },
     "metadata": {},
     "output_type": "display_data"
    },
    {
     "name": "stdout",
     "output_type": "stream",
     "text": [
      "0.4926829268292683\n",
      "              precision    recall  f1-score   support\n",
      "\n",
      "    positive       0.13      0.07      0.10        27\n",
      "    negative       0.46      0.23      0.31        77\n",
      "     neutral       0.54      0.80      0.64       101\n",
      "\n",
      "    accuracy                           0.49       205\n",
      "   macro avg       0.38      0.37      0.35       205\n",
      "weighted avg       0.46      0.49      0.45       205\n",
      "\n"
     ]
    }
   ],
   "source": [
    "evaluation(data_senti_boost)"
   ]
  },
  {
   "cell_type": "markdown",
   "id": "c6129fac-61a8-4f91-9c9e-9938a61a1cd0",
   "metadata": {},
   "source": [
    "## Dampener and Booster - Wordlist 2\n",
    "### Applying Model and Evaluation"
   ]
  },
  {
   "cell_type": "markdown",
   "id": "b55b96e6-8204-4504-ad29-db38215af129",
   "metadata": {},
   "source": [
    "\n",
    "  1.8/0.1 (und 1.5 / 0.1)\n",
    "  --> 0.4000\n",
    "____________________\n",
    "  1.7/0.2 \n",
    "  --> 0.405\n",
    "____________________\n",
    "  1.4/0.6\n",
    "  --> 0.42903\n",
    "____________________\n",
    "  1.4/0.7\n",
    "  --> 0.42096\n",
    "____________________\n",
    "  1.9/0.7\n",
    "  --> 0.39193\n",
    "___________________\n",
    "   1.5 / 0.3 \n",
    "   --> 0.412903\n",
    "____________________\n",
    "   1.5 / 0.2\n",
    "   --> 0.40967620\r\n",
    "weighted avg       0.40      0.31      0.31       620\r\n",
    "\r\n",
    "\r\n",
    "   0.29       620\r\n",
    "weighted avg       0.38      0.39      0.37       620"
   ]
  },
  {
   "cell_type": "code",
   "execution_count": 49,
   "id": "b3ee5e5d-64ff-4ded-8609-7fedcf7b6ffc",
   "metadata": {},
   "outputs": [
    {
     "name": "stdout",
     "output_type": "stream",
     "text": [
      "Neg: 8 Pos: 128 Neutr: 69\n",
      "Border: 1.4 / 0.6\n",
      "103\n"
     ]
    },
    {
     "data": {
      "image/png": "[encoded data removed]",
      "text/plain": [
       "<Figure size 640x480 with 2 Axes>"
      ]
     },
     "metadata": {},
     "output_type": "display_data"
    },
    {
     "name": "stdout",
     "output_type": "stream",
     "text": [
      "0.5024390243902439\n",
      "              precision    recall  f1-score   support\n",
      "\n",
      "    positive       0.38      0.11      0.17        27\n",
      "    negative       0.41      0.36      0.38        77\n",
      "     neutral       0.56      0.71      0.63       101\n",
      "\n",
      "    accuracy                           0.50       205\n",
      "   macro avg       0.45      0.40      0.39       205\n",
      "weighted avg       0.48      0.50      0.48       205\n",
      "\n"
     ]
    }
   ],
   "source": [
    "value1 = 1.4\n",
    "value2 = 0.6\n",
    "\n",
    "# Read the Excel file into a DataFrame\n",
    "df = pd.read_excel('../data/Booster_Dampner_stanza_oneWord.xlsx') #newer list with more words\n",
    "\n",
    "# Initialize dictionaries for booster and dampner\n",
    "booster = {}\n",
    "dampner = {}\n",
    "\n",
    "# Iterate over each row in the DataFrame\n",
    "for index, row in df.iterrows():\n",
    "    booster[row['Booster']] = value1  # Assigning a score for each booster\n",
    "    dampner[row['Dampener']] = value2  # Assigning a score for each dampner\n",
    "\n",
    "#print(\"Booster Dictionary:\")\n",
    "#print(booster)\n",
    "#print(\"\\nDampner Dictionary:\")\n",
    "#print(dampner)\n",
    "    \n",
    "# Count frequency of booster and dampener words\n",
    "booster_counts = Counter(booster)\n",
    "dampner_counts = Counter(dampner)\n",
    "\n",
    "#intervals for damp/boost run\n",
    "neutr_interv=1.25\n",
    "neg_interv=0.8\n",
    "\n",
    "getSentimentBoostDamp(neutr_interv, neg_interv, data_copies[2])\n",
    "name=\"data4\"\n",
    "saveSentiData(name, data_copies[2])\n",
    "data_senti_boost=readSentiData(name)\n",
    "data_senti_boost.head()\n",
    "\n",
    "## Evaluation - Booster/Dampner\n",
    "print(f\"Border: {value1} / {value2}\")\n",
    "print(calculateMatch(data_senti_boost))\n",
    "evaluation(data_senti_boost)"
   ]
  }
 ],
 "metadata": {
  "kernelspec": {
   "display_name": "Python 3 (ipykernel)",
   "language": "python",
   "name": "python3"
  },
  "language_info": {
   "codemirror_mode": {
    "name": "ipython",
    "version": 3
   },
   "file_extension": ".py",
   "mimetype": "text/x-python",
   "name": "python",
   "nbconvert_exporter": "python",
   "pygments_lexer": "ipython3",
   "version": "3.8.18"
  }
 },
 "nbformat": 4,
 "nbformat_minor": 5
}
