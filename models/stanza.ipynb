{
 "cells": [
  {
   "cell_type": "markdown",
   "id": "2acd3b11-be64-465f-90f0-f6d9666ed835",
   "metadata": {},
   "source": [
    "# Download the German model for Stanza"
   ]
  },
  {
   "cell_type": "markdown",
   "id": "51d51dac-7f16-4110-953e-9574dbfa0e38",
   "metadata": {},
   "source": [
    "Downloading the German model, which includes pre-trained models and resources necessary for tokenization and sentiment analysis in German language."
   ]
  },
  {
   "cell_type": "code",
   "execution_count": 1,
   "id": "f4e5ea54-ae08-4e2b-be18-ca04a8ff351e",
   "metadata": {},
   "outputs": [],
   "source": [
    "import stanza \n",
    "import pandas as pd"
   ]
  },
  {
   "cell_type": "code",
   "execution_count": 2,
   "id": "1ef82f5b-8457-49e1-b655-bb3d50f2bc82",
   "metadata": {},
   "outputs": [
    {
     "data": {
      "application/vnd.jupyter.widget-view+json": {
       "model_id": "8542995c73e04fe5a693536d2bf4531a",
       "version_major": 2,
       "version_minor": 0
      },
      "text/plain": [
       "Downloading https://raw.githubusercontent.com/stanfordnlp/stanza-resources/main/resources_1.8.0.json:   0%|   …"
      ]
     },
     "metadata": {},
     "output_type": "display_data"
    },
    {
     "name": "stderr",
     "output_type": "stream",
     "text": [
      "2024-05-14 14:54:43 INFO: Downloaded file to /Users/ullasattler/stanza_resources/resources.json\n",
      "2024-05-14 14:54:43 WARNING: Language de package default expects mwt, which has been added\n",
      "2024-05-14 14:54:43 INFO: Downloading these customized packages for language: de (German)...\n",
      "==================================\n",
      "| Processor       | Package      |\n",
      "----------------------------------\n",
      "| tokenize        | gsd          |\n",
      "| mwt             | gsd          |\n",
      "| sentiment       | sb10k_charlm |\n",
      "| pretrain        | conll17      |\n",
      "| backward_charlm | newswiki     |\n",
      "| forward_charlm  | newswiki     |\n",
      "==================================\n",
      "\n",
      "2024-05-14 14:54:43 INFO: File exists: /Users/ullasattler/stanza_resources/de/tokenize/gsd.pt\n",
      "2024-05-14 14:54:43 INFO: File exists: /Users/ullasattler/stanza_resources/de/mwt/gsd.pt\n",
      "2024-05-14 14:54:43 INFO: File exists: /Users/ullasattler/stanza_resources/de/sentiment/sb10k_charlm.pt\n",
      "2024-05-14 14:54:43 INFO: File exists: /Users/ullasattler/stanza_resources/de/pretrain/conll17.pt\n",
      "2024-05-14 14:54:43 INFO: File exists: /Users/ullasattler/stanza_resources/de/backward_charlm/newswiki.pt\n",
      "2024-05-14 14:54:43 INFO: File exists: /Users/ullasattler/stanza_resources/de/forward_charlm/newswiki.pt\n",
      "2024-05-14 14:54:43 INFO: Finished downloading models and saved to /Users/ullasattler/stanza_resources\n",
      "2024-05-14 14:54:43 INFO: Checking for updates to resources.json in case models have been updated.  Note: this behavior can be turned off with download_method=None or download_method=DownloadMethod.REUSE_RESOURCES\n"
     ]
    },
    {
     "data": {
      "application/vnd.jupyter.widget-view+json": {
       "model_id": "3d1ab34cca8f4fb5803de55e0a507347",
       "version_major": 2,
       "version_minor": 0
      },
      "text/plain": [
       "Downloading https://raw.githubusercontent.com/stanfordnlp/stanza-resources/main/resources_1.8.0.json:   0%|   …"
      ]
     },
     "metadata": {},
     "output_type": "display_data"
    },
    {
     "name": "stderr",
     "output_type": "stream",
     "text": [
      "2024-05-14 14:54:43 INFO: Downloaded file to /Users/ullasattler/stanza_resources/resources.json\n",
      "2024-05-14 14:54:43 WARNING: Language de package default expects mwt, which has been added\n",
      "2024-05-14 14:54:44 INFO: Loading these models for language: de (German):\n",
      "============================\n",
      "| Processor | Package      |\n",
      "----------------------------\n",
      "| tokenize  | gsd          |\n",
      "| mwt       | gsd          |\n",
      "| sentiment | sb10k_charlm |\n",
      "============================\n",
      "\n",
      "2024-05-14 14:54:44 INFO: Using device: cpu\n",
      "2024-05-14 14:54:44 INFO: Loading: tokenize\n",
      "2024-05-14 14:54:44 INFO: Loading: mwt\n",
      "2024-05-14 14:54:44 INFO: Loading: sentiment\n",
      "2024-05-14 14:54:44 INFO: Done loading processors!\n"
     ]
    }
   ],
   "source": [
    "#download models models for tokenization and sentiment analysis in the german language\n",
    "stanza.download('de', processors='tokenize,sentiment')\n",
    "\n",
    "#Initialize the pipeline for German language with tokenization and sentiment analysis\n",
    "nlp = stanza.Pipeline(lang='de', processors='tokenize,sentiment')"
   ]
  },
  {
   "cell_type": "markdown",
   "id": "a76d3449-6307-4da6-bb99-4d0062aade4e",
   "metadata": {},
   "source": [
    "# Import Data"
   ]
  },
  {
   "cell_type": "code",
   "execution_count": 3,
   "id": "4e482274-6976-455f-95a4-0e3c52d27a09",
   "metadata": {},
   "outputs": [],
   "source": [
    "#Read excel\n",
    "#nrows just for now for testing-delete later\n",
    "data = pd.read_excel('../data/subset_studium_german.xlsx')"
   ]
  },
  {
   "cell_type": "code",
   "execution_count": 4,
   "id": "0e8b97e2-d6f9-4452-a7e5-211f21673bbe",
   "metadata": {},
   "outputs": [],
   "source": [
    "#Only use labeled data or rows that are not empty\n",
    "data = data[data['Studium_Label'].notnull()]"
   ]
  },
  {
   "cell_type": "code",
   "execution_count": 5,
   "id": "bdda97e3-8e98-4f24-bed7-50fa921a8280",
   "metadata": {},
   "outputs": [
    {
     "data": {
      "text/html": [
       "<div>\n",
       "<style scoped>\n",
       "    .dataframe tbody tr th:only-of-type {\n",
       "        vertical-align: middle;\n",
       "    }\n",
       "\n",
       "    .dataframe tbody tr th {\n",
       "        vertical-align: top;\n",
       "    }\n",
       "\n",
       "    .dataframe thead th {\n",
       "        text-align: right;\n",
       "    }\n",
       "</style>\n",
       "<table border=\"1\" class=\"dataframe\">\n",
       "  <thead>\n",
       "    <tr style=\"text-align: right;\">\n",
       "      <th></th>\n",
       "      <th>Unnamed: 0</th>\n",
       "      <th>Studium</th>\n",
       "      <th>Studium_Label</th>\n",
       "      <th>Studium_Comment</th>\n",
       "    </tr>\n",
       "  </thead>\n",
       "  <tbody>\n",
       "    <tr>\n",
       "      <th>0</th>\n",
       "      <td>0</td>\n",
       "      <td>Die Vorlesungszeit war von Anfang September bi...</td>\n",
       "      <td>neutral</td>\n",
       "      <td>pos:\\nVielzahl an Kursen, praxisnäher, Sprachn...</td>\n",
       "    </tr>\n",
       "    <tr>\n",
       "      <th>1</th>\n",
       "      <td>1</td>\n",
       "      <td>Die Pazmany Universität ist sehr klein im Verg...</td>\n",
       "      <td>positive</td>\n",
       "      <td>pos:\\nsehr klein was ich schön und angenehm fa...</td>\n",
       "    </tr>\n",
       "    <tr>\n",
       "      <th>2</th>\n",
       "      <td>2</td>\n",
       "      <td>Mit der Universität selbst hatten wir wenig zu...</td>\n",
       "      <td>neutral</td>\n",
       "      <td>neg:\\nkaum Zeit zu arbeiten\\n\\npos: alles ist ...</td>\n",
       "    </tr>\n",
       "    <tr>\n",
       "      <th>3</th>\n",
       "      <td>3</td>\n",
       "      <td>Da die Vorlesungen wegen der Pandemie online s...</td>\n",
       "      <td>positive</td>\n",
       "      <td>pos:\\nnette Mensa, großes Kursangebot, leichte...</td>\n",
       "    </tr>\n",
       "    <tr>\n",
       "      <th>4</th>\n",
       "      <td>4</td>\n",
       "      <td>Die City University of Hong Kong hat eine groß...</td>\n",
       "      <td>negative</td>\n",
       "      <td>neg: \\nhoher Workload, Bewertung intransparent...</td>\n",
       "    </tr>\n",
       "  </tbody>\n",
       "</table>\n",
       "</div>"
      ],
      "text/plain": [
       "   Unnamed: 0                                            Studium  \\\n",
       "0           0  Die Vorlesungszeit war von Anfang September bi...   \n",
       "1           1  Die Pazmany Universität ist sehr klein im Verg...   \n",
       "2           2  Mit der Universität selbst hatten wir wenig zu...   \n",
       "3           3  Da die Vorlesungen wegen der Pandemie online s...   \n",
       "4           4  Die City University of Hong Kong hat eine groß...   \n",
       "\n",
       "  Studium_Label                                    Studium_Comment  \n",
       "0       neutral  pos:\\nVielzahl an Kursen, praxisnäher, Sprachn...  \n",
       "1      positive  pos:\\nsehr klein was ich schön und angenehm fa...  \n",
       "2       neutral  neg:\\nkaum Zeit zu arbeiten\\n\\npos: alles ist ...  \n",
       "3      positive  pos:\\nnette Mensa, großes Kursangebot, leichte...  \n",
       "4      negative  neg: \\nhoher Workload, Bewertung intransparent...  "
      ]
     },
     "execution_count": 5,
     "metadata": {},
     "output_type": "execute_result"
    }
   ],
   "source": [
    "data.head()"
   ]
  },
  {
   "cell_type": "code",
   "execution_count": 6,
   "id": "6d6a7114-da9e-4f30-bff6-d970c74c983f",
   "metadata": {},
   "outputs": [],
   "source": [
    "#Create copy of data for testing different pos/neutr/neg intervals later\n",
    "data_copies = [data.copy() for _ in range(1, 7)]"
   ]
  },
  {
   "cell_type": "code",
   "execution_count": 7,
   "id": "5128901a-0259-45a6-bcc2-396bbf136c13",
   "metadata": {},
   "outputs": [],
   "source": [
    "#Put all texts from column Studium in list\n",
    "column = data[\"Studium\"]\n",
    "texts = column.tolist()"
   ]
  },
  {
   "cell_type": "markdown",
   "id": "ea5be73e-495c-4007-82da-189d83639757",
   "metadata": {},
   "source": [
    "# Applying Model"
   ]
  },
  {
   "cell_type": "markdown",
   "id": "b15f7fec-16e0-4832-b8c6-2ab376b5a7ca",
   "metadata": {},
   "source": [
    "It iterates through each text, tokenizes it into sentences, and computes the sentiment score for each sentence. We weights longer sentences more by factoring in the word count of each sentence during sentiment score calculation. The sentiment scores are then aggregated to determine the overall sentiment of each text, where longer sentences have a proportionally higher impact on the sentiment calculation. Finally, the counts of each sentiment category—positive, negative, or neutral—are printed.\n",
    "\n",
    "negative, neutral, and positive, represented by 0, 1, 2 \n"
   ]
  },
  {
   "cell_type": "code",
   "execution_count": 8,
   "id": "035bf5fd-cf34-4161-baa3-e83154b89b9e",
   "metadata": {},
   "outputs": [],
   "source": [
    "def getSentiment (neutr_interv, neg_interv, df):\n",
    "    total_sentiment = 0\n",
    "    neg = 0\n",
    "    pos = 0\n",
    "    neutr = 0\n",
    "\n",
    "#iterate through all texts\n",
    "    for i, text in enumerate(texts):\n",
    "        doc = nlp(text)\n",
    "        text_sentiment = 0\n",
    "        word_count_all = 0\n",
    "\n",
    "        #iterate through all sentences in one text\n",
    "        for sentence in doc.sentences:\n",
    "            word_count = len(sentence.words)\n",
    "            word_count_all += word_count\n",
    "            #take longer sentences into consideration and weighing them more\n",
    "            text_sentiment += (sentence.sentiment * word_count)\n",
    "    \n",
    "        total_sentiment = text_sentiment / word_count_all\n",
    "\n",
    "        #interval for positive label\n",
    "        if total_sentiment <= 2 and total_sentiment > neutr_interv:\n",
    "            pos += 1\n",
    "            sentiment= \"positive\"\n",
    "        #interval for neutral label\n",
    "        elif total_sentiment <= neutr_interv and total_sentiment >= neg_interv:\n",
    "            neutr += 1\n",
    "            sentiment= \"neutral\"\n",
    "        #interval for negative label\n",
    "        else:\n",
    "            neg += 1\n",
    "            sentiment= \"negative\"\n",
    "        #add sentiment as a new column to the df\n",
    "        df.loc[i, 'Sentiment'] = sentiment\n",
    "\n",
    "    #print sum \n",
    "    print(f\"Neg: {neg} Pos: {pos} Neutr: {neutr}\")\n"
   ]
  },
  {
   "cell_type": "code",
   "execution_count": 18,
   "id": "ae3e77a1-f8fd-4c5d-a06f-261ec619fc0d",
   "metadata": {},
   "outputs": [],
   "source": [
    "#save the df as a new excel file\n",
    "def saveSentiData(name, data):\n",
    "    filename = f'{name}_studium_with_sentiment.xlsx'\n",
    "    data.to_excel(filename, index=True)"
   ]
  },
  {
   "cell_type": "code",
   "execution_count": 16,
   "id": "6fa3d8bd-b29b-48f5-b5cc-e7d93f6726bf",
   "metadata": {},
   "outputs": [],
   "source": [
    "#Read the saved sentiment data\n",
    "def readSentiData(name):\n",
    "    filename = f'{name}_studium_with_sentiment.xlsx'\n",
    "    data_senti = pd.read_excel(filename)\n",
    "    data_senti=data_senti[data_senti['Sentiment'].notnull()]\n",
    "    data_senti=data_senti[data_senti['Studium_Label'].notnull()]\n",
    "    return data_senti"
   ]
  },
  {
   "cell_type": "code",
   "execution_count": 11,
   "id": "a9895b8d-b544-4103-ae4b-fe0d0d1586f3",
   "metadata": {},
   "outputs": [],
   "source": [
    "#intervals for first run\n",
    "#Neutral is from 1.3 to 0.8\n",
    "neutr_interv=1.3\n",
    "neg_interv=0.8"
   ]
  },
  {
   "cell_type": "code",
   "execution_count": 12,
   "id": "8d19d3b1-00a0-4659-b273-84dd0664c4cd",
   "metadata": {},
   "outputs": [
    {
     "name": "stdout",
     "output_type": "stream",
     "text": [
      "Neg: 27 Pos: 578 Neutr: 411\n"
     ]
    }
   ],
   "source": [
    "#run method to get text sentiments\n",
    "getSentiment(neutr_interv, neg_interv, data)"
   ]
  },
  {
   "cell_type": "code",
   "execution_count": 19,
   "id": "92970949-0b93-4103-8c9b-216eb031ae3f",
   "metadata": {},
   "outputs": [],
   "source": [
    "#give name for the excel file\n",
    "name=\"data1\"\n",
    "#run method to save data as csv\n",
    "saveSentiData(name, data)"
   ]
  },
  {
   "cell_type": "code",
   "execution_count": 20,
   "id": "cf032e7b-ff34-412a-985d-8ff1b43f01da",
   "metadata": {},
   "outputs": [
    {
     "data": {
      "text/html": [
       "<div>\n",
       "<style scoped>\n",
       "    .dataframe tbody tr th:only-of-type {\n",
       "        vertical-align: middle;\n",
       "    }\n",
       "\n",
       "    .dataframe tbody tr th {\n",
       "        vertical-align: top;\n",
       "    }\n",
       "\n",
       "    .dataframe thead th {\n",
       "        text-align: right;\n",
       "    }\n",
       "</style>\n",
       "<table border=\"1\" class=\"dataframe\">\n",
       "  <thead>\n",
       "    <tr style=\"text-align: right;\">\n",
       "      <th></th>\n",
       "      <th>Unnamed: 0.1</th>\n",
       "      <th>Unnamed: 0</th>\n",
       "      <th>Studium</th>\n",
       "      <th>Studium_Label</th>\n",
       "      <th>Studium_Comment</th>\n",
       "      <th>Sentiment</th>\n",
       "    </tr>\n",
       "  </thead>\n",
       "  <tbody>\n",
       "    <tr>\n",
       "      <th>0</th>\n",
       "      <td>0</td>\n",
       "      <td>0.0</td>\n",
       "      <td>Die Vorlesungszeit war von Anfang September bi...</td>\n",
       "      <td>neutral</td>\n",
       "      <td>pos:\\nVielzahl an Kursen, praxisnäher, Sprachn...</td>\n",
       "      <td>positive</td>\n",
       "    </tr>\n",
       "    <tr>\n",
       "      <th>1</th>\n",
       "      <td>1</td>\n",
       "      <td>1.0</td>\n",
       "      <td>Die Pazmany Universität ist sehr klein im Verg...</td>\n",
       "      <td>positive</td>\n",
       "      <td>pos:\\nsehr klein was ich schön und angenehm fa...</td>\n",
       "      <td>neutral</td>\n",
       "    </tr>\n",
       "    <tr>\n",
       "      <th>2</th>\n",
       "      <td>2</td>\n",
       "      <td>2.0</td>\n",
       "      <td>Mit der Universität selbst hatten wir wenig zu...</td>\n",
       "      <td>neutral</td>\n",
       "      <td>neg:\\nkaum Zeit zu arbeiten\\n\\npos: alles ist ...</td>\n",
       "      <td>positive</td>\n",
       "    </tr>\n",
       "    <tr>\n",
       "      <th>3</th>\n",
       "      <td>3</td>\n",
       "      <td>3.0</td>\n",
       "      <td>Da die Vorlesungen wegen der Pandemie online s...</td>\n",
       "      <td>positive</td>\n",
       "      <td>pos:\\nnette Mensa, großes Kursangebot, leichte...</td>\n",
       "      <td>positive</td>\n",
       "    </tr>\n",
       "    <tr>\n",
       "      <th>4</th>\n",
       "      <td>4</td>\n",
       "      <td>4.0</td>\n",
       "      <td>Die City University of Hong Kong hat eine groß...</td>\n",
       "      <td>negative</td>\n",
       "      <td>neg: \\nhoher Workload, Bewertung intransparent...</td>\n",
       "      <td>positive</td>\n",
       "    </tr>\n",
       "  </tbody>\n",
       "</table>\n",
       "</div>"
      ],
      "text/plain": [
       "   Unnamed: 0.1  Unnamed: 0  \\\n",
       "0             0         0.0   \n",
       "1             1         1.0   \n",
       "2             2         2.0   \n",
       "3             3         3.0   \n",
       "4             4         4.0   \n",
       "\n",
       "                                             Studium Studium_Label  \\\n",
       "0  Die Vorlesungszeit war von Anfang September bi...       neutral   \n",
       "1  Die Pazmany Universität ist sehr klein im Verg...      positive   \n",
       "2  Mit der Universität selbst hatten wir wenig zu...       neutral   \n",
       "3  Da die Vorlesungen wegen der Pandemie online s...      positive   \n",
       "4  Die City University of Hong Kong hat eine groß...      negative   \n",
       "\n",
       "                                     Studium_Comment Sentiment  \n",
       "0  pos:\\nVielzahl an Kursen, praxisnäher, Sprachn...  positive  \n",
       "1  pos:\\nsehr klein was ich schön und angenehm fa...   neutral  \n",
       "2  neg:\\nkaum Zeit zu arbeiten\\n\\npos: alles ist ...  positive  \n",
       "3  pos:\\nnette Mensa, großes Kursangebot, leichte...  positive  \n",
       "4  neg: \\nhoher Workload, Bewertung intransparent...  positive  "
      ]
     },
     "execution_count": 20,
     "metadata": {},
     "output_type": "execute_result"
    }
   ],
   "source": [
    "#read sentiment data and print the first few lines\n",
    "data_senti=readSentiData(name)\n",
    "data_senti.head()"
   ]
  },
  {
   "cell_type": "markdown",
   "id": "2451a21d-7e1b-420c-a4c3-ab2164d8f937",
   "metadata": {},
   "source": [
    "## Evaluation "
   ]
  },
  {
   "cell_type": "code",
   "execution_count": 21,
   "id": "61904af6-f70f-4797-bb99-43e8733228c8",
   "metadata": {},
   "outputs": [],
   "source": [
    "def calculateMatch(df):\n",
    "    match_count = (df['Studium_Label'] == df['Sentiment']).sum()\n",
    "    return match_count"
   ]
  },
  {
   "cell_type": "code",
   "execution_count": 22,
   "id": "29a5a41e-3e94-4d9b-8866-6a8d366251f5",
   "metadata": {},
   "outputs": [
    {
     "name": "stdout",
     "output_type": "stream",
     "text": [
      "444\n"
     ]
    }
   ],
   "source": [
    "print(calculateMatch(data_senti))"
   ]
  },
  {
   "cell_type": "code",
   "execution_count": 23,
   "id": "e0927ddc-4460-443b-8904-b256aa15a112",
   "metadata": {
    "scrolled": true
   },
   "outputs": [],
   "source": [
    "def evaluation (data_senti):\n",
    "    from sklearn.metrics import confusion_matrix, ConfusionMatrixDisplay, f1_score, classification_report\n",
    "    import matplotlib.pyplot as plt\n",
    "    data_senti['Studium_Label'] = data_senti['Studium_Label'].astype(str)\n",
    "    data_senti['Sentiment'] = data_senti['Sentiment'].astype(str)\n",
    "    confusion_mat = confusion_matrix(data_senti['Studium_Label'], data_senti['Sentiment'], labels=['positive', 'negative', 'neutral'])\n",
    "\n",
    "    disp = ConfusionMatrixDisplay(confusion_matrix=confusion_mat, display_labels=['positive', 'negative', 'neutral'])\n",
    "    disp.plot()\n",
    "    plt.show()\n",
    "    print(f1_score(data_senti['Studium_Label'], data_senti['Sentiment'], labels=['positive', 'negative', 'neutral'], average='micro'))\n",
    "    print(classification_report(\n",
    "        data_senti['Studium_Label'],\n",
    "        data_senti['Sentiment'],\n",
    "        output_dict=False,\n",
    "        target_names=['positive', 'negative', 'neutral']\n",
    "    ))"
   ]
  },
  {
   "cell_type": "code",
   "execution_count": 24,
   "id": "7a8a68be-8a45-4c41-a423-da036a2af197",
   "metadata": {},
   "outputs": [
    {
     "data": {
      "image/png": "[encoded data removed]",
      "text/plain": [
       "<Figure size 640x480 with 2 Axes>"
      ]
     },
     "metadata": {},
     "output_type": "display_data"
    },
    {
     "name": "stdout",
     "output_type": "stream",
     "text": [
      "0.4383020730503455\n",
      "              precision    recall  f1-score   support\n",
      "\n",
      "    positive       0.07      0.02      0.03       131\n",
      "    negative       0.41      0.42      0.42       402\n",
      "     neutral       0.47      0.57      0.52       480\n",
      "\n",
      "    accuracy                           0.44      1013\n",
      "   macro avg       0.32      0.33      0.32      1013\n",
      "weighted avg       0.40      0.44      0.41      1013\n",
      "\n"
     ]
    }
   ],
   "source": [
    "evaluation(data_senti)"
   ]
  },
  {
   "cell_type": "markdown",
   "id": "175d4834-aa8a-4be1-b7c9-dd57e88ce5ff",
   "metadata": {},
   "source": [
    "## Testing different intevals"
   ]
  },
  {
   "cell_type": "markdown",
   "id": "f88247a1-e6a1-4be1-af80-e716f7ea87b3",
   "metadata": {},
   "source": [
    "intervals for damp/boost run\n",
    "first interval:\n",
    "neutr_interv=1.3\n",
    "neg_interv=0.8\n",
    "-->0.4387\n",
    "\n",
    "neutr_interv=1.3\n",
    "neg_interv=0.9\n",
    "--> 0.4226\n",
    "____________\n",
    "neutr_interv=1.4\n",
    "neg_interv=0.9\n",
    "--> 0.40 (worse)\n",
    "-->postive interval shouldnt be that small\n",
    "____________\n",
    "neutr_interv=1.3\n",
    "neg_interv=0.95\n",
    "--> 0.4226 --> same accuracy as 1.3/0.9, but more positives ranked as negative\n",
    "--> neg_interv of 0.9 is better\n",
    "____________\n",
    "neutr_interv=1.25\n",
    "neg_interv=0.9\n",
    "--> 0.4371\n",
    "____________\n",
    "neutr_interv=1.25\n",
    "neg_interv=0.85\n",
    "--> 0.4451 --> F1 of negatives in contrast to 1.3/0.8 is sligtly worse (0.03)\n",
    "--> BEST \n",
    "____________\n",
    "neutr_interv=1.3\n",
    "neg_interv=0.85\n",
    "--> 0.4306\n",
    "____________\n",
    "neutr_interv=1.2\n",
    "neg_interv=0.85\n",
    "--> 0.4241"
   ]
  },
  {
   "cell_type": "code",
   "execution_count": 25,
   "id": "4e2f727e-3574-4173-9a8e-db32c6dc5388",
   "metadata": {},
   "outputs": [],
   "source": [
    "#Best interval\n",
    "neutr_interv=1.25\n",
    "neg_interv=0.85"
   ]
  },
  {
   "cell_type": "code",
   "execution_count": 27,
   "id": "7a0b431a-3cec-421f-820e-21a29d2eef3e",
   "metadata": {},
   "outputs": [
    {
     "name": "stdout",
     "output_type": "stream",
     "text": [
      "Neg: 41 Pos: 651 Neutr: 324\n"
     ]
    }
   ],
   "source": [
    "getSentiment(neutr_interv, neg_interv, data_copies[0]) \n",
    "name=\"data2\"\n",
    "saveSentiData(name, data_copies[0])"
   ]
  },
  {
   "cell_type": "code",
   "execution_count": 28,
   "id": "16ea4f00-5c51-4c1b-9c82-e5925271fd6d",
   "metadata": {},
   "outputs": [
    {
     "data": {
      "text/html": [
       "<div>\n",
       "<style scoped>\n",
       "    .dataframe tbody tr th:only-of-type {\n",
       "        vertical-align: middle;\n",
       "    }\n",
       "\n",
       "    .dataframe tbody tr th {\n",
       "        vertical-align: top;\n",
       "    }\n",
       "\n",
       "    .dataframe thead th {\n",
       "        text-align: right;\n",
       "    }\n",
       "</style>\n",
       "<table border=\"1\" class=\"dataframe\">\n",
       "  <thead>\n",
       "    <tr style=\"text-align: right;\">\n",
       "      <th></th>\n",
       "      <th>Unnamed: 0.1</th>\n",
       "      <th>Unnamed: 0</th>\n",
       "      <th>Studium</th>\n",
       "      <th>Studium_Label</th>\n",
       "      <th>Studium_Comment</th>\n",
       "      <th>Sentiment</th>\n",
       "    </tr>\n",
       "  </thead>\n",
       "  <tbody>\n",
       "    <tr>\n",
       "      <th>0</th>\n",
       "      <td>0</td>\n",
       "      <td>0.0</td>\n",
       "      <td>Die Vorlesungszeit war von Anfang September bi...</td>\n",
       "      <td>neutral</td>\n",
       "      <td>pos:\\nVielzahl an Kursen, praxisnäher, Sprachn...</td>\n",
       "      <td>positive</td>\n",
       "    </tr>\n",
       "    <tr>\n",
       "      <th>1</th>\n",
       "      <td>1</td>\n",
       "      <td>1.0</td>\n",
       "      <td>Die Pazmany Universität ist sehr klein im Verg...</td>\n",
       "      <td>positive</td>\n",
       "      <td>pos:\\nsehr klein was ich schön und angenehm fa...</td>\n",
       "      <td>neutral</td>\n",
       "    </tr>\n",
       "    <tr>\n",
       "      <th>2</th>\n",
       "      <td>2</td>\n",
       "      <td>2.0</td>\n",
       "      <td>Mit der Universität selbst hatten wir wenig zu...</td>\n",
       "      <td>neutral</td>\n",
       "      <td>neg:\\nkaum Zeit zu arbeiten\\n\\npos: alles ist ...</td>\n",
       "      <td>positive</td>\n",
       "    </tr>\n",
       "    <tr>\n",
       "      <th>3</th>\n",
       "      <td>3</td>\n",
       "      <td>3.0</td>\n",
       "      <td>Da die Vorlesungen wegen der Pandemie online s...</td>\n",
       "      <td>positive</td>\n",
       "      <td>pos:\\nnette Mensa, großes Kursangebot, leichte...</td>\n",
       "      <td>positive</td>\n",
       "    </tr>\n",
       "    <tr>\n",
       "      <th>4</th>\n",
       "      <td>4</td>\n",
       "      <td>4.0</td>\n",
       "      <td>Die City University of Hong Kong hat eine groß...</td>\n",
       "      <td>negative</td>\n",
       "      <td>neg: \\nhoher Workload, Bewertung intransparent...</td>\n",
       "      <td>positive</td>\n",
       "    </tr>\n",
       "  </tbody>\n",
       "</table>\n",
       "</div>"
      ],
      "text/plain": [
       "   Unnamed: 0.1  Unnamed: 0  \\\n",
       "0             0         0.0   \n",
       "1             1         1.0   \n",
       "2             2         2.0   \n",
       "3             3         3.0   \n",
       "4             4         4.0   \n",
       "\n",
       "                                             Studium Studium_Label  \\\n",
       "0  Die Vorlesungszeit war von Anfang September bi...       neutral   \n",
       "1  Die Pazmany Universität ist sehr klein im Verg...      positive   \n",
       "2  Mit der Universität selbst hatten wir wenig zu...       neutral   \n",
       "3  Da die Vorlesungen wegen der Pandemie online s...      positive   \n",
       "4  Die City University of Hong Kong hat eine groß...      negative   \n",
       "\n",
       "                                     Studium_Comment Sentiment  \n",
       "0  pos:\\nVielzahl an Kursen, praxisnäher, Sprachn...  positive  \n",
       "1  pos:\\nsehr klein was ich schön und angenehm fa...   neutral  \n",
       "2  neg:\\nkaum Zeit zu arbeiten\\n\\npos: alles ist ...  positive  \n",
       "3  pos:\\nnette Mensa, großes Kursangebot, leichte...  positive  \n",
       "4  neg: \\nhoher Workload, Bewertung intransparent...  positive  "
      ]
     },
     "execution_count": 28,
     "metadata": {},
     "output_type": "execute_result"
    }
   ],
   "source": [
    "data_senti=readSentiData(name)\n",
    "data_senti.head()"
   ]
  },
  {
   "cell_type": "markdown",
   "id": "3ad324fc-48f2-4873-9357-3ad52ab368ac",
   "metadata": {},
   "source": [
    "## Evaluation - Different intervals"
   ]
  },
  {
   "cell_type": "code",
   "execution_count": 29,
   "id": "3986a6b1-1a7a-4e4f-89d5-6e6ff04a0f88",
   "metadata": {},
   "outputs": [
    {
     "name": "stdout",
     "output_type": "stream",
     "text": [
      "447\n"
     ]
    },
    {
     "data": {
      "image/png": "[encoded data removed]",
      "text/plain": [
       "<Figure size 640x480 with 2 Axes>"
      ]
     },
     "metadata": {},
     "output_type": "display_data"
    },
    {
     "name": "stdout",
     "output_type": "stream",
     "text": [
      "0.4412635735439289\n",
      "              precision    recall  f1-score   support\n",
      "\n",
      "    positive       0.07      0.02      0.03       131\n",
      "    negative       0.43      0.34      0.38       402\n",
      "     neutral       0.47      0.64      0.54       480\n",
      "\n",
      "    accuracy                           0.44      1013\n",
      "   macro avg       0.32      0.33      0.32      1013\n",
      "weighted avg       0.40      0.44      0.41      1013\n",
      "\n"
     ]
    }
   ],
   "source": [
    "print(calculateMatch(data_senti))\n",
    "evaluation(data_senti)"
   ]
  },
  {
   "cell_type": "markdown",
   "id": "a84ae07c-0356-4e41-a1eb-8943af252164",
   "metadata": {},
   "source": [
    "## Add Dampener and Booster"
   ]
  },
  {
   "cell_type": "markdown",
   "id": "6ae35ecb-1f53-4aa2-8992-60ad62b2881c",
   "metadata": {},
   "source": [
    "### TO-DO: \n",
    "\n",
    "  (old Booster file)\n",
    "  1.5/0.5 (and interv 1.3/0.8)\n",
    "  --> 0.4451\n",
    "____________________\n",
    "  1.7/0.2 (and interv 1.25/0.85)\n",
    "  -->0.446\n",
    "____________________\n",
    "  1.7/0.1\n",
    "  -->0.447\n",
    "____________________\n",
    "  1.8/0.1\n",
    "  -->0.447\n",
    "____________________\n",
    "  1.9/0.08\n",
    "  --> 0.442ne\n",
    "\n",
    "  (new Booster file)\n",
    "   1.8/0.1\n",
    "   -->0.395\n",
    "____________________\n",
    "   1.7/0.2\n",
    "   -->0.405\n",
    "____________________\n",
    "   1.5/0.5\n",
    "   --> 0.415\n",
    "____________________\n",
    "   1.4/0.6\n",
    "   --> 0.423\n",
    "____________________\n",
    "   1.4/0.7\n",
    "   --> 0.424\n",
    "____________________\n",
    "   1.5/0.7\n",
    "   --> 0.424\n",
    "____________________\n",
    "   1.6/0.7\n",
    "   -->0.413\n",
    "  \n"
   ]
  },
  {
   "cell_type": "code",
   "execution_count": 31,
   "id": "74b626a5-93e4-4484-8abb-5c27aedecad9",
   "metadata": {},
   "outputs": [],
   "source": [
    "# Read the Excel file into a DataFrame\n",
    "df = pd.read_excel('../data/Booster_Dampner_stanza.xlsx')\n",
    "\n",
    "# Initialize dictionaries for booster and dampner\n",
    "booster = {}\n",
    "dampner = {}\n",
    "\n",
    "# Iterate over each row in the DataFrame\n",
    "for index, row in df.iterrows():\n",
    "    booster[row['Booster']] = 1.5  # Assigning a score for each booster\n",
    "    dampner[row['Dampener']] = 0.7  # Assigning a score for each dampner\n"
   ]
  },
  {
   "cell_type": "code",
   "execution_count": 32,
   "id": "c3879987-acdd-4b24-96de-6a348917838b",
   "metadata": {},
   "outputs": [],
   "source": [
    "from collections import Counter\n",
    "\n",
    "# Count frequency of booster and dampener words\n",
    "booster_counts = Counter(booster)\n",
    "dampner_counts = Counter(dampner)"
   ]
  },
  {
   "cell_type": "code",
   "execution_count": 33,
   "id": "09bd001a-efbe-4f95-8ecb-8fbd9f2a3abc",
   "metadata": {},
   "outputs": [],
   "source": [
    "def adjust_sentiment(sentiment_score, words):\n",
    "    #print(f\"Anfang:{sentiment_score}\")\n",
    "    # Überprüfen, ob ein Booster- oder Dämpferwort im Satz vorkommt\n",
    "    has_booster = any(word.lower() in booster for word in words)\n",
    "    has_dampener = any(word.lower() in dampner for word in words)\n",
    "\n",
    "    # Wenn ein Boosterwort vorhanden ist, multipliziere den Sentiment-Score mit dem entsprechenden Wert\n",
    "    if has_booster:\n",
    "        booster_word = next((word for word in words if word.lower() in booster), None)\n",
    "        #print(f\"Has Booster {has_booster} : {booster_word}\")\n",
    "        sentiment_score *= max(booster.values())\n",
    "        #print(f\"Boost:{sentiment_score}\")\n",
    "    # Wenn ein Dämpferwort vorhanden ist, multipliziere den Sentiment-Score mit dem entsprechenden Wert\n",
    "    if has_dampener:\n",
    "        sentiment_score *= min(dampner.values())\n",
    "        #print(f\"Damp:{sentiment_score}\")\n",
    "    return sentiment_score\n"
   ]
  },
  {
   "cell_type": "code",
   "execution_count": 34,
   "id": "4e9b8348-2dda-464a-b38a-5916ce3e0c40",
   "metadata": {},
   "outputs": [],
   "source": [
    "def getSentimentBoostDamp(neutr_interv,neg_interv, df):\n",
    "    total_sentiment = 0\n",
    "    neg = 0\n",
    "    pos = 0\n",
    "    neutr = 0\n",
    "    for i, text in enumerate(texts):\n",
    "        doc = nlp(text)\n",
    "        total_sentiment = 0\n",
    "        word_count_all = 0\n",
    "        \n",
    "        for sentence in doc.sentences:\n",
    "            word_count = len(sentence.words)\n",
    "            word_count_all += word_count\n",
    "        \n",
    "            sentence_sentiment = sentence.sentiment\n",
    "            words_in_sentence = [word.text.lower() for word in sentence.words]\n",
    "            sentiment_score = adjust_sentiment(sentence_sentiment, words_in_sentence) * word_count     \n",
    "            \n",
    "            total_sentiment += sentiment_score\n",
    "            \n",
    "        # Calculate overall sentiment based on adjusted scores\n",
    "        average_sentiment = total_sentiment / word_count_all\n",
    "        \n",
    "        # Classify sentiment category based on adjusted scores\n",
    "        if neutr_interv < average_sentiment <= 2.0:\n",
    "            sentiment = \"positive\"\n",
    "            pos+=1\n",
    "        elif neg_interv <= average_sentiment <= neutr_interv:\n",
    "            sentiment = \"neutral\"\n",
    "            neutr+=1\n",
    "        else:\n",
    "            sentiment = \"negative\"\n",
    "            neg+=1\n",
    "        \n",
    "        df.loc[i, 'Sentiment'] = sentiment\n",
    "        #print(average_sentiment)\n",
    "        #print sum \n",
    "    print(f\"Neg: {neg} Pos: {pos} Neutr: {neutr}\")\n",
    "        "
   ]
  },
  {
   "cell_type": "code",
   "execution_count": null,
   "id": "6e871768-04d6-48b4-a786-240781bb6581",
   "metadata": {},
   "outputs": [],
   "source": [
    "#intervals for damp/boost run\n",
    "neutr_interv=1.25\n",
    "neg_interv=0.8\n",
    "getSentimentBoostDamp(neutr_interv, neg_interv, data_copies[1])\n",
    "name=\"data3\"\n",
    "saveSentiData(name, data_copies[1])\n",
    "data_senti_boost=readSentiData(name)\n",
    "data_senti_boost.head()"
   ]
  },
  {
   "cell_type": "code",
   "execution_count": null,
   "id": "e363b100-5dfc-42b3-8621-732e4c7c697a",
   "metadata": {},
   "outputs": [],
   "source": [
    "## Evaluation - Booster/Dampner"
   ]
  },
  {
   "cell_type": "code",
   "execution_count": 33,
   "id": "09509389-c2cb-413c-8a4b-ba02f2d1cb5e",
   "metadata": {},
   "outputs": [
    {
     "name": "stdout",
     "output_type": "stream",
     "text": [
      "263\n"
     ]
    }
   ],
   "source": [
    "print(calculateMatch(data_senti_boost))"
   ]
  },
  {
   "cell_type": "code",
   "execution_count": 34,
   "id": "707ded01-4f17-450f-b6eb-64201290c865",
   "metadata": {
    "scrolled": true
   },
   "outputs": [
    {
     "data": {
      "image/png": "[encoded data removed]",
      "text/plain": [
       "<Figure size 640x480 with 2 Axes>"
      ]
     },
     "metadata": {},
     "output_type": "display_data"
    },
    {
     "name": "stdout",
     "output_type": "stream",
     "text": [
      "0.4241935483870968\n",
      "              precision    recall  f1-score   support\n",
      "\n",
      "    positive       0.10      0.05      0.07        77\n",
      "    negative       0.39      0.23      0.28       253\n",
      "     neutral       0.47      0.70      0.56       290\n",
      "\n",
      "    accuracy                           0.42       620\n",
      "   macro avg       0.32      0.32      0.30       620\n",
      "weighted avg       0.39      0.42      0.39       620\n",
      "\n"
     ]
    }
   ],
   "source": [
    "evaluation(data_senti_boost)"
   ]
  },
  {
   "cell_type": "markdown",
   "id": "c6129fac-61a8-4f91-9c9e-9938a61a1cd0",
   "metadata": {},
   "source": [
    "## Booster - Damp(e)ner New Booster File"
   ]
  },
  {
   "cell_type": "markdown",
   "id": "b55b96e6-8204-4504-ad29-db38215af129",
   "metadata": {},
   "source": [
    "   1.8/0.1\n",
    "   --> 0.4000000000000001\r\n",
    "              precision    recall  f1-score   support\r\n",
    "\r\n",
    "    positive       0.04      0.04      0.04        77\r\n",
    "    negative       0.42      0.41      0.42       253\r\n",
    "     neutral       0.47      0.49      0.48       290\r\n",
    "\r\n",
    "    accuracy                           0.40       620\r\n",
    "   macro avg       0.31      0.31      0.31       620\r\n",
    "weighted avg       0.39      0.40      0.40       620      620 \n",
    "____________________0.4096774193548387\r\n",
    "              precision    recall  f1-score   support\r\n",
    "\r\n",
    "    positive       0.05      0.04      0.04        77\r\n",
    "    negative       0.42      0.42      0.42       253\r\n",
    "     neutral       0.47      0.50      0.49       290\r\n",
    "\r\n",
    "    accuracy                           0.41       620\r\n",
    "   macro avg       0.31      0.32      0.32       620\r\n",
    "weighted avg       0.40      0.41      0.40       620.7/0.2\n",
    "   -->0.405\n",
    "____________0.41451612903225804\r\n",
    "              precision    recall  f1-score   support\r\n",
    "\r\n",
    "    positive       0.06      0.03      0.04        77\r\n",
    "    negative       0.40      0.36      0.38       253\r\n",
    "     neutral       0.46      0.57      0.51       290\r\n",
    "\r\n",
    "    accuracy                           0.41       620\r\n",
    "   macro avg       0.31      0.32      0.31       620\r\n",
    "weighted avg       0.38      0.41      0.40 _________________\n",
    "   1.4/0.6\n",
    "   --> \n",
    "___0.4290322580645161\r\n",
    "              precision    recall  f1-score   support\r\n",
    "\r\n",
    "    positive       0.10      0.04      0.06        77\r\n",
    "    negative       0.40      0.32      0.36       253\r\n",
    "     neutral       0.47      0.62      0.53       290\r\n",
    "\r\n",
    "    accuracy                           0.43       620\r\n",
    "   macro avg       0.32      0.33      0.32       620\r\n",
    "weighted avg       0.40      0.43      0.40       620_________________\n",
    "   1.4/0.7\n",
    "  0.42096774193548386\r\n",
    "              precision    recall  f1-score   support\r\n",
    "\r\n",
    "    positive       0.09      0.04      0.05        77\r\n",
    "    negative       0.39      0.29      0.33       253\r\n",
    "     neutral       0.46      0.64      0.54       290\r\n",
    "\r\n",
    "    accuracy                           0.42       620\r\n",
    "   macro avg       0.31      0.32      0.31       620\r\n",
    "weighted avg       0.39      0.42      0.39       620 --> \n",
    "____________________\n",
    "    0.41451612903225804\r\n",
    "              precision    recall  f1-score   support\r\n",
    "\r\n",
    "    positive       0.10      0.05      0.07        77\r\n",
    "    negative       0.38      0.26      0.31       253\r\n",
    "     neutral       0.46      0.64      0.54       290\r\n",
    "\r\n",
    "    accuracy                           0.41       620\r\n",
    "   macro avg       0.31      0.32      0.31       620\r\n",
    "weighted avg       0.38      0.41      0.39       6201.5/0.7\n",
    "   --> \n",
    "____________________\n",
    "   1.6/0.7\n",
    "   -->\n",
    "____________________\n",
    "    1.9/0.7\n",
    "    --> 0.3919354838709677\r\n",
    "              precision    recall  f1-score   support\r\n",
    "\r\n",
    "    positive       0.07      0.06      0.07        77\r\n",
    "    negative       0.39      0.21      0.27       253\r\n",
    "     neutral       0.45      0.63      0.53       290\r\n",
    "\r\n",
    "    accuracy                           0.39       620\r\n",
    "   macro avg       0.30      0.30   .3_________________________________________\n",
    "620\r\n",
    "weighted av    0.40      0.38      0.39       620\r\n",
    "\r\n",
    "Neg: 78 Pos: 231 Neutr: 315\r\n",
    "Border: 1.5 / 0\r\n",
    "242\r\n",
    "\r\n",
    "0.3903225806451613\r\n",
    "              precision    recall  f1-score   support\r\n",
    "\r\n",
    "    positive       0.06      0.06      0.06        77\r\n",
    "    negative       0.41      0.50      0.45       253\r\n",
    "     neutral       0.48      0.38      0.42       290\r\n",
    "\r\n",
    "    accuracy                           0.39       620\r\n",
    "   macr____________________________________________-\n",
    "    0.31       62eighted avg       0.40      0.39      0.39       620\r\n",
    "\r\n",
    "Neg: 45 Pos: 311 Neutr: 268\r\n",
    "Border: 1.5 / 0.3\r\n",
    "256\r\n",
    "\r\n",
    "0.4129032258064516\r\n",
    "              precision    recall  f1-score   support\r\n",
    "\r\n",
    "    positive       0.07      0.04      0.05        77\r\n",
    "    negative       0.41      0.43      0.42       253\r\n",
    "     neutral       0.47      0.50      0.48       290\r\n",
    "\r\n",
    "    accuracy                           0.41    _________________________________________________\n",
    ".31      0.32    32       620\r\n",
    "weighted avg       0.39      0.41      0.40       620\r\n",
    "\r\n",
    "Neg: 57 Pos: 281 Neutr: 286\r\n",
    "Border: 1.5 / 0.2\r\n",
    "254\r\n",
    "\r\n",
    "0.4096774193548387\r\n",
    "              precision    recall  f1-score   support\r\n",
    "\r\n",
    "    positive       0.07      0.05      0.06        77\r\n",
    "    negative       0.42      0.47      0.44       253\r\n",
    "     neutral       0.47      0.45      0.46       290\r\n",
    "\r\n",
    "    accuracy                    ___________________________________________________-\n",
    "cro avg       0.3\n",
    "  0.32      0.32       620\r\n",
    "weighted avg       0.40      0.41      0.40       620\r\n",
    "\r\n",
    "Neg: 65 Pos: 248 Neutr: 311\r\n",
    "Border: 1.5 / 0.1\r\n",
    "248\r\n",
    "\r\n",
    "0.4000000000000001\r\n",
    "              precision    recall  f1-score   support\r\n",
    "\r\n",
    "    positive       0.06      0.05      0.06        77\r\n",
    "    negative       0.41      0.50      0.45       253\r\n",
    "     neutral       0.47      0.40      0.44       290\r\n",
    "\r\n",
    "    accuracy   \r\n",
    "     neutral       0.46      0.15      0.23       290\r\n",
    "\r\n",
    "    accuracy                           0.31       620\r\n",
    "   macro avg       0.33      0.33      0.28       620\r\n",
    "weighted avg       0.40      0.31      0.31       620\r\n",
    "\r\n",
    "\r\n",
    "   0.29       620\r\n",
    "weighted avg       0.38      0.39      0.37       620"
   ]
  },
  {
   "cell_type": "code",
   "execution_count": 28,
   "id": "b3ee5e5d-64ff-4ded-8609-7fedcf7b6ffc",
   "metadata": {},
   "outputs": [
    {
     "name": "stdout",
     "output_type": "stream",
     "text": [
      "Neg: 69 Pos: 305 Neutr: 250\n",
      "Border: 1.8 / 0.1\n",
      "248\n"
     ]
    },
    {
     "data": {
      "image/png": "[encoded data removed]",
      "text/plain": [
       "<Figure size 640x480 with 2 Axes>"
      ]
     },
     "metadata": {},
     "output_type": "display_data"
    },
    {
     "name": "stdout",
     "output_type": "stream",
     "text": [
      "0.4000000000000001\n",
      "              precision    recall  f1-score   support\n",
      "\n",
      "    positive       0.04      0.04      0.04        77\n",
      "    negative       0.42      0.41      0.42       253\n",
      "     neutral       0.47      0.49      0.48       290\n",
      "\n",
      "    accuracy                           0.40       620\n",
      "   macro avg       0.31      0.31      0.31       620\n",
      "weighted avg       0.39      0.40      0.40       620\n",
      "\n",
      "Neg: 59 Pos: 314 Neutr: 251\n",
      "Border: 1.7 / 0.2\n",
      "254\n"
     ]
    },
    {
     "data": {
      "image/png": "[encoded data removed]",
      "text/plain": [
       "<Figure size 640x480 with 2 Axes>"
      ]
     },
     "metadata": {},
     "output_type": "display_data"
    },
    {
     "name": "stdout",
     "output_type": "stream",
     "text": [
      "0.4096774193548387\n",
      "              precision    recall  f1-score   support\n",
      "\n",
      "    positive       0.05      0.04      0.04        77\n",
      "    negative       0.42      0.42      0.42       253\n",
      "     neutral       0.47      0.50      0.49       290\n",
      "\n",
      "    accuracy                           0.41       620\n",
      "   macro avg       0.31      0.32      0.32       620\n",
      "weighted avg       0.40      0.41      0.40       620\n",
      "\n",
      "Neg: 34 Pos: 361 Neutr: 229\n",
      "Border: 1.5 / 0.5\n",
      "257\n"
     ]
    },
    {
     "data": {
      "image/png": "[encoded data removed]",
      "text/plain": [
       "<Figure size 640x480 with 2 Axes>"
      ]
     },
     "metadata": {},
     "output_type": "display_data"
    },
    {
     "name": "stdout",
     "output_type": "stream",
     "text": [
      "0.41451612903225804\n",
      "              precision    recall  f1-score   support\n",
      "\n",
      "    positive       0.06      0.03      0.04        77\n",
      "    negative       0.40      0.36      0.38       253\n",
      "     neutral       0.46      0.57      0.51       290\n",
      "\n",
      "    accuracy                           0.41       620\n",
      "   macro avg       0.31      0.32      0.31       620\n",
      "weighted avg       0.38      0.41      0.40       620\n",
      "\n",
      "Neg: 30 Pos: 390 Neutr: 204\n",
      "Border: 1.4 / 0.7\n",
      "266\n"
     ]
    },
    {
     "data": {
      "image/png": "[encoded data removed]",
      "text/plain": [
       "<Figure size 640x480 with 2 Axes>"
      ]
     },
     "metadata": {},
     "output_type": "display_data"
    },
    {
     "name": "stdout",
     "output_type": "stream",
     "text": [
      "0.4290322580645161\n",
      "              precision    recall  f1-score   support\n",
      "\n",
      "    positive       0.10      0.04      0.06        77\n",
      "    negative       0.40      0.32      0.36       253\n",
      "     neutral       0.47      0.62      0.53       290\n",
      "\n",
      "    accuracy                           0.43       620\n",
      "   macro avg       0.32      0.33      0.32       620\n",
      "weighted avg       0.40      0.43      0.40       620\n",
      "\n",
      "Neg: 34 Pos: 402 Neutr: 188\n",
      "Border: 1.5 / 0.7\n",
      "261\n"
     ]
    },
    {
     "data": {
      "image/png": "[encoded data removed]",
      "text/plain": [
       "<Figure size 640x480 with 2 Axes>"
      ]
     },
     "metadata": {},
     "output_type": "display_data"
    },
    {
     "name": "stdout",
     "output_type": "stream",
     "text": [
      "0.42096774193548386\n",
      "              precision    recall  f1-score   support\n",
      "\n",
      "    positive       0.09      0.04      0.05        77\n",
      "    negative       0.39      0.29      0.33       253\n",
      "     neutral       0.46      0.64      0.54       290\n",
      "\n",
      "    accuracy                           0.42       620\n",
      "   macro avg       0.31      0.32      0.31       620\n",
      "weighted avg       0.39      0.42      0.39       620\n",
      "\n",
      "Neg: 42 Pos: 409 Neutr: 173\n",
      "Border: 1.6 / 0.7\n",
      "257\n"
     ]
    },
    {
     "data": {
      "image/png": "[encoded data removed]",
      "text/plain": [
       "<Figure size 640x480 with 2 Axes>"
      ]
     },
     "metadata": {},
     "output_type": "display_data"
    },
    {
     "name": "stdout",
     "output_type": "stream",
     "text": [
      "0.41451612903225804\n",
      "              precision    recall  f1-score   support\n",
      "\n",
      "    positive       0.10      0.05      0.07        77\n",
      "    negative       0.38      0.26      0.31       253\n",
      "     neutral       0.46      0.64      0.54       290\n",
      "\n",
      "    accuracy                           0.41       620\n",
      "   macro avg       0.31      0.32      0.31       620\n",
      "weighted avg       0.38      0.41      0.39       620\n",
      "\n"
     ]
    }
   ],
   "source": [
    "list_border = {1: [1.8, 0.1], 2: [1.7, 0.2], 3: [1.5, 0.5], 4: [1.4, 0.7], 5: [1.5, 0.7], 6: [1.6, 0.7]}\n",
    "\n",
    "for key in list_border:\n",
    "\n",
    "    value1 = list_border[key][0]\n",
    "    value2 = list_border[key][1]\n",
    "\n",
    "    # Read the Excel file into a DataFrame\n",
    "    df = pd.read_excel('../data/Booster_Dampner_stanza_oneWord.xlsx')\n",
    "    \n",
    "    # Initialize dictionaries for booster and dampner\n",
    "    booster = {}\n",
    "    dampner = {}\n",
    "    \n",
    "    # Iterate over each row in the DataFrame\n",
    "    for index, row in df.iterrows():\n",
    "        booster[row['Booster']] = value1  # Assigning a score for each booster\n",
    "        dampner[row['Dampener']] = value2  # Assigning a score for each dampner\n",
    "    \n",
    "    #print(\"Booster Dictionary:\")\n",
    "    #print(booster)\n",
    "    #print(\"\\nDampner Dictionary:\")\n",
    "    #print(dampner)\n",
    "    \n",
    "    \n",
    "    from collections import Counter\n",
    "    \n",
    "    # Count frequency of booster and dampener words\n",
    "    booster_counts = Counter(booster)\n",
    "    dampner_counts = Counter(dampner)\n",
    "    \n",
    "    #intervals for damp/boost run\n",
    "    neutr_interv=1.25\n",
    "    neg_interv=0.8\n",
    "    \n",
    "    getSentimentBoostDamp(neutr_interv, neg_interv, data_copies[2])\n",
    "    name=\"data4\"\n",
    "    saveSentiData(name, data_copies[2])\n",
    "    data_senti_boost=readSentiData(name)\n",
    "    data_senti_boost.head()\n",
    "    \n",
    "    ## Evaluation - Booster/Dampner\n",
    "    print(f\"Border: {value1} / {value2}\")\n",
    "    print(calculateMatch(data_senti_boost))\n",
    "    evaluation(data_senti_boost)"
   ]
  },
  {
   "cell_type": "code",
   "execution_count": null,
   "id": "1a173202-e3fa-43e5-b366-9945771e2598",
   "metadata": {},
   "outputs": [],
   "source": []
  }
 ],
 "metadata": {
  "kernelspec": {
   "display_name": "Python 3 (ipykernel)",
   "language": "python",
   "name": "python3"
  },
  "language_info": {
   "codemirror_mode": {
    "name": "ipython",
    "version": 3
   },
   "file_extension": ".py",
   "mimetype": "text/x-python",
   "name": "python",
   "nbconvert_exporter": "python",
   "pygments_lexer": "ipython3",
   "version": "3.11.8"
  }
 },
 "nbformat": 4,
 "nbformat_minor": 5
}
