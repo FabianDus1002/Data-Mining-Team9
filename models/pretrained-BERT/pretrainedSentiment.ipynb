{
 "cells": [
  {
   "cell_type": "markdown",
   "id": "445dc536-9fa7-4685-bf7c-578e40e6be98",
   "metadata": {},
   "source": [
    "# Data import\n",
    "import labeled dataset and remove all rows that do not posses a label."
   ]
  },
  {
   "cell_type": "code",
   "execution_count": 1,
   "id": "10598a53-3750-42a4-8d3b-3f04560d4f78",
   "metadata": {},
   "outputs": [
    {
     "name": "stdout",
     "output_type": "stream",
     "text": [
      "   Unnamed: 0                                            Studium Studium_Label\n",
      "0          60  Das Studium in Exeter war au§erordentlich sch...      positive\n",
      "1         511  Chulalongkorn ist ein Trumchen. Das Kursangeb...      positive\n",
      "2         260  Das Studium an sich ist weniger anspruchsvoll ...       neutral\n",
      "3         694  Bereits im Sommer hatten wir eine Mail erhalte...       neutral\n",
      "4         731  Es sind sehr viele Kurse auf Englisch angebote...      positive\n"
     ]
    }
   ],
   "source": [
    "import pandas as pd\n",
    "\n",
    "\n",
    "# Load your data\n",
    "data = pd.read_csv('../../data/test_dataset_for_other_models.csv', sep=\";\", encoding=\"latin1\")\n",
    "\n",
    "data.head()\n",
    "# Get all rows that are non empty\n",
    "cleanedData = data[data['Studium_Label'].notnull()]\n",
    "print(cleanedData.head())"
   ]
  },
  {
   "cell_type": "markdown",
   "id": "dd0c4709-bc82-4286-9d77-1d93818a23a5",
   "metadata": {},
   "source": [
    "# Model application\n",
    "\n",
    "imports the BERT based germantsentiment model created by oliver guhr (https://huggingface.co/oliverguhr/german-sentiment-bert). The model is then applied to only the text of an column. The for loop can be expanded to accomodatae for multiple columns."
   ]
  },
  {
   "cell_type": "code",
   "execution_count": 2,
   "id": "401c5d61-340c-4bbf-801b-01c991b7fc57",
   "metadata": {},
   "outputs": [
    {
     "name": "stderr",
     "output_type": "stream",
     "text": [
      "/Users/fabianstreitleisure/anaconda3/lib/python3.11/site-packages/transformers/utils/generic.py:260: UserWarning: torch.utils._pytree._register_pytree_node is deprecated. Please use torch.utils._pytree.register_pytree_node instead.\n",
      "  torch.utils._pytree._register_pytree_node(\n",
      "/Users/fabianstreitleisure/anaconda3/lib/python3.11/site-packages/transformers/utils/generic.py:260: UserWarning: torch.utils._pytree._register_pytree_node is deprecated. Please use torch.utils._pytree.register_pytree_node instead.\n",
      "  torch.utils._pytree._register_pytree_node(\n"
     ]
    },
    {
     "name": "stdout",
     "output_type": "stream",
     "text": [
      "------------------------------\n",
      "Results of: Studium\n",
      "negative entries: 28\n",
      "positive entries: 49\n",
      "neutral entries: 180\n",
      "------------------------------\n"
     ]
    }
   ],
   "source": [
    "from germansentiment import SentimentModel\n",
    "#load the model\n",
    "model = SentimentModel()\n",
    "#selects to be labeled columns\n",
    "columns = ['Studium']\n",
    "for x in columns:\n",
    "    cleanedData[x] = cleanedData[x].astype(str)\n",
    "    #predict results\n",
    "    results = model.predict_sentiment(cleanedData[x])\n",
    "    print(\"------------------------------\")\n",
    "    print(\"Results of: \" + x)\n",
    "    print(\"negative entries: \" + str(results.count('negative')))\n",
    "    print(\"positive entries: \" + str(results.count('positive')))\n",
    "    print(\"neutral entries: \" + str(results.count('neutral')))\n",
    "    print(\"------------------------------\")"
   ]
  },
  {
   "cell_type": "code",
   "execution_count": 3,
   "id": "695a181e-e5ba-48fb-a8c9-06ac5716fd04",
   "metadata": {},
   "outputs": [
    {
     "data": {
      "text/html": [
       "<div>\n",
       "<style scoped>\n",
       "    .dataframe tbody tr th:only-of-type {\n",
       "        vertical-align: middle;\n",
       "    }\n",
       "\n",
       "    .dataframe tbody tr th {\n",
       "        vertical-align: top;\n",
       "    }\n",
       "\n",
       "    .dataframe thead th {\n",
       "        text-align: right;\n",
       "    }\n",
       "</style>\n",
       "<table border=\"1\" class=\"dataframe\">\n",
       "  <thead>\n",
       "    <tr style=\"text-align: right;\">\n",
       "      <th></th>\n",
       "      <th>Unnamed: 0</th>\n",
       "      <th>Studium</th>\n",
       "      <th>Studium_Label</th>\n",
       "      <th>SentimentPrediction</th>\n",
       "    </tr>\n",
       "  </thead>\n",
       "  <tbody>\n",
       "    <tr>\n",
       "      <th>0</th>\n",
       "      <td>60</td>\n",
       "      <td>Das Studium in Exeter war au§erordentlich sch...</td>\n",
       "      <td>positive</td>\n",
       "      <td>positive</td>\n",
       "    </tr>\n",
       "    <tr>\n",
       "      <th>1</th>\n",
       "      <td>511</td>\n",
       "      <td>Chulalongkorn ist ein Trumchen. Das Kursangeb...</td>\n",
       "      <td>positive</td>\n",
       "      <td>positive</td>\n",
       "    </tr>\n",
       "    <tr>\n",
       "      <th>2</th>\n",
       "      <td>260</td>\n",
       "      <td>Das Studium an sich ist weniger anspruchsvoll ...</td>\n",
       "      <td>neutral</td>\n",
       "      <td>neutral</td>\n",
       "    </tr>\n",
       "    <tr>\n",
       "      <th>3</th>\n",
       "      <td>694</td>\n",
       "      <td>Bereits im Sommer hatten wir eine Mail erhalte...</td>\n",
       "      <td>neutral</td>\n",
       "      <td>neutral</td>\n",
       "    </tr>\n",
       "    <tr>\n",
       "      <th>4</th>\n",
       "      <td>731</td>\n",
       "      <td>Es sind sehr viele Kurse auf Englisch angebote...</td>\n",
       "      <td>positive</td>\n",
       "      <td>positive</td>\n",
       "    </tr>\n",
       "  </tbody>\n",
       "</table>\n",
       "</div>"
      ],
      "text/plain": [
       "   Unnamed: 0                                            Studium  \\\n",
       "0          60  Das Studium in Exeter war au§erordentlich sch...   \n",
       "1         511  Chulalongkorn ist ein Trumchen. Das Kursangeb...   \n",
       "2         260  Das Studium an sich ist weniger anspruchsvoll ...   \n",
       "3         694  Bereits im Sommer hatten wir eine Mail erhalte...   \n",
       "4         731  Es sind sehr viele Kurse auf Englisch angebote...   \n",
       "\n",
       "  Studium_Label SentimentPrediction  \n",
       "0      positive            positive  \n",
       "1      positive            positive  \n",
       "2       neutral             neutral  \n",
       "3       neutral             neutral  \n",
       "4      positive            positive  "
      ]
     },
     "execution_count": 3,
     "metadata": {},
     "output_type": "execute_result"
    }
   ],
   "source": [
    "#append prediction to dataframe\n",
    "cleanedData['SentimentPrediction'] = results\n",
    "cleanedData.head()"
   ]
  },
  {
   "cell_type": "markdown",
   "id": "cea0761d-9c68-46cb-a2f9-9132b7640bee",
   "metadata": {},
   "source": [
    "# Evaluation\n",
    "For evaluation purposes we employ confusion matrices and the micro averaged F1 Score"
   ]
  },
  {
   "cell_type": "code",
   "execution_count": 4,
   "id": "d33c3701-d364-4c5b-99e7-bedc7512e786",
   "metadata": {},
   "outputs": [],
   "source": [
    "def calculateMatch(df):\n",
    "    match_count = (df['Studium_Label'] == df['SentimentPrediction']).sum()\n",
    "    return match_count"
   ]
  },
  {
   "cell_type": "code",
   "execution_count": 5,
   "id": "65f3a155-8d5c-472c-8d2a-c862c2591335",
   "metadata": {},
   "outputs": [
    {
     "name": "stdout",
     "output_type": "stream",
     "text": [
      "134\n"
     ]
    }
   ],
   "source": [
    "print(calculateMatch(cleanedData))"
   ]
  },
  {
   "cell_type": "code",
   "execution_count": 6,
   "id": "910b0800-ebce-41d4-966d-d59759f80bfa",
   "metadata": {},
   "outputs": [
    {
     "name": "stdout",
     "output_type": "stream",
     "text": [
      "huggingface/tokenizers: The current process just got forked, after parallelism has already been used. Disabling parallelism to avoid deadlocks...\n",
      "To disable this warning, you can either:\n",
      "\t- Avoid using `tokenizers` before the fork if possible\n",
      "\t- Explicitly set the environment variable TOKENIZERS_PARALLELISM=(true | false)\n"
     ]
    },
    {
     "data": {
      "image/png": "[encoded data removed]",
      "text/plain": [
       "<Figure size 640x480 with 2 Axes>"
      ]
     },
     "metadata": {},
     "output_type": "display_data"
    },
    {
     "name": "stdout",
     "output_type": "stream",
     "text": [
      "0.5214007782101168\n",
      "              precision    recall  f1-score   support\n",
      "\n",
      "    positive       0.54      0.43      0.48        35\n",
      "    negative       0.47      0.79      0.59       106\n",
      "     neutral       0.71      0.30      0.42       116\n",
      "\n",
      "    accuracy                           0.52       257\n",
      "   macro avg       0.57      0.51      0.50       257\n",
      "weighted avg       0.59      0.52      0.50       257\n",
      "\n"
     ]
    }
   ],
   "source": [
    "from sklearn.metrics import confusion_matrix, ConfusionMatrixDisplay, f1_score, classification_report\n",
    "import matplotlib.pyplot as plt\n",
    "#calculate and display the confusion matrix\n",
    "confusion_mat = confusion_matrix(cleanedData['Studium_Label'], cleanedData['SentimentPrediction'], labels=['positive', 'negative', 'neutral'])\n",
    "\n",
    "disp = ConfusionMatrixDisplay(confusion_matrix=confusion_mat, display_labels=['positive', 'negative', 'neutral'])\n",
    "disp.plot()\n",
    "plt.show()\n",
    "#calculate and print f1 score\n",
    "print(f1_score(cleanedData['Studium_Label'], cleanedData['SentimentPrediction'], labels=['positive', 'negative', 'neutral'], average='micro'))\n",
    "print(classification_report(\n",
    "    cleanedData['Studium_Label'],\n",
    "    cleanedData['SentimentPrediction'],\n",
    "    output_dict=False,\n",
    "    target_names=['positive', 'negative', 'neutral']\n",
    "))"
   ]
  }
 ],
 "metadata": {
  "kernelspec": {
   "display_name": "Python 3 (ipykernel)",
   "language": "python",
   "name": "python3"
  },
  "language_info": {
   "codemirror_mode": {
    "name": "ipython",
    "version": 3
   },
   "file_extension": ".py",
   "mimetype": "text/x-python",
   "name": "python",
   "nbconvert_exporter": "python",
   "pygments_lexer": "ipython3",
   "version": "3.11.5"
  }
 },
 "nbformat": 4,
 "nbformat_minor": 5
}
