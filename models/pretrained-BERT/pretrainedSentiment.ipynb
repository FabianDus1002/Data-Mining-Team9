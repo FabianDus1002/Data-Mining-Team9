{
 "cells": [
  {
   "cell_type": "markdown",
   "id": "445dc536-9fa7-4685-bf7c-578e40e6be98",
   "metadata": {},
   "source": [
    "# Data import\n",
    "import labeled dataset and cleans all rows that do not posses a label to this point"
   ]
  },
  {
   "cell_type": "code",
   "execution_count": 1,
   "id": "10598a53-3750-42a4-8d3b-3f04560d4f78",
   "metadata": {},
   "outputs": [
    {
     "data": {
      "text/html": [
       "<div>\n",
       "<style scoped>\n",
       "    .dataframe tbody tr th:only-of-type {\n",
       "        vertical-align: middle;\n",
       "    }\n",
       "\n",
       "    .dataframe tbody tr th {\n",
       "        vertical-align: top;\n",
       "    }\n",
       "\n",
       "    .dataframe thead th {\n",
       "        text-align: right;\n",
       "    }\n",
       "</style>\n",
       "<table border=\"1\" class=\"dataframe\">\n",
       "  <thead>\n",
       "    <tr style=\"text-align: right;\">\n",
       "      <th></th>\n",
       "      <th>Unnamed: 0</th>\n",
       "      <th>Studium</th>\n",
       "      <th>Studium_Label</th>\n",
       "      <th>Studium_Comment</th>\n",
       "    </tr>\n",
       "  </thead>\n",
       "  <tbody>\n",
       "    <tr>\n",
       "      <th>0</th>\n",
       "      <td>0</td>\n",
       "      <td>Die Vorlesungszeit war von Anfang September bi...</td>\n",
       "      <td>neutral</td>\n",
       "      <td>pos:\\nVielzahl an Kursen, praxisnäher, Sprachn...</td>\n",
       "    </tr>\n",
       "    <tr>\n",
       "      <th>1</th>\n",
       "      <td>1</td>\n",
       "      <td>Die Pazmany Universität ist sehr klein im Verg...</td>\n",
       "      <td>positive</td>\n",
       "      <td>pos:\\nsehr klein was ich schön und angenehm fa...</td>\n",
       "    </tr>\n",
       "    <tr>\n",
       "      <th>2</th>\n",
       "      <td>2</td>\n",
       "      <td>Mit der Universität selbst hatten wir wenig zu...</td>\n",
       "      <td>neutral</td>\n",
       "      <td>neg:\\nkaum Zeit zu arbeiten\\n\\npos: alles ist ...</td>\n",
       "    </tr>\n",
       "    <tr>\n",
       "      <th>3</th>\n",
       "      <td>3</td>\n",
       "      <td>Da die Vorlesungen wegen der Pandemie online s...</td>\n",
       "      <td>positive</td>\n",
       "      <td>pos:\\nnette Mensa, großes Kursangebot, leichte...</td>\n",
       "    </tr>\n",
       "    <tr>\n",
       "      <th>4</th>\n",
       "      <td>4</td>\n",
       "      <td>Die City University of Hong Kong hat eine groß...</td>\n",
       "      <td>negative</td>\n",
       "      <td>neg: \\nhoher Workload, Bewertung intransparent...</td>\n",
       "    </tr>\n",
       "  </tbody>\n",
       "</table>\n",
       "</div>"
      ],
      "text/plain": [
       "   Unnamed: 0                                            Studium  \\\n",
       "0           0  Die Vorlesungszeit war von Anfang September bi...   \n",
       "1           1  Die Pazmany Universität ist sehr klein im Verg...   \n",
       "2           2  Mit der Universität selbst hatten wir wenig zu...   \n",
       "3           3  Da die Vorlesungen wegen der Pandemie online s...   \n",
       "4           4  Die City University of Hong Kong hat eine groß...   \n",
       "\n",
       "  Studium_Label                                    Studium_Comment  \n",
       "0       neutral  pos:\\nVielzahl an Kursen, praxisnäher, Sprachn...  \n",
       "1      positive  pos:\\nsehr klein was ich schön und angenehm fa...  \n",
       "2       neutral  neg:\\nkaum Zeit zu arbeiten\\n\\npos: alles ist ...  \n",
       "3      positive  pos:\\nnette Mensa, großes Kursangebot, leichte...  \n",
       "4      negative  neg: \\nhoher Workload, Bewertung intransparent...  "
      ]
     },
     "execution_count": 1,
     "metadata": {},
     "output_type": "execute_result"
    }
   ],
   "source": [
    "import pandas as pd\n",
    "\n",
    "\n",
    "# Load your data\n",
    "data = pd.read_excel('../../data/080524subset_studium_german.xlsx')\n",
    "\n",
    "data.head()\n",
    "# Get all rows that are non empty\n",
    "cleanedData = data[data['Studium_Label'].notnull()]\n",
    "cleanedData.head()"
   ]
  },
  {
   "cell_type": "markdown",
   "id": "dd0c4709-bc82-4286-9d77-1d93818a23a5",
   "metadata": {},
   "source": [
    "# Model application\n",
    "\n",
    "imports the BERT based germantsentiment model created by oliver guhr (https://huggingface.co/oliverguhr/german-sentiment-bert). The model is then applied to only the text of an column. The for loop can be expanded to accomodatae for multiple columns."
   ]
  },
  {
   "cell_type": "code",
   "execution_count": 2,
   "id": "401c5d61-340c-4bbf-801b-01c991b7fc57",
   "metadata": {},
   "outputs": [
    {
     "name": "stderr",
     "output_type": "stream",
     "text": [
      "/Users/fabianstreitleisure/anaconda3/lib/python3.11/site-packages/transformers/utils/generic.py:260: UserWarning: torch.utils._pytree._register_pytree_node is deprecated. Please use torch.utils._pytree.register_pytree_node instead.\n",
      "  torch.utils._pytree._register_pytree_node(\n",
      "/Users/fabianstreitleisure/anaconda3/lib/python3.11/site-packages/transformers/utils/generic.py:260: UserWarning: torch.utils._pytree._register_pytree_node is deprecated. Please use torch.utils._pytree.register_pytree_node instead.\n",
      "  torch.utils._pytree._register_pytree_node(\n",
      "/var/folders/vr/hb099htx7sbglwdnz8y2_ykh0000gp/T/ipykernel_98573/3330814730.py:7: SettingWithCopyWarning: \n",
      "A value is trying to be set on a copy of a slice from a DataFrame.\n",
      "Try using .loc[row_indexer,col_indexer] = value instead\n",
      "\n",
      "See the caveats in the documentation: https://pandas.pydata.org/pandas-docs/stable/user_guide/indexing.html#returning-a-view-versus-a-copy\n",
      "  cleanedData[x] = cleanedData[x].astype(str)\n"
     ]
    },
    {
     "name": "stdout",
     "output_type": "stream",
     "text": [
      "------------------------------\n",
      "Results of: Studium\n",
      "negative entries: 83\n",
      "positive entries: 248\n",
      "neutral entries: 586\n",
      "------------------------------\n"
     ]
    }
   ],
   "source": [
    "from germansentiment import SentimentModel\n",
    "\n",
    "model = SentimentModel()\n",
    "\n",
    "columns = ['Studium']\n",
    "for x in columns:\n",
    "    cleanedData[x] = cleanedData[x].astype(str)\n",
    "    results = model.predict_sentiment(cleanedData[x])\n",
    "    print(\"------------------------------\")\n",
    "    print(\"Results of: \" + x)\n",
    "    print(\"negative entries: \" + str(results.count('negative')))\n",
    "    print(\"positive entries: \" + str(results.count('positive')))\n",
    "    print(\"neutral entries: \" + str(results.count('neutral')))\n",
    "    print(\"------------------------------\")"
   ]
  },
  {
   "cell_type": "code",
   "execution_count": 3,
   "id": "695a181e-e5ba-48fb-a8c9-06ac5716fd04",
   "metadata": {},
   "outputs": [
    {
     "name": "stderr",
     "output_type": "stream",
     "text": [
      "/var/folders/vr/hb099htx7sbglwdnz8y2_ykh0000gp/T/ipykernel_98573/1581827758.py:2: SettingWithCopyWarning: \n",
      "A value is trying to be set on a copy of a slice from a DataFrame.\n",
      "Try using .loc[row_indexer,col_indexer] = value instead\n",
      "\n",
      "See the caveats in the documentation: https://pandas.pydata.org/pandas-docs/stable/user_guide/indexing.html#returning-a-view-versus-a-copy\n",
      "  cleanedData['SentimentPrediction'] = results\n"
     ]
    },
    {
     "data": {
      "text/html": [
       "<div>\n",
       "<style scoped>\n",
       "    .dataframe tbody tr th:only-of-type {\n",
       "        vertical-align: middle;\n",
       "    }\n",
       "\n",
       "    .dataframe tbody tr th {\n",
       "        vertical-align: top;\n",
       "    }\n",
       "\n",
       "    .dataframe thead th {\n",
       "        text-align: right;\n",
       "    }\n",
       "</style>\n",
       "<table border=\"1\" class=\"dataframe\">\n",
       "  <thead>\n",
       "    <tr style=\"text-align: right;\">\n",
       "      <th></th>\n",
       "      <th>Unnamed: 0</th>\n",
       "      <th>Studium</th>\n",
       "      <th>Studium_Label</th>\n",
       "      <th>Studium_Comment</th>\n",
       "      <th>SentimentPrediction</th>\n",
       "    </tr>\n",
       "  </thead>\n",
       "  <tbody>\n",
       "    <tr>\n",
       "      <th>0</th>\n",
       "      <td>0</td>\n",
       "      <td>Die Vorlesungszeit war von Anfang September bi...</td>\n",
       "      <td>neutral</td>\n",
       "      <td>pos:\\nVielzahl an Kursen, praxisnäher, Sprachn...</td>\n",
       "      <td>neutral</td>\n",
       "    </tr>\n",
       "    <tr>\n",
       "      <th>1</th>\n",
       "      <td>1</td>\n",
       "      <td>Die Pazmany Universität ist sehr klein im Verg...</td>\n",
       "      <td>positive</td>\n",
       "      <td>pos:\\nsehr klein was ich schön und angenehm fa...</td>\n",
       "      <td>positive</td>\n",
       "    </tr>\n",
       "    <tr>\n",
       "      <th>2</th>\n",
       "      <td>2</td>\n",
       "      <td>Mit der Universität selbst hatten wir wenig zu...</td>\n",
       "      <td>neutral</td>\n",
       "      <td>neg:\\nkaum Zeit zu arbeiten\\n\\npos: alles ist ...</td>\n",
       "      <td>negative</td>\n",
       "    </tr>\n",
       "    <tr>\n",
       "      <th>3</th>\n",
       "      <td>3</td>\n",
       "      <td>Da die Vorlesungen wegen der Pandemie online s...</td>\n",
       "      <td>positive</td>\n",
       "      <td>pos:\\nnette Mensa, großes Kursangebot, leichte...</td>\n",
       "      <td>neutral</td>\n",
       "    </tr>\n",
       "    <tr>\n",
       "      <th>4</th>\n",
       "      <td>4</td>\n",
       "      <td>Die City University of Hong Kong hat eine groß...</td>\n",
       "      <td>negative</td>\n",
       "      <td>neg: \\nhoher Workload, Bewertung intransparent...</td>\n",
       "      <td>positive</td>\n",
       "    </tr>\n",
       "  </tbody>\n",
       "</table>\n",
       "</div>"
      ],
      "text/plain": [
       "   Unnamed: 0                                            Studium  \\\n",
       "0           0  Die Vorlesungszeit war von Anfang September bi...   \n",
       "1           1  Die Pazmany Universität ist sehr klein im Verg...   \n",
       "2           2  Mit der Universität selbst hatten wir wenig zu...   \n",
       "3           3  Da die Vorlesungen wegen der Pandemie online s...   \n",
       "4           4  Die City University of Hong Kong hat eine groß...   \n",
       "\n",
       "  Studium_Label                                    Studium_Comment  \\\n",
       "0       neutral  pos:\\nVielzahl an Kursen, praxisnäher, Sprachn...   \n",
       "1      positive  pos:\\nsehr klein was ich schön und angenehm fa...   \n",
       "2       neutral  neg:\\nkaum Zeit zu arbeiten\\n\\npos: alles ist ...   \n",
       "3      positive  pos:\\nnette Mensa, großes Kursangebot, leichte...   \n",
       "4      negative  neg: \\nhoher Workload, Bewertung intransparent...   \n",
       "\n",
       "  SentimentPrediction  \n",
       "0             neutral  \n",
       "1            positive  \n",
       "2            negative  \n",
       "3             neutral  \n",
       "4            positive  "
      ]
     },
     "execution_count": 3,
     "metadata": {},
     "output_type": "execute_result"
    }
   ],
   "source": [
    "#append prediction to dataframe\n",
    "cleanedData['SentimentPrediction'] = results\n",
    "cleanedData.head()"
   ]
  },
  {
   "cell_type": "markdown",
   "id": "cea0761d-9c68-46cb-a2f9-9132b7640bee",
   "metadata": {},
   "source": [
    "# Evaluation"
   ]
  },
  {
   "cell_type": "code",
   "execution_count": 4,
   "id": "d33c3701-d364-4c5b-99e7-bedc7512e786",
   "metadata": {},
   "outputs": [],
   "source": [
    "def calculateMatch(df):\n",
    "    match_count = (df['Studium_Label'] == df['SentimentPrediction']).sum()\n",
    "    return match_count"
   ]
  },
  {
   "cell_type": "code",
   "execution_count": 5,
   "id": "65f3a155-8d5c-472c-8d2a-c862c2591335",
   "metadata": {},
   "outputs": [
    {
     "name": "stdout",
     "output_type": "stream",
     "text": [
      "426\n"
     ]
    }
   ],
   "source": [
    "print(calculateMatch(cleanedData))"
   ]
  },
  {
   "cell_type": "code",
   "execution_count": 6,
   "id": "910b0800-ebce-41d4-966d-d59759f80bfa",
   "metadata": {},
   "outputs": [
    {
     "name": "stdout",
     "output_type": "stream",
     "text": [
      "huggingface/tokenizers: The current process just got forked, after parallelism has already been used. Disabling parallelism to avoid deadlocks...\n",
      "To disable this warning, you can either:\n",
      "\t- Avoid using `tokenizers` before the fork if possible\n",
      "\t- Explicitly set the environment variable TOKENIZERS_PARALLELISM=(true | false)\n"
     ]
    },
    {
     "data": {
      "image/png": "[encoded data removed]",
      "text/plain": [
       "<Figure size 640x480 with 2 Axes>"
      ]
     },
     "metadata": {},
     "output_type": "display_data"
    },
    {
     "name": "stdout",
     "output_type": "stream",
     "text": [
      "0.46455834242093785\n",
      "              precision    recall  f1-score   support\n",
      "\n",
      "    positive       0.48      0.33      0.39       121\n",
      "    negative       0.39      0.68      0.50       342\n",
      "     neutral       0.62      0.34      0.44       454\n",
      "\n",
      "    accuracy                           0.46       917\n",
      "   macro avg       0.50      0.45      0.44       917\n",
      "weighted avg       0.52      0.46      0.46       917\n",
      "\n"
     ]
    }
   ],
   "source": [
    "from sklearn.metrics import confusion_matrix, ConfusionMatrixDisplay, f1_score, classification_report\n",
    "import matplotlib.pyplot as plt\n",
    "confusion_mat = confusion_matrix(cleanedData['Studium_Label'], cleanedData['SentimentPrediction'], labels=['positive', 'negative', 'neutral'])\n",
    "\n",
    "disp = ConfusionMatrixDisplay(confusion_matrix=confusion_mat, display_labels=['positive', 'negative', 'neutral'])\n",
    "disp.plot()\n",
    "plt.show()\n",
    "print(f1_score(cleanedData['Studium_Label'], cleanedData['SentimentPrediction'], labels=['positive', 'negative', 'neutral'], average='micro'))\n",
    "print(classification_report(\n",
    "    cleanedData['Studium_Label'],\n",
    "    cleanedData['SentimentPrediction'],\n",
    "    output_dict=False,\n",
    "    target_names=['positive', 'negative', 'neutral']\n",
    "))"
   ]
  },
  {
   "cell_type": "code",
   "execution_count": null,
   "id": "1da4df83-c23b-40eb-a342-32e95010204c",
   "metadata": {},
   "outputs": [],
   "source": []
  }
 ],
 "metadata": {
  "kernelspec": {
   "display_name": "Python 3 (ipykernel)",
   "language": "python",
   "name": "python3"
  },
  "language_info": {
   "codemirror_mode": {
    "name": "ipython",
    "version": 3
   },
   "file_extension": ".py",
   "mimetype": "text/x-python",
   "name": "python",
   "nbconvert_exporter": "python",
   "pygments_lexer": "ipython3",
   "version": "3.11.5"
  }
 },
 "nbformat": 4,
 "nbformat_minor": 5
}
