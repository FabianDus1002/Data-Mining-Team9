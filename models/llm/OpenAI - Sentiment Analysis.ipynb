{
 "cells": [
  {
   "cell_type": "markdown",
   "id": "192b6236",
   "metadata": {},
   "source": [
    "# Evaluating GPT 3.5 on sentiment analysis\n",
    "In this notebook, the GPT 3.5 model from OpenAI will be evaluated on a sentiment analysis task. The model will be applied through an API, and will be asked to categorize ratings from different exchange students into the sentiments \"positive\", \"neutral\" or \"negative\". Evaluation will be conducted using a confusion matrix, which will compare the sentiments predicted by GPT with manually labeled sentiments. Additionally, precision, recall, and F1 scores will be computed to provide a more comprehensive assessment of the model's performance."
   ]
  },
  {
   "cell_type": "markdown",
   "id": "0bcc1711",
   "metadata": {},
   "source": [
    "# Data import \n",
    "In this section every labelled data from the student data set is imported. As GPT will be evaluated on its sentiment categorization, only labelled datasets are utilized."
   ]
  },
  {
   "cell_type": "code",
   "execution_count": 1,
   "id": "e4256aba",
   "metadata": {},
   "outputs": [
    {
     "data": {
      "text/html": [
       "<div>\n",
       "<style scoped>\n",
       "    .dataframe tbody tr th:only-of-type {\n",
       "        vertical-align: middle;\n",
       "    }\n",
       "\n",
       "    .dataframe tbody tr th {\n",
       "        vertical-align: top;\n",
       "    }\n",
       "\n",
       "    .dataframe thead th {\n",
       "        text-align: right;\n",
       "    }\n",
       "</style>\n",
       "<table border=\"1\" class=\"dataframe\">\n",
       "  <thead>\n",
       "    <tr style=\"text-align: right;\">\n",
       "      <th></th>\n",
       "      <th>Studium</th>\n",
       "    </tr>\n",
       "  </thead>\n",
       "  <tbody>\n",
       "    <tr>\n",
       "      <th>0</th>\n",
       "      <td>Das Studium in Exeter war au§erordentlich sch...</td>\n",
       "    </tr>\n",
       "    <tr>\n",
       "      <th>1</th>\n",
       "      <td>Chulalongkorn ist ein Trumchen. Das Kursangeb...</td>\n",
       "    </tr>\n",
       "    <tr>\n",
       "      <th>2</th>\n",
       "      <td>Das Studium an sich ist weniger anspruchsvoll ...</td>\n",
       "    </tr>\n",
       "    <tr>\n",
       "      <th>3</th>\n",
       "      <td>Bereits im Sommer hatten wir eine Mail erhalte...</td>\n",
       "    </tr>\n",
       "    <tr>\n",
       "      <th>4</th>\n",
       "      <td>Es sind sehr viele Kurse auf Englisch angebote...</td>\n",
       "    </tr>\n",
       "    <tr>\n",
       "      <th>...</th>\n",
       "      <td>...</td>\n",
       "    </tr>\n",
       "    <tr>\n",
       "      <th>252</th>\n",
       "      <td>Das Studium an der EAFIT ist nicht mit Mannhei...</td>\n",
       "    </tr>\n",
       "    <tr>\n",
       "      <th>253</th>\n",
       "      <td>Das Studium an der Drexel University ist in Qu...</td>\n",
       "    </tr>\n",
       "    <tr>\n",
       "      <th>254</th>\n",
       "      <td>Das Studium am EUC unterscheidet sich nicht nu...</td>\n",
       "    </tr>\n",
       "    <tr>\n",
       "      <th>255</th>\n",
       "      <td>Im Vergleich zu Mannheim ist das Niveau auf je...</td>\n",
       "    </tr>\n",
       "    <tr>\n",
       "      <th>256</th>\n",
       "      <td>Die Universitten in Frankreich sind nicht zu ...</td>\n",
       "    </tr>\n",
       "  </tbody>\n",
       "</table>\n",
       "<p>257 rows × 1 columns</p>\n",
       "</div>"
      ],
      "text/plain": [
       "                                               Studium\n",
       "0    Das Studium in Exeter war au§erordentlich sch...\n",
       "1    Chulalongkorn ist ein Trumchen. Das Kursangeb...\n",
       "2    Das Studium an sich ist weniger anspruchsvoll ...\n",
       "3    Bereits im Sommer hatten wir eine Mail erhalte...\n",
       "4    Es sind sehr viele Kurse auf Englisch angebote...\n",
       "..                                                 ...\n",
       "252  Das Studium an der EAFIT ist nicht mit Mannhei...\n",
       "253  Das Studium an der Drexel University ist in Qu...\n",
       "254  Das Studium am EUC unterscheidet sich nicht nu...\n",
       "255  Im Vergleich zu Mannheim ist das Niveau auf je...\n",
       "256  Die Universitten in Frankreich sind nicht zu ...\n",
       "\n",
       "[257 rows x 1 columns]"
      ]
     },
     "metadata": {},
     "output_type": "display_data"
    }
   ],
   "source": [
    "import pandas as pd\n",
    "\n",
    "# import of data\n",
    "student_data_unpr = pd.read_csv(\"../../data/test_dataset_for_other_models.csv\", sep=\";\", encoding='latin1')\n",
    "student_data_unpr = student_data_unpr.drop(\"Unnamed: 0\", axis=1)\n",
    "\n",
    "#Creation of a copy and reduction to column \"Studium\"\n",
    "student_data = student_data_unpr\n",
    "student_data = student_data.drop(\"Studium_Label\", axis=1)\n",
    "\n",
    "display(student_data)"
   ]
  },
  {
   "cell_type": "markdown",
   "id": "5e29b04b",
   "metadata": {},
   "source": [
    "# [1] OpenAI GPT3.5 application\n",
    "\n",
    "Firstly, GPT is presented with a prompt tasking it to classify incoming inputs into one of three sentiment categories: \"positive\", \"neutral\", or \"negative\". This process occurs iteratively, with the prompt being included with each new request sent to the model. To enhance the objectivity and consistency of results, parameters such as temperature and seed are configured.\n",
    "\n",
    "The temperature parameter serves to temper the creativity of GPT's responses, promoting more objective outcomes. Meanwhile, the seed parameter is adjustable to any chosen value, ensuring greater consistency and determinism across multiple API calls, provided that the seed value remains constant."
   ]
  },
  {
   "cell_type": "code",
   "execution_count": 2,
   "id": "c17aac67",
   "metadata": {},
   "outputs": [],
   "source": [
    "#Opening the stream to OpenAI\n",
    "from openai import OpenAI\n",
    "client = OpenAI()"
   ]
  },
  {
   "cell_type": "code",
   "execution_count": 3,
   "id": "0a249f22",
   "metadata": {},
   "outputs": [],
   "source": [
    "#Prompt for GPT\n",
    "initial_message = {\"role\": \"user\", \"content\": \"You are my sentiment assistant. I want you to analyze my text and categorize it into the three sentiments: positive, neutral, negative. Only respond with either positive, neutral or negative.\"}\n",
    "\n",
    "results=[]\n",
    "results_df = []\n",
    "\n",
    "\n",
    "# Sending labeling requests to GPT\n",
    "for index, eintrag in student_data.iterrows():\n",
    "    for inhalt in eintrag:\n",
    "        response = client.chat.completions.create(\n",
    "        model=\"gpt-3.5-turbo\",\n",
    "            messages=[\n",
    "                initial_message,\n",
    "                {\"role\": \"user\", \"content\": inhalt}\n",
    "            ],\n",
    "            #Setting temperature to ensure objective responses\n",
    "            temperature=0,\n",
    "            #Setting the seed parameter to ensure more consistent results\n",
    "            seed = 123\n",
    "        )\n",
    "        \n",
    "        # Saving of responses \n",
    "        results.append({\"index\": index, \"sentimentPrediction\": response.choices[0].message.content.lower()})\n",
    "\n",
    "# Conversion of responses into dataframe\n",
    "results_df = pd.DataFrame(results)\n",
    "\n",
    "\n"
   ]
  },
  {
   "cell_type": "markdown",
   "id": "11cc10f0",
   "metadata": {},
   "source": [
    "# [1.1] Evaluation of GPT-3.5\n",
    "During the evaluation, a confusion matrix is employed to compare the predicted labels against the actual labels. It becomes apparent that GPT exhibits a bias towards categorizing inputs into more positive sentiments, evidenced by a precision of 1.0 for positive labels. Furthermore, the model achieves only an overall F1 score of 0.56. Notably, only 2 out of 35 negative datasets are correctly labeled, indicating a significant challenge in accurately identifying negative sentiments."
   ]
  },
  {
   "cell_type": "code",
   "execution_count": 16,
   "id": "5b5dfe5a",
   "metadata": {},
   "outputs": [],
   "source": [
    "#student_data=pd.read_excel(\"Evaluation_new.xlsx\")"
   ]
  },
  {
   "cell_type": "code",
   "execution_count": 4,
   "id": "6379e190",
   "metadata": {
    "scrolled": false
   },
   "outputs": [],
   "source": [
    "#Merge target labels with predicted labels and dropping of duplicated row\n",
    "results_df = results_df.drop(\"index\", axis=1)\n",
    "student_data = pd.concat([student_data_unpr, results_df], axis=1)\n",
    "student_data = student_data[student_data[\"Studium_Label\"].notnull()]\n",
    "\n",
    "\n",
    "#Convertion of all values into strings\n",
    "for x in student_data:\n",
    "    student_data[x] = student_data[x].astype(str)\n",
    "\n"
   ]
  },
  {
   "cell_type": "code",
   "execution_count": 17,
   "id": "e24e1dfa",
   "metadata": {
    "scrolled": true
   },
   "outputs": [
    {
     "data": {
      "image/png": "[encoded data removed]",
      "text/plain": [
       "<Figure size 640x480 with 2 Axes>"
      ]
     },
     "metadata": {},
     "output_type": "display_data"
    },
    {
     "name": "stdout",
     "output_type": "stream",
     "text": [
      "0.5642023346303502\n",
      "              precision    recall  f1-score   support\n",
      "\n",
      "    positive       1.00      0.06      0.11        35\n",
      "    negative       0.56      0.31      0.40       106\n",
      "     neutral       0.56      0.95      0.71       116\n",
      "\n",
      "    accuracy                           0.56       257\n",
      "   macro avg       0.71      0.44      0.40       257\n",
      "weighted avg       0.62      0.56      0.50       257\n",
      "\n"
     ]
    }
   ],
   "source": [
    "from sklearn.metrics import confusion_matrix, ConfusionMatrixDisplay, f1_score, classification_report\n",
    "import matplotlib.pyplot as plt\n",
    "\n",
    "#Creation of confusion matrix\n",
    "confusion_mat = confusion_matrix(student_data['Studium_Label'], student_data['sentimentPrediction'], labels=['positive', 'negative', 'neutral'])\n",
    "disp = ConfusionMatrixDisplay(confusion_matrix=confusion_mat, display_labels=['positive', 'negative', 'neutral'])\n",
    "disp.plot()\n",
    "plt.show()\n",
    "\n",
    "#Accuracy\n",
    "print(f1_score(student_data['Studium_Label'], student_data['sentimentPrediction'], labels=['positive', 'negative', 'neutral'], average='micro'))\n",
    "\n",
    "#Creation of presicion, recall, F1 and support\n",
    "print(classification_report(\n",
    "    student_data['Studium_Label'],\n",
    "    student_data['sentimentPrediction'],\n",
    "    output_dict=False,\n",
    "    labels=['positive', 'negative', 'neutral']\n",
    "))"
   ]
  },
  {
   "cell_type": "markdown",
   "id": "bcfd2771",
   "metadata": {},
   "source": [
    "# [2] Alteration of prompt towards more negative categorization\n",
    "As demonstrated in the first evaluation, GPT 3.5 exhibited a bias towards categorizing inputs into more positive sentiments. To improve the accuracy and achieve a more negative categorization tendency, GPT was presented with an altered prompt designed to influence its categorization towards negativity.\n",
    "\n",
    "The same parameters, with temperature set to 0 and seed set to 123 as in the initial approach, were utilized for consistency."
   ]
  },
  {
   "cell_type": "code",
   "execution_count": 6,
   "id": "5e04e97a",
   "metadata": {},
   "outputs": [],
   "source": [
    "#Prompt for GPT\n",
    "initial_message = {\"role\": \"user\", \"content\": \"You are my sentiment assistant. I want you to analyze my text and categorize it into the three sentiments: positive, neutral, negative. However, if a text has negative aspects, have a higher tendency towards a negative rating. Only respond with either positive, neutral or negative.\"}\n",
    "\n",
    "#Creation of a new data set\n",
    "student_data_altered = student_data_unpr\n",
    "student_data_altered = student_data_unpr.drop(\"Studium_Label\", axis=1)\n",
    "\n",
    "results=[]\n",
    "results_df = []\n",
    "\n",
    "# Sending labeling requests to GPT\n",
    "for index, eintrag in student_data_altered.iterrows():\n",
    "    for inhalt in eintrag:\n",
    "        response = client.chat.completions.create(\n",
    "        model=\"gpt-3.5-turbo\",\n",
    "            messages=[\n",
    "                initial_message,\n",
    "                {\"role\": \"user\", \"content\": inhalt}\n",
    "            ],\n",
    "            #Setting temperature to ensure objective responses\n",
    "            temperature=0,\n",
    "            #Setting the seed parameter to ensure more consistent results\n",
    "            seed = 123\n",
    "        )\n",
    "        \n",
    "        # Saving of responses \n",
    "        results.append({\"index\": index, \"alteredSentimentPrediction\": response.choices[0].message.content.lower()})\n",
    "\n",
    "# Conversion of responses into dataframe\n",
    "results_df = pd.DataFrame(results)\n",
    "\n"
   ]
  },
  {
   "cell_type": "markdown",
   "id": "08af0b83",
   "metadata": {},
   "source": [
    "# [2.1] Evaluation of more negative categorization\n",
    "In the second evaluation, GPT 3.5 persists in demonstrating a bias towards positive categorization, with a reduced precision of 0.5 for positive sentiments, compared to the first evaluation. However, despite this bias, the overall F1 score shows an improvement, increasing by 2%. Nevertheless, GPT continues to struggle with accurately categorizing negative sentiments, correctly identifying only 2 out of 35 negatively labeled datasets.\n",
    "\n"
   ]
  },
  {
   "cell_type": "code",
   "execution_count": 7,
   "id": "b152c40f",
   "metadata": {
    "scrolled": false
   },
   "outputs": [],
   "source": [
    "#Merging target labels with predicted labels and dropping of duplicated row\n",
    "results_df = results_df.drop(\"index\", axis=1)\n",
    "student_data_altered = pd.concat([student_data_unpr, results_df], axis=1)\n",
    "student_data_altered = student_data_altered[student_data_altered[\"Studium_Label\"].notnull()]\n",
    "\n",
    "#Adding of altered predictions to a dataframe in order to save all predictions in an excel\n",
    "altered_prediction = student_data_altered[\"alteredSentimentPrediction\"]\n",
    "student_data = pd.concat([student_data, altered_prediction], axis=1)\n",
    "\n",
    "\n",
    "#Convertion of all values into strings\n",
    "for x in student_data_altered:\n",
    "    student_data[x] = student_data[x].astype(str)\n",
    "\n"
   ]
  },
  {
   "cell_type": "code",
   "execution_count": 28,
   "id": "c74293a4",
   "metadata": {},
   "outputs": [],
   "source": [
    "student_data_altered=pd.read_excel(\"Evaluation_new.xlsx\")"
   ]
  },
  {
   "cell_type": "code",
   "execution_count": 29,
   "id": "51b54fd9",
   "metadata": {
    "scrolled": true
   },
   "outputs": [
    {
     "data": {
      "image/png": "[encoded data removed]",
      "text/plain": [
       "<Figure size 640x480 with 2 Axes>"
      ]
     },
     "metadata": {},
     "output_type": "display_data"
    },
    {
     "name": "stdout",
     "output_type": "stream",
     "text": [
      "0.5797665369649806\n",
      "              precision    recall  f1-score   support\n",
      "\n",
      "    positive       0.59      0.85      0.70       116\n",
      "    negative       0.50      0.06      0.10        35\n",
      "     neutral       0.56      0.45      0.50       106\n",
      "\n",
      "    accuracy                           0.58       257\n",
      "   macro avg       0.55      0.45      0.43       257\n",
      "weighted avg       0.57      0.58      0.54       257\n",
      "\n"
     ]
    }
   ],
   "source": [
    "from sklearn.metrics import confusion_matrix, ConfusionMatrixDisplay, f1_score, classification_report\n",
    "import matplotlib.pyplot as plt\n",
    "\n",
    "#Creation of confusion matrix\n",
    "confusion_mat = confusion_matrix(student_data_altered['Studium_Label'], student_data_altered['alteredSentimentPrediction'], labels=['positive', 'negative', 'neutral'])\n",
    "disp = ConfusionMatrixDisplay(confusion_matrix=confusion_mat, display_labels=['positive', 'negative', 'neutral'])\n",
    "disp.plot()\n",
    "plt.show()\n",
    "\n",
    "#Accuracy\n",
    "print(f1_score(student_data_altered['Studium_Label'], student_data_altered['alteredSentimentPrediction'], labels=['positive', 'negative', 'neutral'], average='micro'))\n",
    "\n",
    "#Creation of presicion, recall, F1 and support\n",
    "print(classification_report(\n",
    "    student_data_altered['Studium_Label'],\n",
    "    student_data_altered['alteredSentimentPrediction'],\n",
    "    output_dict=False,\n",
    "    labels=['positive', 'negative', 'neutral']\n",
    "))"
   ]
  },
  {
   "cell_type": "markdown",
   "id": "41f8e0d5",
   "metadata": {},
   "source": [
    "# [3] One shot learning with a negative and neutral example\n",
    "As observed in the second evaluation, GPT 3.5 maintained a bias towards categorizing inputs into more positive sentiments, despite efforts to steer it towards a more negative tendency.\n",
    "\n",
    "In an endeavor to enhance accuracy and foster a more negative categorization tendency, one-shot learning was implemented. In this approach, GPT was provided with a single example each for a negative data entry and a neutral entry.\n",
    "\n",
    "The same parameters, with temperature set to 0 and seed set to 123 as in the initial approach, were utilized for consistency"
   ]
  },
  {
   "cell_type": "code",
   "execution_count": 10,
   "id": "dbeba448",
   "metadata": {},
   "outputs": [],
   "source": [
    "#Prompt for GPT\n",
    "initial_message = {\"role\": \"user\", \"content\": \"You are my sentiment assistant. I want you to analyze my text and categorize it into the three sentiments: positive, neutral, negative. However, if a text has negative aspects, have a higher tendency towards a negative rating. This is an example for a negative labeled dataset: 'Die City University of Hong Kong hat eine große Kursauswahl. Die Kurse gehen für gewöhnlich drei Stunden lang und sie haben einen hohen Workload (vor allem im letzten Drittel der Vorlesungszeit). Das Kursniveau generell nicht auf dem von Mannheim. Es könnte ein kultureller Unterschied sein, aber die Fragestellungen für Essays und Gruppenarbeiten sind oftmals sehr vage und breit gefasst. Auch die Bewertung ist intransparent, man erhält kein Feedback bevor man die Endnote für den Kurs erhält. Mein Semester ging von Ende August bis Ende November (Vorlesungszeit). Nach einer Woche Pause beginnt die zwei wöchige Prüfungszeit und endet vor Weihnachten. Ich hatte jedoch keine Klausur in der Prüfungsphase, alle Abgaben (Essays, Gruppenberichte) und Präsentationen/Tests liefen unter dem Semester.Die Mensen der CityU sind sehr empfehlenswert. Westliches und asiatisches Essen ist beides vorhanden. Vor allem die Desserts in AC1 sind eine große Empfehlung.Das Sprachniveau war sehr durchmischt, sowohl bei Professoren, als auch bei Studenten. Teils waren Fragestellungen in Prüfungen sprachlich schwer verständlich. In Restaurants kommt man gut damit aus auf die Bilder/Karte zu zeigen.' This is an example for a neutral dataset: 'Da ich während Corona vor Ort war habe ich die Uni nur zweimal besucht. Die restlichen Monate hatte ich nur Online Vorlesungen. Von den Professoren und den Mitarbeitern kann ich sagen, dasss alle sehr nett und hilfsbereit waren. Falls ihr Probleme oder Fragen habt sendet einfach eine Email an das Studienbüro und die werden euch helfen.' Only respond with either positive, neutral or negative.\"}\n",
    "\n",
    "#Creation of a new data set\n",
    "student_data_oneshot = student_data_unpr\n",
    "student_data_oneshot = student_data_unpr.drop(\"Studium_Label\", axis=1)\n",
    "\n",
    "results=[]\n",
    "results_df = []\n",
    "\n",
    "# Sending labeling requests to GPT\n",
    "for index, eintrag in student_data_oneshot.iterrows():\n",
    "    for inhalt in eintrag:\n",
    "        response = client.chat.completions.create(\n",
    "        model=\"gpt-3.5-turbo\",\n",
    "            messages=[\n",
    "                initial_message,\n",
    "                {\"role\": \"user\", \"content\": inhalt}\n",
    "            ],\n",
    "            #Setting temperature to ensure objective responses\n",
    "            temperature=0,\n",
    "            #Setting the seed parameter to ensure more consistent results\n",
    "            seed = 123\n",
    "        )\n",
    "        \n",
    "        # Saving of responses \n",
    "        results.append({\"index\": index, \"oneshotSentimentPrediction\": response.choices[0].message.content.lower()})\n",
    "\n",
    "# Conversion of responses into dataframe\n",
    "results_df = pd.DataFrame(results)\n",
    "\n"
   ]
  },
  {
   "cell_type": "markdown",
   "id": "dcc7e3d2",
   "metadata": {},
   "source": [
    "# [3.1] One shot evaluation with a negative and neutral example \n",
    "\n",
    "In the third evaluation, GPT 3.5 demonstrated improved accuracy in categorizing negative data entries, achieving an increased precision of 0.79 for negative entries. Additionally, the overall F1 score improved to 0.63. However, it is noteworthy that neutral data entries also tend to be classified towards more negative categories.\n"
   ]
  },
  {
   "cell_type": "code",
   "execution_count": 12,
   "id": "bad2eea4",
   "metadata": {
    "scrolled": false
   },
   "outputs": [],
   "source": [
    "#Merging target labels with predicted labels and dropping of duplicated row\n",
    "results_df = results_df.drop(\"index\", axis=1)\n",
    "student_data_oneshot = pd.concat([student_data_unpr, results_df], axis=1)\n",
    "student_data_oneshot = student_data_oneshot[student_data_oneshot[\"Studium_Label\"].notnull()]\n",
    "\n",
    "#Adding of altered predictions to a dataframe in order to save all predictions in an excel\n",
    "oneshot_prediction = student_data_oneshot[\"oneshotSentimentPrediction\"]\n",
    "student_data = pd.concat([student_data, oneshot_prediction], axis=1)\n",
    "\n",
    "\n",
    "#Convertion of all values into strings\n",
    "for x in student_data_oneshot:\n",
    "    student_data[x] = student_data[x].astype(str)\n",
    "\n"
   ]
  },
  {
   "cell_type": "code",
   "execution_count": 20,
   "id": "d853c4f2",
   "metadata": {},
   "outputs": [],
   "source": [
    "#saving of data into an excel sheet\n",
    "#student_data.to_excel(\"Evaluation_new.xlsx\", index=False) \n",
    "#student_data_oneshot=pd.read_excel(\"Evaluation_new.xlsx\")"
   ]
  },
  {
   "cell_type": "code",
   "execution_count": 21,
   "id": "471dca7f",
   "metadata": {
    "scrolled": true
   },
   "outputs": [
    {
     "data": {
      "image/png": "[encoded data removed]",
      "text/plain": [
       "<Figure size 640x480 with 2 Axes>"
      ]
     },
     "metadata": {},
     "output_type": "display_data"
    },
    {
     "name": "stdout",
     "output_type": "stream",
     "text": [
      "0.6264591439688716\n",
      "              precision    recall  f1-score   support\n",
      "\n",
      "    positive       0.65      0.91      0.76       116\n",
      "    negative       0.43      0.63      0.51        35\n",
      "     neutral       0.79      0.31      0.45       106\n",
      "\n",
      "    accuracy                           0.63       257\n",
      "   macro avg       0.62      0.62      0.57       257\n",
      "weighted avg       0.67      0.63      0.60       257\n",
      "\n"
     ]
    }
   ],
   "source": [
    "from sklearn.metrics import confusion_matrix, ConfusionMatrixDisplay, f1_score, classification_report\n",
    "import matplotlib.pyplot as plt\n",
    "\n",
    "#Creation of confusion matrix\n",
    "confusion_mat = confusion_matrix(student_data_oneshot['Studium_Label'], student_data_oneshot['oneshotSentimentPrediction'], labels=['positive', 'negative', 'neutral'])\n",
    "disp = ConfusionMatrixDisplay(confusion_matrix=confusion_mat, display_labels=['positive', 'negative', 'neutral'])\n",
    "disp.plot()\n",
    "plt.show()\n",
    "\n",
    "#Accuracy\n",
    "print(f1_score(student_data_oneshot['Studium_Label'], student_data_oneshot['oneshotSentimentPrediction'], labels=['positive', 'negative', 'neutral'], average='micro'))\n",
    "\n",
    "#Creation of presicion, recall, F1 and support\n",
    "print(classification_report(\n",
    "    student_data_oneshot['Studium_Label'],\n",
    "    student_data_oneshot['oneshotSentimentPrediction'],\n",
    "    output_dict=False,\n",
    "    labels=['positive', 'negative', 'neutral']\n",
    "))"
   ]
  },
  {
   "cell_type": "markdown",
   "id": "edb9c752",
   "metadata": {},
   "source": [
    "# [4] Sentiment analysis with GPT-4o\n",
    "In contrast to GPT 3.5, GPT-4o is utilized in the subsequent analysis.\n",
    "\n",
    "The same parameters, with temperature set to 0 and seed set to 123 as in the initial approach, were utilized for consistency"
   ]
  },
  {
   "cell_type": "code",
   "execution_count": 15,
   "id": "78222413",
   "metadata": {},
   "outputs": [],
   "source": [
    "#Prompt for GPT\n",
    "initial_message = {\"role\": \"user\", \"content\": \"You are my sentiment assistant. I want you to analyze my text and categorize it into the three sentiments: positive, neutral, negative. Only respond with either positive, neutral or negative.\"}\n",
    "\n",
    "#Creation of a new data set\n",
    "student_data_4o = student_data_unpr\n",
    "student_data_4o = student_data_unpr.drop(\"Studium_Label\", axis=1)\n",
    "\n",
    "results=[]\n",
    "results_df = []\n",
    "\n",
    "\n",
    "# Sending labeling requests to GPT\n",
    "for index, eintrag in student_data_4o.iterrows():\n",
    "    for inhalt in eintrag:\n",
    "        response = client.chat.completions.create(\n",
    "        model=\"gpt-4o\",\n",
    "            messages=[\n",
    "                initial_message,\n",
    "                {\"role\": \"user\", \"content\": inhalt}\n",
    "            ],\n",
    "            #Setting temperature to ensure objective responses\n",
    "            temperature=0,\n",
    "            #Setting the seed parameter to ensure more consistent results\n",
    "            seed = 123\n",
    "        )\n",
    "        \n",
    "        # Saving of responses \n",
    "        results.append({\"index\": index, \"sentimentPrediction_4o\": response.choices[0].message.content.lower()})\n",
    "\n",
    "# Conversion of responses into dataframe\n",
    "results_df = pd.DataFrame(results)\n",
    "\n",
    "\n"
   ]
  },
  {
   "cell_type": "markdown",
   "id": "8a02e14c",
   "metadata": {},
   "source": [
    "# [4.1] Evaluation of GPT-4o\n",
    "\n",
    "In the evaluation of GPT-4o, it is apparent that the model exhibits a higher inclination towards categorizing data entries into neutral or negative sentiments. This shift results in an improved overall F1 score of 0.65. However, while the categorization accuracy for negative and neutral data entries improves, GPT-40 tends to inaccurately classify positive entries more frequently, often categorizing them as neutral. This trend is reflected in the positive precision, which reaches 0.78.\n"
   ]
  },
  {
   "cell_type": "code",
   "execution_count": 16,
   "id": "aa3dd8c3",
   "metadata": {
    "scrolled": false
   },
   "outputs": [],
   "source": [
    "#Merging target labels with predicted labels and dropping of duplicated row\n",
    "results_df = results_df.drop(\"index\", axis=1)\n",
    "student_data_4o = pd.concat([student_data_unpr, results_df], axis=1)\n",
    "student_data_4o = student_data_4o[student_data_4o[\"Studium_Label\"].notnull()]\n",
    "\n",
    "#Adding of altered predictions to a dataframe in order to save all predictions in an excel\n",
    "prediction_4o = student_data_4o[\"sentimentPrediction_4o\"]\n",
    "student_data = pd.concat([student_data, prediction_4o], axis=1)\n",
    "\n",
    "\n",
    "#Convertion of all values into strings\n",
    "for x in student_data:\n",
    "    student_data[x] = student_data[x].astype(str)\n",
    "\n"
   ]
  },
  {
   "cell_type": "code",
   "execution_count": 24,
   "id": "855dd502",
   "metadata": {},
   "outputs": [],
   "source": [
    "#saving of data into an excel sheet\n",
    "#student_data.to_excel(\"Evaluation_new.xlsx\", index=False) \n",
    "#student_data_4o=pd.read_excel(\"Evaluation_new.xlsx\")"
   ]
  },
  {
   "cell_type": "code",
   "execution_count": 25,
   "id": "c784b95c",
   "metadata": {
    "scrolled": true
   },
   "outputs": [
    {
     "data": {
      "image/png": "[encoded data removed]",
      "text/plain": [
       "<Figure size 640x480 with 2 Axes>"
      ]
     },
     "metadata": {},
     "output_type": "display_data"
    },
    {
     "name": "stdout",
     "output_type": "stream",
     "text": [
      "0.6498054474708171\n",
      "              precision    recall  f1-score   support\n",
      "\n",
      "    positive       0.82      0.52      0.63       116\n",
      "    negative       0.78      0.40      0.53        35\n",
      "     neutral       0.56      0.88      0.68       106\n",
      "\n",
      "    accuracy                           0.65       257\n",
      "   macro avg       0.72      0.60      0.62       257\n",
      "weighted avg       0.71      0.65      0.64       257\n",
      "\n"
     ]
    }
   ],
   "source": [
    "from sklearn.metrics import confusion_matrix, ConfusionMatrixDisplay, f1_score, classification_report\n",
    "import matplotlib.pyplot as plt\n",
    "\n",
    "#Creation of confusion matrix\n",
    "confusion_mat = confusion_matrix(student_data_4o['Studium_Label'], student_data_4o['sentimentPrediction_4o'], labels=['positive', 'negative', 'neutral'])\n",
    "disp = ConfusionMatrixDisplay(confusion_matrix=confusion_mat, display_labels=['positive', 'negative', 'neutral'])\n",
    "disp.plot()\n",
    "plt.show()\n",
    "\n",
    "#Accuracy\n",
    "print(f1_score(student_data_4o['Studium_Label'], student_data_4o['sentimentPrediction_4o'], labels=['positive', 'negative', 'neutral'], average='micro'))\n",
    "\n",
    "#Creation of presicion, recall, F1 and support\n",
    "print(classification_report(\n",
    "    student_data_4o['Studium_Label'],\n",
    "    student_data_4o['sentimentPrediction_4o'],\n",
    "    output_dict=False,\n",
    "    labels=['positive', 'negative', 'neutral']\n",
    "))"
   ]
  },
  {
   "cell_type": "markdown",
   "id": "8fe8afe1",
   "metadata": {},
   "source": [
    "# [5] One shot learning with a GPT-4o with a negative example\n",
    "To address the tendency of GPT-40 to categorize more towards negative or neutral sentiments, a one-shot learning method is implemented. This involves providing a positive example to the model to encourage more accurate categorization of positive sentiments, with the aim of increasing the overall F1 score.\n",
    "\n",
    "The same parameters, with temperature set to 0 and seed set to 123 as in the initial approach, were utilized for consistency"
   ]
  },
  {
   "cell_type": "code",
   "execution_count": 20,
   "id": "16975785",
   "metadata": {},
   "outputs": [],
   "source": [
    "#Prompt for GPT\n",
    "initial_message = {\"role\": \"user\", \"content\": \"You are my sentiment assistant. I want you to analyze my text and categorize it into the three sentiments: positive, neutral, negative.However, if a text has positive aspects, have a higher tendency towards a positive rating. This is an example for a positive labeled dataset:'Das Campusleben ist im Vergleich zu Mannheim unfassbar vielseitig. Ständig finden Festivals, Messen oder Kulturveranstaltungen statt. Manchmal bekommt man davon im Vorhinein gar nichts mit, sondern sieht dann nur die Stände auf dem Campus. Dabei gibt sich die PolyU größte Mühe und designt für jede Veranstaltung eigene Banner, Aufsteller und Stände. In meinem Semester gab es zum Beispiel einen Initiativenmarkt, ein Cultural Diversity-Festival und eine Karriere Messe. Auch sonst ist auf dem Campus immer viel los und man trifft ständig Austauschstudierende auf dem Weg zur Vorlesung oder in der Mensa. Die PolyU hat insgesamt 16 verschieden Cafés und Mensen, die alle unterschiedlich gut und teuer sind. Mit der Zeit findet man heraus, was einem liegt. Das vegetarische oder gar vegane Angebot ist dabei aber leider sehr limitiert, was aber überall in Hong Kong der Fall ist. Außerdem gibt es auf dem Campus Sportstätten (Freibad, Tennis-Plätze, Sporthallen, Gym), einen 7Eleven (kleiner Supermarkt) und Bankfilialen.  Das Visum erlaubt nicht, in Hong Kong zu arbeiten. Es mag am Anfang schwerfallen, manche DozentInnen zu verstehen, mit der Zeit gewöhnt man sich aber an das Englisch mit Akzent, sodass man das meiste versteht. Ab und zu kann es jedoch sein, dass Rückfragen nicht ganz richtig verstanden werden, da muss man einfach Geduld mitbringen und immer wieder nachhaken. Insgesamt ist das Sprachniveau aber bei den Lehrenden deutlich besser als bei den Studierenden, da die meisten Studierenden aus Hong Kong oder Mainland China kommen und dort weniger Wert auf die Kommunikation in Englisch als auf das Schriftliche gelegt wird. Dafür gibt es aber auch Studierende, die wirklich gutes Englisch sprechen. Die Uni bietet sehr viele Sprachkurse und andere Angebote an, bei denen man seine Sprachkompetenzen verbessern kann. Meist ist es aber so, dass das Niveau der Deutschen Studierenden besser ist als das der Locals. So kann man zum Beispiel auch SprachpartnerIn für Locals werden und so auch in Kontakt mit ihnen kommen.' Only respond with either positive, neutral or negative.\"}\n",
    "\n",
    "#Creation of a new data set\n",
    "student_data_4o_oneshot = student_data_unpr\n",
    "student_data_4o_oneshot = student_data_unpr.drop(\"Studium_Label\", axis=1)\n",
    "\n",
    "results=[]\n",
    "results_df = []\n",
    "\n",
    "\n",
    "# Sending labeling requests to GPT\n",
    "for index, eintrag in student_data_4o_oneshot.iterrows():\n",
    "    for inhalt in eintrag:\n",
    "        response = client.chat.completions.create(\n",
    "        model=\"gpt-3.5-turbo\",\n",
    "            messages=[\n",
    "                initial_message,\n",
    "                {\"role\": \"user\", \"content\": inhalt}\n",
    "            ],\n",
    "            #Setting temperature to ensure objective responses\n",
    "            temperature=0,\n",
    "            #Setting the seed parameter to ensure more consistent results\n",
    "            seed = 123\n",
    "        )\n",
    "        \n",
    "        # Saving of responses \n",
    "        results.append({\"index\": index, \"oneshot_sentimentPrediction_4o\": response.choices[0].message.content.lower()})\n",
    "\n",
    "# Conversion of responses into dataframe\n",
    "results_df = pd.DataFrame(results)\n",
    "\n"
   ]
  },
  {
   "cell_type": "markdown",
   "id": "cb3a2741",
   "metadata": {},
   "source": [
    "# [5.1] One shot evaluation of GPT-4o with a negative example\n",
    "\n",
    "Following the application of the one-shot learning method, the performance of GPT-4o drops significantly. The overall F1 score decreases to 0.51, indicating a tendency to categorize data entries too positively. Although the precision for positive data entries remains relatively high at 0.75, the precision for negative and neutral entries decreases to 0.57 and 0.5, respectively.\n"
   ]
  },
  {
   "cell_type": "code",
   "execution_count": 21,
   "id": "de6dc0b5",
   "metadata": {
    "scrolled": false
   },
   "outputs": [],
   "source": [
    "#Merging target labels with predicted labels and dropping of duplicated row\n",
    "results_df = results_df.drop(\"index\", axis=1)\n",
    "student_data_4o_oneshot = pd.concat([student_data_unpr, results_df], axis=1)\n",
    "student_data_4o_oneshot = student_data_4o_oneshot[student_data_4o_oneshot[\"Studium_Label\"].notnull()]\n",
    "\n",
    "#Adding of altered predictions to a dataframe in order to save all predictions in an excel\n",
    "prediction_4o_oneshot =student_data_4o_oneshot[\"oneshot_sentimentPrediction_4o\"]\n",
    "student_data = pd.concat([student_data, prediction_4o_oneshot], axis=1)\n",
    "\n",
    "\n",
    "#Convertion of all values into strings\n",
    "for x in student_data:\n",
    "    student_data[x] = student_data[x].astype(str)\n",
    "\n"
   ]
  },
  {
   "cell_type": "code",
   "execution_count": 22,
   "id": "95c5a949",
   "metadata": {},
   "outputs": [],
   "source": [
    "#saving of data into an excel sheet\n",
    "student_data.to_excel(\"Evaluation_new.xlsx\", index=False) "
   ]
  },
  {
   "cell_type": "code",
   "execution_count": 26,
   "id": "1d0f584d",
   "metadata": {},
   "outputs": [],
   "source": [
    "#student_data_4o_oneshot=pd.read_excel(\"Evaluation_new.xlsx\")"
   ]
  },
  {
   "cell_type": "code",
   "execution_count": 27,
   "id": "4e28c32e",
   "metadata": {
    "scrolled": true
   },
   "outputs": [
    {
     "data": {
      "image/png": "[encoded data removed]",
      "text/plain": [
       "<Figure size 640x480 with 2 Axes>"
      ]
     },
     "metadata": {},
     "output_type": "display_data"
    },
    {
     "name": "stdout",
     "output_type": "stream",
     "text": [
      "0.5136186770428015\n",
      "              precision    recall  f1-score   support\n",
      "\n",
      "    positive       0.50      0.98      0.66       116\n",
      "    negative       0.75      0.17      0.28        35\n",
      "     neutral       0.57      0.11      0.19       106\n",
      "\n",
      "    accuracy                           0.51       257\n",
      "   macro avg       0.61      0.42      0.38       257\n",
      "weighted avg       0.56      0.51      0.42       257\n",
      "\n"
     ]
    }
   ],
   "source": [
    "from sklearn.metrics import confusion_matrix, ConfusionMatrixDisplay, f1_score, classification_report\n",
    "import matplotlib.pyplot as plt\n",
    "\n",
    "#Creation of confusion matrix\n",
    "confusion_mat = confusion_matrix(student_data_4o_oneshot['Studium_Label'], student_data_4o_oneshot['oneshot_sentimentPrediction_4o'], labels=['positive', 'negative', 'neutral'])\n",
    "disp = ConfusionMatrixDisplay(confusion_matrix=confusion_mat, display_labels=['positive', 'negative', 'neutral'])\n",
    "disp.plot()\n",
    "plt.show()\n",
    "\n",
    "#Accuracy\n",
    "print(f1_score(student_data_4o_oneshot['Studium_Label'], student_data_4o_oneshot['oneshot_sentimentPrediction_4o'], labels=['positive', 'negative', 'neutral'], average='micro'))\n",
    "\n",
    "#Creation of presicion, recall, F1 and support\n",
    "print(classification_report(\n",
    "    student_data_4o_oneshot['Studium_Label'],\n",
    "    student_data_4o_oneshot['oneshot_sentimentPrediction_4o'],\n",
    "    output_dict=False,\n",
    "    labels=['positive', 'negative', 'neutral']\n",
    "))"
   ]
  },
  {
   "cell_type": "code",
   "execution_count": null,
   "id": "90803cdd",
   "metadata": {},
   "outputs": [],
   "source": []
  }
 ],
 "metadata": {
  "kernelspec": {
   "display_name": "Python 3 (ipykernel)",
   "language": "python",
   "name": "python3"
  },
  "language_info": {
   "codemirror_mode": {
    "name": "ipython",
    "version": 3
   },
   "file_extension": ".py",
   "mimetype": "text/x-python",
   "name": "python",
   "nbconvert_exporter": "python",
   "pygments_lexer": "ipython3",
   "version": "3.11.5"
  }
 },
 "nbformat": 4,
 "nbformat_minor": 5
}
